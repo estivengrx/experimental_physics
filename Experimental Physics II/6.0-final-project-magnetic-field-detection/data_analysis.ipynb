{
 "cells": [
  {
   "cell_type": "code",
   "execution_count": 2,
   "metadata": {},
   "outputs": [],
   "source": [
    "import pandas as pd\n",
    "import numpy as np\n",
    "import seaborn as sns\n",
    "import matplotlib.pyplot as plt\n",
    "import plotly.express as px\n",
    "import plotly.graph_objects as go\n",
    "import os\n",
    "import warnings\n",
    "\n",
    "from scipy.optimize import curve_fit\n",
    "from sklearn.metrics import r2_score, mean_squared_error, mean_absolute_error\n",
    "from plotly.subplots import make_subplots\n",
    "\n",
    "warnings.simplefilter(action='ignore', category=FutureWarning)"
   ]
  },
  {
   "cell_type": "markdown",
   "metadata": {},
   "source": [
    "Código para transformar los datos en formato .txt a .csv para el tratamiento con pandas"
   ]
  },
  {
   "cell_type": "code",
   "execution_count": 44,
   "metadata": {},
   "outputs": [],
   "source": [
    "# Ruta del directorio que contiene los archivos de texto\n",
    "ruta = 'D:/Estiven/Datos/Proyectos/fisica_experimental_lab/6.0-final-project-magnetic-field-detection'\n",
    "\n",
    "for archivo_txt in os.listdir(ruta):\n",
    "    if archivo_txt.endswith('.txt'):\n",
    "        # Obtener el nombre del archivo sin la extensión\n",
    "        nombre_archivo = os.path.splitext(archivo_txt)[0]\n",
    "        \n",
    "        # Leer el archivo y guardarlo como csv\n",
    "        archivo = pd.read_csv(os.path.join(ruta, archivo_txt), encoding='latin-1')\n",
    "        archivo.to_csv(os.path.join(ruta, f'{nombre_archivo}.csv'), index=None)"
   ]
  },
  {
   "cell_type": "markdown",
   "metadata": {},
   "source": [
    "Función para transformar los datos y normalizar la base de datos"
   ]
  },
  {
   "cell_type": "code",
   "execution_count": 45,
   "metadata": {},
   "outputs": [],
   "source": [
    "def transformacion_columnas(ruta: str):\n",
    "    for archivo_csv in os.listdir(ruta):\n",
    "        if archivo_csv.endswith('.csv'):\n",
    "            nombre_archivo = os.path.splitext(archivo_csv)[0]\n",
    "            datos = pd.read_csv(archivo_csv, names=['estado_digital', 'valor_sensor', 'voltaje', 'campo_gauss', 'campo_militeslas'])\n",
    "\n",
    "            # Recorrer columnas y aplicar transformación a los valores\n",
    "            for columna in datos:\n",
    "                datos[columna] = datos[columna].apply(lambda x: x.split(':')[-1])\n",
    "\n",
    "            datos.to_csv(f'{ruta}/{nombre_archivo}.csv', index=None, sep=';')\n",
    "\n",
    "transformacion_columnas(ruta)"
   ]
  },
  {
   "cell_type": "code",
   "execution_count": 12,
   "metadata": {},
   "outputs": [
    {
     "data": {
      "text/html": [
       "<div>\n",
       "<style scoped>\n",
       "    .dataframe tbody tr th:only-of-type {\n",
       "        vertical-align: middle;\n",
       "    }\n",
       "\n",
       "    .dataframe tbody tr th {\n",
       "        vertical-align: top;\n",
       "    }\n",
       "\n",
       "    .dataframe thead th {\n",
       "        text-align: right;\n",
       "    }\n",
       "</style>\n",
       "<table border=\"1\" class=\"dataframe\">\n",
       "  <thead>\n",
       "    <tr style=\"text-align: right;\">\n",
       "      <th></th>\n",
       "      <th>estado_digital</th>\n",
       "      <th>valor_sensor</th>\n",
       "      <th>voltaje</th>\n",
       "      <th>campo_gauss</th>\n",
       "      <th>campo_militeslas</th>\n",
       "      <th>distancia_metros</th>\n",
       "    </tr>\n",
       "  </thead>\n",
       "  <tbody>\n",
       "    <tr>\n",
       "      <th>0</th>\n",
       "      <td>0</td>\n",
       "      <td>533</td>\n",
       "      <td>260.508</td>\n",
       "      <td>0.00543</td>\n",
       "      <td>0.00054</td>\n",
       "      <td>0.15</td>\n",
       "    </tr>\n",
       "    <tr>\n",
       "      <th>1</th>\n",
       "      <td>0</td>\n",
       "      <td>536</td>\n",
       "      <td>261.975</td>\n",
       "      <td>0.01357</td>\n",
       "      <td>0.00136</td>\n",
       "      <td>0.10</td>\n",
       "    </tr>\n",
       "    <tr>\n",
       "      <th>2</th>\n",
       "      <td>0</td>\n",
       "      <td>551</td>\n",
       "      <td>269.306</td>\n",
       "      <td>0.05430</td>\n",
       "      <td>0.00543</td>\n",
       "      <td>0.05</td>\n",
       "    </tr>\n",
       "    <tr>\n",
       "      <th>3</th>\n",
       "      <td>0</td>\n",
       "      <td>586</td>\n",
       "      <td>286.413</td>\n",
       "      <td>0.14934</td>\n",
       "      <td>0.01493</td>\n",
       "      <td>0.01</td>\n",
       "    </tr>\n",
       "  </tbody>\n",
       "</table>\n",
       "</div>"
      ],
      "text/plain": [
       "   estado_digital  valor_sensor  voltaje  campo_gauss  campo_militeslas  \\\n",
       "0               0           533  260.508      0.00543           0.00054   \n",
       "1               0           536  261.975      0.01357           0.00136   \n",
       "2               0           551  269.306      0.05430           0.00543   \n",
       "3               0           586  286.413      0.14934           0.01493   \n",
       "\n",
       "   distancia_metros  \n",
       "0              0.15  \n",
       "1              0.10  \n",
       "2              0.05  \n",
       "3              0.01  "
      ]
     },
     "execution_count": 12,
     "metadata": {},
     "output_type": "execute_result"
    }
   ],
   "source": [
    "# Lectura de datos\n",
    "datos_iman1 = pd.read_json('{\"estado_digital\":{\"0\":0,\"1\":0,\"2\":0,\"3\":0},\"valor_sensor\":{\"0\":533,\"1\":536,\"2\":551,\"3\":586},\"voltaje\":{\"0\":260.508,\"1\":261.975,\"2\":269.306,\"3\":286.413},\"campo_gauss\":{\"0\":0.00543,\"1\":0.01357,\"2\":0.0543,\"3\":0.14934},\"campo_militeslas\":{\"0\":0.00054,\"1\":0.00136,\"2\":0.00543,\"3\":0.01493},\"distancia_metros\":{\"0\":0.15,\"1\":0.1,\"2\":0.05,\"3\":0.01}}')\n",
    "datos_iman2 = pd.read_json('{\"estado_digital\":{\"0\":0,\"1\":0,\"2\":0,\"3\":0,\"4\":0},\"valor_sensor\":{\"0\":536,\"1\":539,\"2\":546,\"3\":559,\"4\":580},\"voltaje\":{\"0\":261.975,\"1\":263.441,\"2\":266.862,\"3\":273.216,\"4\":283.48},\"campo_gauss\":{\"0\":0.01629,\"1\":0.02444,\"2\":0.04345,\"3\":0.07875,\"4\":0.13577},\"campo_militeslas\":{\"0\":0.00163,\"1\":0.00244,\"2\":0.00434,\"3\":0.00787,\"4\":0.01358},\"distancia_metros\":{\"0\":0.1,\"1\":0.08,\"2\":0.06,\"3\":0.04,\"4\":0.02}}')\n",
    "datos_iman3 = pd.read_json('{\"estado_digital\":{\"0\":0,\"1\":0,\"2\":0,\"3\":0,\"4\":0},\"valor_sensor\":{\"0\":528,\"1\":527,\"2\":526,\"3\":525,\"4\":523},\"voltaje\":{\"0\":258.065,\"1\":257.576,\"2\":257.087,\"3\":256.598,\"4\":255.621},\"campo_gauss\":{\"0\":-0.00543,\"1\":-0.00814,\"2\":-0.01086,\"3\":-0.01357,\"4\":-0.019},\"campo_militeslas\":{\"0\":-0.00054,\"1\":-0.00081,\"2\":-0.00109,\"3\":-0.00136,\"4\":-0.0019},\"distancia_metros\":{\"0\":0.05,\"1\":0.04,\"2\":0.03,\"3\":0.02,\"4\":0.01}}')\n",
    "datos_iman4 = pd.read_json('{\"estado_digital\":{\"0\":0,\"1\":0,\"2\":0,\"3\":0},\"valor_sensor\":{\"0\":531,\"1\":533,\"2\":537,\"3\":547},\"voltaje\":{\"0\":259.531,\"1\":260.508,\"2\":262.463,\"3\":267.351},\"campo_gauss\":{\"0\":0.00272,\"1\":0.00815,\"2\":0.01901,\"3\":0.04616},\"campo_militeslas\":{\"0\":0.00027,\"1\":0.00081,\"2\":0.0019,\"3\":0.00462},\"distancia_metros\":{\"0\":0.05,\"1\":0.04,\"2\":0.03,\"3\":0.02}}')\n",
    "datos_iman1"
   ]
  },
  {
   "cell_type": "code",
   "execution_count": 13,
   "metadata": {},
   "outputs": [
    {
     "data": {
      "text/html": [
       "<div>\n",
       "<style scoped>\n",
       "    .dataframe tbody tr th:only-of-type {\n",
       "        vertical-align: middle;\n",
       "    }\n",
       "\n",
       "    .dataframe tbody tr th {\n",
       "        vertical-align: top;\n",
       "    }\n",
       "\n",
       "    .dataframe thead th {\n",
       "        text-align: right;\n",
       "    }\n",
       "</style>\n",
       "<table border=\"1\" class=\"dataframe\">\n",
       "  <thead>\n",
       "    <tr style=\"text-align: right;\">\n",
       "      <th></th>\n",
       "      <th>iman</th>\n",
       "      <th>estado_digital</th>\n",
       "      <th>valor_sensor</th>\n",
       "      <th>voltaje</th>\n",
       "      <th>campo_gauss</th>\n",
       "      <th>campo_militeslas</th>\n",
       "      <th>distancia_metros</th>\n",
       "    </tr>\n",
       "  </thead>\n",
       "  <tbody>\n",
       "    <tr>\n",
       "      <th>0</th>\n",
       "      <td>1</td>\n",
       "      <td>0</td>\n",
       "      <td>533</td>\n",
       "      <td>260.508</td>\n",
       "      <td>0.00543</td>\n",
       "      <td>0.00054</td>\n",
       "      <td>0.15</td>\n",
       "    </tr>\n",
       "    <tr>\n",
       "      <th>1</th>\n",
       "      <td>1</td>\n",
       "      <td>0</td>\n",
       "      <td>536</td>\n",
       "      <td>261.975</td>\n",
       "      <td>0.01357</td>\n",
       "      <td>0.00136</td>\n",
       "      <td>0.10</td>\n",
       "    </tr>\n",
       "    <tr>\n",
       "      <th>2</th>\n",
       "      <td>1</td>\n",
       "      <td>0</td>\n",
       "      <td>551</td>\n",
       "      <td>269.306</td>\n",
       "      <td>0.05430</td>\n",
       "      <td>0.00543</td>\n",
       "      <td>0.05</td>\n",
       "    </tr>\n",
       "    <tr>\n",
       "      <th>3</th>\n",
       "      <td>1</td>\n",
       "      <td>0</td>\n",
       "      <td>586</td>\n",
       "      <td>286.413</td>\n",
       "      <td>0.14934</td>\n",
       "      <td>0.01493</td>\n",
       "      <td>0.01</td>\n",
       "    </tr>\n",
       "  </tbody>\n",
       "</table>\n",
       "</div>"
      ],
      "text/plain": [
       "   iman  estado_digital  valor_sensor  voltaje  campo_gauss  campo_militeslas  \\\n",
       "0     1               0           533  260.508      0.00543           0.00054   \n",
       "1     1               0           536  261.975      0.01357           0.00136   \n",
       "2     1               0           551  269.306      0.05430           0.00543   \n",
       "3     1               0           586  286.413      0.14934           0.01493   \n",
       "\n",
       "   distancia_metros  \n",
       "0              0.15  \n",
       "1              0.10  \n",
       "2              0.05  \n",
       "3              0.01  "
      ]
     },
     "execution_count": 13,
     "metadata": {},
     "output_type": "execute_result"
    }
   ],
   "source": [
    "# Transformaciones y unión de los datos\n",
    "datos_totales = pd.concat([datos_iman1, datos_iman2, datos_iman3, datos_iman4], keys=['1', '2', '3', '4'])\n",
    "datos_totales = datos_totales.reset_index(level=0).rename(columns={'level_0': 'iman'})\n",
    "datos_totales['campo_militeslas'] = datos_totales['campo_militeslas'].apply(lambda x: abs(x))\n",
    "datos_totales['campo_gauss'] = datos_totales['campo_gauss'].apply(lambda x: abs(x))\n",
    "datos_totales['iman'] = datos_totales['iman'].astype('int')\n",
    "\n",
    "datos_totales.head(4)"
   ]
  },
  {
   "cell_type": "code",
   "execution_count": 14,
   "metadata": {},
   "outputs": [
    {
     "data": {
      "application/vnd.plotly.v1+json": {
       "config": {
        "plotlyServerURL": "https://plot.ly"
       },
       "data": [
        {
         "hovertemplate": "iman=1<br>Distancia (metros)=%{x}<br>Campo (militeslas)=%{y}<extra></extra>",
         "legendgroup": "1",
         "line": {
          "color": "#636efa",
          "dash": "solid"
         },
         "marker": {
          "symbol": "circle"
         },
         "mode": "lines",
         "name": "1",
         "orientation": "v",
         "showlegend": true,
         "type": "scatter",
         "x": [
          0.15,
          0.1,
          0.05,
          0.01
         ],
         "xaxis": "x",
         "y": [
          0.00054,
          0.00136,
          0.005430000000000001,
          0.01493
         ],
         "yaxis": "y"
        },
        {
         "hovertemplate": "iman=2<br>Distancia (metros)=%{x}<br>Campo (militeslas)=%{y}<extra></extra>",
         "legendgroup": "2",
         "line": {
          "color": "#EF553B",
          "dash": "solid"
         },
         "marker": {
          "symbol": "circle"
         },
         "mode": "lines",
         "name": "2",
         "orientation": "v",
         "showlegend": true,
         "type": "scatter",
         "x": [
          0.1,
          0.08,
          0.06,
          0.04,
          0.02
         ],
         "xaxis": "x",
         "y": [
          0.0016300000000000002,
          0.0024400000000000003,
          0.00434,
          0.00787,
          0.013580000000000002
         ],
         "yaxis": "y"
        },
        {
         "hovertemplate": "iman=3<br>Distancia (metros)=%{x}<br>Campo (militeslas)=%{y}<extra></extra>",
         "legendgroup": "3",
         "line": {
          "color": "#00cc96",
          "dash": "solid"
         },
         "marker": {
          "symbol": "circle"
         },
         "mode": "lines",
         "name": "3",
         "orientation": "v",
         "showlegend": true,
         "type": "scatter",
         "x": [
          0.05,
          0.04,
          0.03,
          0.02,
          0.01
         ],
         "xaxis": "x",
         "y": [
          0.00054,
          0.0008100000000000001,
          0.00109,
          0.00136,
          0.0019
         ],
         "yaxis": "y"
        },
        {
         "hovertemplate": "iman=4<br>Distancia (metros)=%{x}<br>Campo (militeslas)=%{y}<extra></extra>",
         "legendgroup": "4",
         "line": {
          "color": "#ab63fa",
          "dash": "solid"
         },
         "marker": {
          "symbol": "circle"
         },
         "mode": "lines",
         "name": "4",
         "orientation": "v",
         "showlegend": true,
         "type": "scatter",
         "x": [
          0.05,
          0.04,
          0.03,
          0.02
         ],
         "xaxis": "x",
         "y": [
          0.00027,
          0.0008100000000000001,
          0.0019,
          0.00462
         ],
         "yaxis": "y"
        }
       ],
       "layout": {
        "height": 500,
        "legend": {
         "title": {
          "text": "Imán"
         },
         "tracegroupgap": 0
        },
        "template": {
         "data": {
          "bar": [
           {
            "error_x": {
             "color": "#2a3f5f"
            },
            "error_y": {
             "color": "#2a3f5f"
            },
            "marker": {
             "line": {
              "color": "#E5ECF6",
              "width": 0.5
             },
             "pattern": {
              "fillmode": "overlay",
              "size": 10,
              "solidity": 0.2
             }
            },
            "type": "bar"
           }
          ],
          "barpolar": [
           {
            "marker": {
             "line": {
              "color": "#E5ECF6",
              "width": 0.5
             },
             "pattern": {
              "fillmode": "overlay",
              "size": 10,
              "solidity": 0.2
             }
            },
            "type": "barpolar"
           }
          ],
          "carpet": [
           {
            "aaxis": {
             "endlinecolor": "#2a3f5f",
             "gridcolor": "white",
             "linecolor": "white",
             "minorgridcolor": "white",
             "startlinecolor": "#2a3f5f"
            },
            "baxis": {
             "endlinecolor": "#2a3f5f",
             "gridcolor": "white",
             "linecolor": "white",
             "minorgridcolor": "white",
             "startlinecolor": "#2a3f5f"
            },
            "type": "carpet"
           }
          ],
          "choropleth": [
           {
            "colorbar": {
             "outlinewidth": 0,
             "ticks": ""
            },
            "type": "choropleth"
           }
          ],
          "contour": [
           {
            "colorbar": {
             "outlinewidth": 0,
             "ticks": ""
            },
            "colorscale": [
             [
              0,
              "#0d0887"
             ],
             [
              0.1111111111111111,
              "#46039f"
             ],
             [
              0.2222222222222222,
              "#7201a8"
             ],
             [
              0.3333333333333333,
              "#9c179e"
             ],
             [
              0.4444444444444444,
              "#bd3786"
             ],
             [
              0.5555555555555556,
              "#d8576b"
             ],
             [
              0.6666666666666666,
              "#ed7953"
             ],
             [
              0.7777777777777778,
              "#fb9f3a"
             ],
             [
              0.8888888888888888,
              "#fdca26"
             ],
             [
              1,
              "#f0f921"
             ]
            ],
            "type": "contour"
           }
          ],
          "contourcarpet": [
           {
            "colorbar": {
             "outlinewidth": 0,
             "ticks": ""
            },
            "type": "contourcarpet"
           }
          ],
          "heatmap": [
           {
            "colorbar": {
             "outlinewidth": 0,
             "ticks": ""
            },
            "colorscale": [
             [
              0,
              "#0d0887"
             ],
             [
              0.1111111111111111,
              "#46039f"
             ],
             [
              0.2222222222222222,
              "#7201a8"
             ],
             [
              0.3333333333333333,
              "#9c179e"
             ],
             [
              0.4444444444444444,
              "#bd3786"
             ],
             [
              0.5555555555555556,
              "#d8576b"
             ],
             [
              0.6666666666666666,
              "#ed7953"
             ],
             [
              0.7777777777777778,
              "#fb9f3a"
             ],
             [
              0.8888888888888888,
              "#fdca26"
             ],
             [
              1,
              "#f0f921"
             ]
            ],
            "type": "heatmap"
           }
          ],
          "heatmapgl": [
           {
            "colorbar": {
             "outlinewidth": 0,
             "ticks": ""
            },
            "colorscale": [
             [
              0,
              "#0d0887"
             ],
             [
              0.1111111111111111,
              "#46039f"
             ],
             [
              0.2222222222222222,
              "#7201a8"
             ],
             [
              0.3333333333333333,
              "#9c179e"
             ],
             [
              0.4444444444444444,
              "#bd3786"
             ],
             [
              0.5555555555555556,
              "#d8576b"
             ],
             [
              0.6666666666666666,
              "#ed7953"
             ],
             [
              0.7777777777777778,
              "#fb9f3a"
             ],
             [
              0.8888888888888888,
              "#fdca26"
             ],
             [
              1,
              "#f0f921"
             ]
            ],
            "type": "heatmapgl"
           }
          ],
          "histogram": [
           {
            "marker": {
             "pattern": {
              "fillmode": "overlay",
              "size": 10,
              "solidity": 0.2
             }
            },
            "type": "histogram"
           }
          ],
          "histogram2d": [
           {
            "colorbar": {
             "outlinewidth": 0,
             "ticks": ""
            },
            "colorscale": [
             [
              0,
              "#0d0887"
             ],
             [
              0.1111111111111111,
              "#46039f"
             ],
             [
              0.2222222222222222,
              "#7201a8"
             ],
             [
              0.3333333333333333,
              "#9c179e"
             ],
             [
              0.4444444444444444,
              "#bd3786"
             ],
             [
              0.5555555555555556,
              "#d8576b"
             ],
             [
              0.6666666666666666,
              "#ed7953"
             ],
             [
              0.7777777777777778,
              "#fb9f3a"
             ],
             [
              0.8888888888888888,
              "#fdca26"
             ],
             [
              1,
              "#f0f921"
             ]
            ],
            "type": "histogram2d"
           }
          ],
          "histogram2dcontour": [
           {
            "colorbar": {
             "outlinewidth": 0,
             "ticks": ""
            },
            "colorscale": [
             [
              0,
              "#0d0887"
             ],
             [
              0.1111111111111111,
              "#46039f"
             ],
             [
              0.2222222222222222,
              "#7201a8"
             ],
             [
              0.3333333333333333,
              "#9c179e"
             ],
             [
              0.4444444444444444,
              "#bd3786"
             ],
             [
              0.5555555555555556,
              "#d8576b"
             ],
             [
              0.6666666666666666,
              "#ed7953"
             ],
             [
              0.7777777777777778,
              "#fb9f3a"
             ],
             [
              0.8888888888888888,
              "#fdca26"
             ],
             [
              1,
              "#f0f921"
             ]
            ],
            "type": "histogram2dcontour"
           }
          ],
          "mesh3d": [
           {
            "colorbar": {
             "outlinewidth": 0,
             "ticks": ""
            },
            "type": "mesh3d"
           }
          ],
          "parcoords": [
           {
            "line": {
             "colorbar": {
              "outlinewidth": 0,
              "ticks": ""
             }
            },
            "type": "parcoords"
           }
          ],
          "pie": [
           {
            "automargin": true,
            "type": "pie"
           }
          ],
          "scatter": [
           {
            "fillpattern": {
             "fillmode": "overlay",
             "size": 10,
             "solidity": 0.2
            },
            "type": "scatter"
           }
          ],
          "scatter3d": [
           {
            "line": {
             "colorbar": {
              "outlinewidth": 0,
              "ticks": ""
             }
            },
            "marker": {
             "colorbar": {
              "outlinewidth": 0,
              "ticks": ""
             }
            },
            "type": "scatter3d"
           }
          ],
          "scattercarpet": [
           {
            "marker": {
             "colorbar": {
              "outlinewidth": 0,
              "ticks": ""
             }
            },
            "type": "scattercarpet"
           }
          ],
          "scattergeo": [
           {
            "marker": {
             "colorbar": {
              "outlinewidth": 0,
              "ticks": ""
             }
            },
            "type": "scattergeo"
           }
          ],
          "scattergl": [
           {
            "marker": {
             "colorbar": {
              "outlinewidth": 0,
              "ticks": ""
             }
            },
            "type": "scattergl"
           }
          ],
          "scattermapbox": [
           {
            "marker": {
             "colorbar": {
              "outlinewidth": 0,
              "ticks": ""
             }
            },
            "type": "scattermapbox"
           }
          ],
          "scatterpolar": [
           {
            "marker": {
             "colorbar": {
              "outlinewidth": 0,
              "ticks": ""
             }
            },
            "type": "scatterpolar"
           }
          ],
          "scatterpolargl": [
           {
            "marker": {
             "colorbar": {
              "outlinewidth": 0,
              "ticks": ""
             }
            },
            "type": "scatterpolargl"
           }
          ],
          "scatterternary": [
           {
            "marker": {
             "colorbar": {
              "outlinewidth": 0,
              "ticks": ""
             }
            },
            "type": "scatterternary"
           }
          ],
          "surface": [
           {
            "colorbar": {
             "outlinewidth": 0,
             "ticks": ""
            },
            "colorscale": [
             [
              0,
              "#0d0887"
             ],
             [
              0.1111111111111111,
              "#46039f"
             ],
             [
              0.2222222222222222,
              "#7201a8"
             ],
             [
              0.3333333333333333,
              "#9c179e"
             ],
             [
              0.4444444444444444,
              "#bd3786"
             ],
             [
              0.5555555555555556,
              "#d8576b"
             ],
             [
              0.6666666666666666,
              "#ed7953"
             ],
             [
              0.7777777777777778,
              "#fb9f3a"
             ],
             [
              0.8888888888888888,
              "#fdca26"
             ],
             [
              1,
              "#f0f921"
             ]
            ],
            "type": "surface"
           }
          ],
          "table": [
           {
            "cells": {
             "fill": {
              "color": "#EBF0F8"
             },
             "line": {
              "color": "white"
             }
            },
            "header": {
             "fill": {
              "color": "#C8D4E3"
             },
             "line": {
              "color": "white"
             }
            },
            "type": "table"
           }
          ]
         },
         "layout": {
          "annotationdefaults": {
           "arrowcolor": "#2a3f5f",
           "arrowhead": 0,
           "arrowwidth": 1
          },
          "autotypenumbers": "strict",
          "coloraxis": {
           "colorbar": {
            "outlinewidth": 0,
            "ticks": ""
           }
          },
          "colorscale": {
           "diverging": [
            [
             0,
             "#8e0152"
            ],
            [
             0.1,
             "#c51b7d"
            ],
            [
             0.2,
             "#de77ae"
            ],
            [
             0.3,
             "#f1b6da"
            ],
            [
             0.4,
             "#fde0ef"
            ],
            [
             0.5,
             "#f7f7f7"
            ],
            [
             0.6,
             "#e6f5d0"
            ],
            [
             0.7,
             "#b8e186"
            ],
            [
             0.8,
             "#7fbc41"
            ],
            [
             0.9,
             "#4d9221"
            ],
            [
             1,
             "#276419"
            ]
           ],
           "sequential": [
            [
             0,
             "#0d0887"
            ],
            [
             0.1111111111111111,
             "#46039f"
            ],
            [
             0.2222222222222222,
             "#7201a8"
            ],
            [
             0.3333333333333333,
             "#9c179e"
            ],
            [
             0.4444444444444444,
             "#bd3786"
            ],
            [
             0.5555555555555556,
             "#d8576b"
            ],
            [
             0.6666666666666666,
             "#ed7953"
            ],
            [
             0.7777777777777778,
             "#fb9f3a"
            ],
            [
             0.8888888888888888,
             "#fdca26"
            ],
            [
             1,
             "#f0f921"
            ]
           ],
           "sequentialminus": [
            [
             0,
             "#0d0887"
            ],
            [
             0.1111111111111111,
             "#46039f"
            ],
            [
             0.2222222222222222,
             "#7201a8"
            ],
            [
             0.3333333333333333,
             "#9c179e"
            ],
            [
             0.4444444444444444,
             "#bd3786"
            ],
            [
             0.5555555555555556,
             "#d8576b"
            ],
            [
             0.6666666666666666,
             "#ed7953"
            ],
            [
             0.7777777777777778,
             "#fb9f3a"
            ],
            [
             0.8888888888888888,
             "#fdca26"
            ],
            [
             1,
             "#f0f921"
            ]
           ]
          },
          "colorway": [
           "#636efa",
           "#EF553B",
           "#00cc96",
           "#ab63fa",
           "#FFA15A",
           "#19d3f3",
           "#FF6692",
           "#B6E880",
           "#FF97FF",
           "#FECB52"
          ],
          "font": {
           "color": "#2a3f5f"
          },
          "geo": {
           "bgcolor": "white",
           "lakecolor": "white",
           "landcolor": "#E5ECF6",
           "showlakes": true,
           "showland": true,
           "subunitcolor": "white"
          },
          "hoverlabel": {
           "align": "left"
          },
          "hovermode": "closest",
          "mapbox": {
           "style": "light"
          },
          "paper_bgcolor": "white",
          "plot_bgcolor": "#E5ECF6",
          "polar": {
           "angularaxis": {
            "gridcolor": "white",
            "linecolor": "white",
            "ticks": ""
           },
           "bgcolor": "#E5ECF6",
           "radialaxis": {
            "gridcolor": "white",
            "linecolor": "white",
            "ticks": ""
           }
          },
          "scene": {
           "xaxis": {
            "backgroundcolor": "#E5ECF6",
            "gridcolor": "white",
            "gridwidth": 2,
            "linecolor": "white",
            "showbackground": true,
            "ticks": "",
            "zerolinecolor": "white"
           },
           "yaxis": {
            "backgroundcolor": "#E5ECF6",
            "gridcolor": "white",
            "gridwidth": 2,
            "linecolor": "white",
            "showbackground": true,
            "ticks": "",
            "zerolinecolor": "white"
           },
           "zaxis": {
            "backgroundcolor": "#E5ECF6",
            "gridcolor": "white",
            "gridwidth": 2,
            "linecolor": "white",
            "showbackground": true,
            "ticks": "",
            "zerolinecolor": "white"
           }
          },
          "shapedefaults": {
           "line": {
            "color": "#2a3f5f"
           }
          },
          "ternary": {
           "aaxis": {
            "gridcolor": "white",
            "linecolor": "white",
            "ticks": ""
           },
           "baxis": {
            "gridcolor": "white",
            "linecolor": "white",
            "ticks": ""
           },
           "bgcolor": "#E5ECF6",
           "caxis": {
            "gridcolor": "white",
            "linecolor": "white",
            "ticks": ""
           }
          },
          "title": {
           "x": 0.05
          },
          "xaxis": {
           "automargin": true,
           "gridcolor": "white",
           "linecolor": "white",
           "ticks": "",
           "title": {
            "standoff": 15
           },
           "zerolinecolor": "white",
           "zerolinewidth": 2
          },
          "yaxis": {
           "automargin": true,
           "gridcolor": "white",
           "linecolor": "white",
           "ticks": "",
           "title": {
            "standoff": 15
           },
           "zerolinecolor": "white",
           "zerolinewidth": 2
          }
         }
        },
        "title": {
         "text": "Gráfico de Campos Magnéticos"
        },
        "width": 800,
        "xaxis": {
         "anchor": "y",
         "domain": [
          0,
          1
         ],
         "title": {
          "text": "Distancia del sensor al imán (m)"
         }
        },
        "yaxis": {
         "anchor": "x",
         "domain": [
          0,
          1
         ],
         "title": {
          "text": "Campo magnético (mT)"
         }
        }
       }
      }
     },
     "metadata": {},
     "output_type": "display_data"
    }
   ],
   "source": [
    "# Gráfica de campos magnéticos en relación con la distancia\n",
    "fig = px.line(datos_totales, x='distancia_metros', y='campo_militeslas', color='iman',\n",
    "              labels={'distancia_metros': 'Distancia (metros)', 'campo_militeslas': 'Campo (militeslas)'},\n",
    "              title='Gráfico de Campos Magnéticos')\n",
    "\n",
    "fig.update_layout(\n",
    "    legend_title='Imán',\n",
    "    xaxis_title='Distancia del sensor al imán (m)',\n",
    "    yaxis_title='Campo magnético (mT)',\n",
    "    width=800,  \n",
    "    height=500,\n",
    ")\n",
    "\n",
    "fig.show()"
   ]
  },
  {
   "cell_type": "markdown",
   "metadata": {},
   "source": [
    "Ajustes con curve_fit de los datos con la función inversa $\\frac{1}{x}$ y métricas de evaluación"
   ]
  },
  {
   "cell_type": "code",
   "execution_count": 15,
   "metadata": {},
   "outputs": [
    {
     "data": {
      "text/html": [
       "<div>\n",
       "<style scoped>\n",
       "    .dataframe tbody tr th:only-of-type {\n",
       "        vertical-align: middle;\n",
       "    }\n",
       "\n",
       "    .dataframe tbody tr th {\n",
       "        vertical-align: top;\n",
       "    }\n",
       "\n",
       "    .dataframe thead th {\n",
       "        text-align: right;\n",
       "    }\n",
       "</style>\n",
       "<table border=\"1\" class=\"dataframe\">\n",
       "  <thead>\n",
       "    <tr style=\"text-align: right;\">\n",
       "      <th></th>\n",
       "      <th>Imán</th>\n",
       "      <th>Función</th>\n",
       "      <th>R²</th>\n",
       "      <th>MSE</th>\n",
       "      <th>MAE</th>\n",
       "    </tr>\n",
       "  </thead>\n",
       "  <tbody>\n",
       "    <tr>\n",
       "      <th>0</th>\n",
       "      <td>1</td>\n",
       "      <td>Función 1/x</td>\n",
       "      <td>0.959614</td>\n",
       "      <td>1.319139e-06</td>\n",
       "      <td>0.000967</td>\n",
       "    </tr>\n",
       "    <tr>\n",
       "      <th>3</th>\n",
       "      <td>2</td>\n",
       "      <td>Función 1/x</td>\n",
       "      <td>0.975689</td>\n",
       "      <td>4.642242e-07</td>\n",
       "      <td>0.000582</td>\n",
       "    </tr>\n",
       "    <tr>\n",
       "      <th>6</th>\n",
       "      <td>3</td>\n",
       "      <td>Función 1/x</td>\n",
       "      <td>0.917080</td>\n",
       "      <td>1.819931e-08</td>\n",
       "      <td>0.000117</td>\n",
       "    </tr>\n",
       "    <tr>\n",
       "      <th>9</th>\n",
       "      <td>4</td>\n",
       "      <td>Función 1/x</td>\n",
       "      <td>0.994224</td>\n",
       "      <td>1.623675e-08</td>\n",
       "      <td>0.000117</td>\n",
       "    </tr>\n",
       "    <tr>\n",
       "      <th>1</th>\n",
       "      <td>1</td>\n",
       "      <td>Función 1/x^2</td>\n",
       "      <td>0.913700</td>\n",
       "      <td>2.818869e-06</td>\n",
       "      <td>0.001368</td>\n",
       "    </tr>\n",
       "    <tr>\n",
       "      <th>4</th>\n",
       "      <td>2</td>\n",
       "      <td>Función 1/x^2</td>\n",
       "      <td>0.905349</td>\n",
       "      <td>1.807374e-06</td>\n",
       "      <td>0.001140</td>\n",
       "    </tr>\n",
       "    <tr>\n",
       "      <th>7</th>\n",
       "      <td>3</td>\n",
       "      <td>Función 1/x^2</td>\n",
       "      <td>0.817633</td>\n",
       "      <td>4.002596e-08</td>\n",
       "      <td>0.000173</td>\n",
       "    </tr>\n",
       "    <tr>\n",
       "      <th>10</th>\n",
       "      <td>4</td>\n",
       "      <td>Función 1/x^2</td>\n",
       "      <td>0.998581</td>\n",
       "      <td>3.987331e-09</td>\n",
       "      <td>0.000053</td>\n",
       "    </tr>\n",
       "    <tr>\n",
       "      <th>2</th>\n",
       "      <td>1</td>\n",
       "      <td>Función 1/x^3</td>\n",
       "      <td>0.899244</td>\n",
       "      <td>3.291059e-06</td>\n",
       "      <td>0.001466</td>\n",
       "    </tr>\n",
       "    <tr>\n",
       "      <th>5</th>\n",
       "      <td>2</td>\n",
       "      <td>Función 1/x^3</td>\n",
       "      <td>0.842458</td>\n",
       "      <td>3.008284e-06</td>\n",
       "      <td>0.001412</td>\n",
       "    </tr>\n",
       "    <tr>\n",
       "      <th>8</th>\n",
       "      <td>3</td>\n",
       "      <td>Función 1/x^3</td>\n",
       "      <td>0.744817</td>\n",
       "      <td>5.600756e-08</td>\n",
       "      <td>0.000200</td>\n",
       "    </tr>\n",
       "    <tr>\n",
       "      <th>11</th>\n",
       "      <td>4</td>\n",
       "      <td>Función 1/x^3</td>\n",
       "      <td>0.983427</td>\n",
       "      <td>4.658496e-08</td>\n",
       "      <td>0.000172</td>\n",
       "    </tr>\n",
       "  </tbody>\n",
       "</table>\n",
       "</div>"
      ],
      "text/plain": [
       "   Imán        Función        R²           MSE       MAE\n",
       "0     1    Función 1/x  0.959614  1.319139e-06  0.000967\n",
       "3     2    Función 1/x  0.975689  4.642242e-07  0.000582\n",
       "6     3    Función 1/x  0.917080  1.819931e-08  0.000117\n",
       "9     4    Función 1/x  0.994224  1.623675e-08  0.000117\n",
       "1     1  Función 1/x^2  0.913700  2.818869e-06  0.001368\n",
       "4     2  Función 1/x^2  0.905349  1.807374e-06  0.001140\n",
       "7     3  Función 1/x^2  0.817633  4.002596e-08  0.000173\n",
       "10    4  Función 1/x^2  0.998581  3.987331e-09  0.000053\n",
       "2     1  Función 1/x^3  0.899244  3.291059e-06  0.001466\n",
       "5     2  Función 1/x^3  0.842458  3.008284e-06  0.001412\n",
       "8     3  Función 1/x^3  0.744817  5.600756e-08  0.000200\n",
       "11    4  Función 1/x^3  0.983427  4.658496e-08  0.000172"
      ]
     },
     "execution_count": 15,
     "metadata": {},
     "output_type": "execute_result"
    }
   ],
   "source": [
    "# Funciones de ajuste\n",
    "def func1(x, a, b):\n",
    "    return a / x + b\n",
    "\n",
    "def func2(x, a, b):\n",
    "    return a / (x**2) + b\n",
    "\n",
    "def func3(x, a, b):\n",
    "    return a / (x**3) + b\n",
    "\n",
    "# Crear un DataFrame para almacenar los resultados\n",
    "resultados_df = pd.DataFrame(columns=['Imán', 'Función', 'R²', 'MSE', 'MAE'])\n",
    "\n",
    "# Funciones de ajuste\n",
    "funciones = [func1, func2, func3]\n",
    "funciones_nombres = ['Función 1/x', 'Función 1/x^2', 'Función 1/x^3']\n",
    "\n",
    "# Iterar sobre los imanes y funciones\n",
    "for iman in [1, 2, 3, 4]:\n",
    "    datos_iman = datos_totales[datos_totales['iman'] == iman]\n",
    "    \n",
    "    for funcion, nombre in zip(funciones, funciones_nombres):\n",
    "        # Ajuste y predicciones\n",
    "        popt, _ = curve_fit(funcion, datos_iman['distancia_metros'], datos_iman['campo_militeslas'])\n",
    "        y_pred = funcion(datos_iman['distancia_metros'], *popt)\n",
    "        \n",
    "        # Cálculo de métricas\n",
    "        r2 = r2_score(datos_iman['campo_militeslas'], y_pred)\n",
    "        mse = mean_squared_error(datos_iman['campo_militeslas'], y_pred)\n",
    "        mae = mean_absolute_error(datos_iman['campo_militeslas'], y_pred)\n",
    "        \n",
    "        resultados_df = resultados_df.append({'Imán': iman, 'Función': nombre, 'R²': r2, 'MSE': mse, 'MAE': mae}, ignore_index=True)\n",
    "\n",
    "resultados_df.sort_values(by='Función')"
   ]
  },
  {
   "cell_type": "markdown",
   "metadata": {},
   "source": [
    "Descripción estadística del comportamiento según las métricas de los ajustes de las funciones inversas"
   ]
  },
  {
   "cell_type": "code",
   "execution_count": 16,
   "metadata": {},
   "outputs": [
    {
     "data": {
      "text/html": [
       "<div>\n",
       "<style scoped>\n",
       "    .dataframe tbody tr th:only-of-type {\n",
       "        vertical-align: middle;\n",
       "    }\n",
       "\n",
       "    .dataframe tbody tr th {\n",
       "        vertical-align: top;\n",
       "    }\n",
       "\n",
       "    .dataframe thead tr th {\n",
       "        text-align: left;\n",
       "    }\n",
       "\n",
       "    .dataframe thead tr:last-of-type th {\n",
       "        text-align: right;\n",
       "    }\n",
       "</style>\n",
       "<table border=\"1\" class=\"dataframe\">\n",
       "  <thead>\n",
       "    <tr>\n",
       "      <th></th>\n",
       "      <th colspan=\"8\" halign=\"left\">R²</th>\n",
       "      <th colspan=\"5\" halign=\"left\">MSE</th>\n",
       "      <th colspan=\"8\" halign=\"left\">MAE</th>\n",
       "    </tr>\n",
       "    <tr>\n",
       "      <th></th>\n",
       "      <th>count</th>\n",
       "      <th>mean</th>\n",
       "      <th>std</th>\n",
       "      <th>min</th>\n",
       "      <th>25%</th>\n",
       "      <th>50%</th>\n",
       "      <th>75%</th>\n",
       "      <th>max</th>\n",
       "      <th>count</th>\n",
       "      <th>mean</th>\n",
       "      <th>...</th>\n",
       "      <th>75%</th>\n",
       "      <th>max</th>\n",
       "      <th>count</th>\n",
       "      <th>mean</th>\n",
       "      <th>std</th>\n",
       "      <th>min</th>\n",
       "      <th>25%</th>\n",
       "      <th>50%</th>\n",
       "      <th>75%</th>\n",
       "      <th>max</th>\n",
       "    </tr>\n",
       "    <tr>\n",
       "      <th>Función</th>\n",
       "      <th></th>\n",
       "      <th></th>\n",
       "      <th></th>\n",
       "      <th></th>\n",
       "      <th></th>\n",
       "      <th></th>\n",
       "      <th></th>\n",
       "      <th></th>\n",
       "      <th></th>\n",
       "      <th></th>\n",
       "      <th></th>\n",
       "      <th></th>\n",
       "      <th></th>\n",
       "      <th></th>\n",
       "      <th></th>\n",
       "      <th></th>\n",
       "      <th></th>\n",
       "      <th></th>\n",
       "      <th></th>\n",
       "      <th></th>\n",
       "      <th></th>\n",
       "    </tr>\n",
       "  </thead>\n",
       "  <tbody>\n",
       "    <tr>\n",
       "      <th>Función 1/x</th>\n",
       "      <td>4.0</td>\n",
       "      <td>0.961652</td>\n",
       "      <td>0.032908</td>\n",
       "      <td>0.917080</td>\n",
       "      <td>0.948981</td>\n",
       "      <td>0.967652</td>\n",
       "      <td>0.980323</td>\n",
       "      <td>0.994224</td>\n",
       "      <td>4.0</td>\n",
       "      <td>4.544499e-07</td>\n",
       "      <td>...</td>\n",
       "      <td>6.779530e-07</td>\n",
       "      <td>0.000001</td>\n",
       "      <td>4.0</td>\n",
       "      <td>0.000446</td>\n",
       "      <td>0.000411</td>\n",
       "      <td>0.000117</td>\n",
       "      <td>0.000117</td>\n",
       "      <td>0.000350</td>\n",
       "      <td>0.000679</td>\n",
       "      <td>0.000967</td>\n",
       "    </tr>\n",
       "    <tr>\n",
       "      <th>Función 1/x^2</th>\n",
       "      <td>4.0</td>\n",
       "      <td>0.908816</td>\n",
       "      <td>0.073955</td>\n",
       "      <td>0.817633</td>\n",
       "      <td>0.883420</td>\n",
       "      <td>0.909524</td>\n",
       "      <td>0.934920</td>\n",
       "      <td>0.998581</td>\n",
       "      <td>4.0</td>\n",
       "      <td>1.167564e-06</td>\n",
       "      <td>...</td>\n",
       "      <td>2.060248e-06</td>\n",
       "      <td>0.000003</td>\n",
       "      <td>4.0</td>\n",
       "      <td>0.000683</td>\n",
       "      <td>0.000667</td>\n",
       "      <td>0.000053</td>\n",
       "      <td>0.000143</td>\n",
       "      <td>0.000656</td>\n",
       "      <td>0.001197</td>\n",
       "      <td>0.001368</td>\n",
       "    </tr>\n",
       "    <tr>\n",
       "      <th>Función 1/x^3</th>\n",
       "      <td>4.0</td>\n",
       "      <td>0.867486</td>\n",
       "      <td>0.100208</td>\n",
       "      <td>0.744817</td>\n",
       "      <td>0.818048</td>\n",
       "      <td>0.870851</td>\n",
       "      <td>0.920289</td>\n",
       "      <td>0.983427</td>\n",
       "      <td>4.0</td>\n",
       "      <td>1.600484e-06</td>\n",
       "      <td>...</td>\n",
       "      <td>3.078978e-06</td>\n",
       "      <td>0.000003</td>\n",
       "      <td>4.0</td>\n",
       "      <td>0.000812</td>\n",
       "      <td>0.000724</td>\n",
       "      <td>0.000172</td>\n",
       "      <td>0.000193</td>\n",
       "      <td>0.000806</td>\n",
       "      <td>0.001425</td>\n",
       "      <td>0.001466</td>\n",
       "    </tr>\n",
       "  </tbody>\n",
       "</table>\n",
       "<p>3 rows × 24 columns</p>\n",
       "</div>"
      ],
      "text/plain": [
       "                 R²                                                    \\\n",
       "              count      mean       std       min       25%       50%   \n",
       "Función                                                                 \n",
       "Función 1/x     4.0  0.961652  0.032908  0.917080  0.948981  0.967652   \n",
       "Función 1/x^2   4.0  0.908816  0.073955  0.817633  0.883420  0.909524   \n",
       "Función 1/x^3   4.0  0.867486  0.100208  0.744817  0.818048  0.870851   \n",
       "\n",
       "                                    MSE                ...                \\\n",
       "                    75%       max count          mean  ...           75%   \n",
       "Función                                                ...                 \n",
       "Función 1/x    0.980323  0.994224   4.0  4.544499e-07  ...  6.779530e-07   \n",
       "Función 1/x^2  0.934920  0.998581   4.0  1.167564e-06  ...  2.060248e-06   \n",
       "Función 1/x^3  0.920289  0.983427   4.0  1.600484e-06  ...  3.078978e-06   \n",
       "\n",
       "                          MAE                                          \\\n",
       "                    max count      mean       std       min       25%   \n",
       "Función                                                                 \n",
       "Función 1/x    0.000001   4.0  0.000446  0.000411  0.000117  0.000117   \n",
       "Función 1/x^2  0.000003   4.0  0.000683  0.000667  0.000053  0.000143   \n",
       "Función 1/x^3  0.000003   4.0  0.000812  0.000724  0.000172  0.000193   \n",
       "\n",
       "                                             \n",
       "                    50%       75%       max  \n",
       "Función                                      \n",
       "Función 1/x    0.000350  0.000679  0.000967  \n",
       "Función 1/x^2  0.000656  0.001197  0.001368  \n",
       "Función 1/x^3  0.000806  0.001425  0.001466  \n",
       "\n",
       "[3 rows x 24 columns]"
      ]
     },
     "execution_count": 16,
     "metadata": {},
     "output_type": "execute_result"
    }
   ],
   "source": [
    "resultados_df.groupby(by='Función').describe()"
   ]
  },
  {
   "cell_type": "markdown",
   "metadata": {},
   "source": [
    "Gráfica de ajustes de la forma a los datos de ditancia del sensor contra el campo medido en militeslas (mT)"
   ]
  },
  {
   "cell_type": "code",
   "execution_count": 17,
   "metadata": {},
   "outputs": [
    {
     "data": {
      "application/vnd.plotly.v1+json": {
       "config": {
        "plotlyServerURL": "https://plot.ly"
       },
       "data": [
        {
         "hovertemplate": "distancia_metros=%{x}<br>campo_militeslas=%{y}<br>iman=%{marker.color}<extra></extra>",
         "legendgroup": "",
         "marker": {
          "color": "#636EFA",
          "coloraxis": "coloraxis",
          "symbol": "circle"
         },
         "mode": "markers",
         "name": "",
         "orientation": "v",
         "showlegend": false,
         "type": "scatter",
         "x": [
          0.15,
          0.1,
          0.05,
          0.01
         ],
         "xaxis": "x",
         "y": [
          0.00054,
          0.00136,
          0.005430000000000001,
          0.01493
         ],
         "yaxis": "y"
        },
        {
         "line": {
          "color": "#636EFA",
          "dash": "dash"
         },
         "mode": "lines",
         "name": "Ajuste imán 1",
         "type": "scatter",
         "x": [
          0.01,
          0.011414141414141415,
          0.012828282828282828,
          0.014242424242424242,
          0.015656565656565657,
          0.01707070707070707,
          0.018484848484848486,
          0.019898989898989895,
          0.02131313131313131,
          0.022727272727272728,
          0.024141414141414137,
          0.025555555555555554,
          0.02696969696969697,
          0.02838383838383838,
          0.029797979797979796,
          0.031212121212121212,
          0.03262626262626262,
          0.03404040404040404,
          0.035454545454545454,
          0.03686868686868686,
          0.03828282828282828,
          0.039696969696969696,
          0.041111111111111105,
          0.04252525252525252,
          0.04393939393939394,
          0.04535353535353535,
          0.046767676767676764,
          0.04818181818181818,
          0.04959595959595959,
          0.051010101010101006,
          0.05242424242424242,
          0.05383838383838383,
          0.05525252525252525,
          0.056666666666666664,
          0.05808080808080807,
          0.05949494949494949,
          0.060909090909090906,
          0.062323232323232315,
          0.06373737373737373,
          0.06515151515151514,
          0.06656565656565655,
          0.06797979797979797,
          0.06939393939393938,
          0.07080808080808079,
          0.07222222222222222,
          0.07363636363636362,
          0.07505050505050503,
          0.07646464646464644,
          0.07787878787878787,
          0.07929292929292928,
          0.08070707070707069,
          0.08212121212121211,
          0.08353535353535352,
          0.08494949494949493,
          0.08636363636363635,
          0.08777777777777776,
          0.08919191919191917,
          0.09060606060606059,
          0.092020202020202,
          0.09343434343434341,
          0.09484848484848483,
          0.09626262626262624,
          0.09767676767676765,
          0.09909090909090908,
          0.10050505050505049,
          0.1019191919191919,
          0.10333333333333332,
          0.10474747474747473,
          0.10616161616161614,
          0.10757575757575756,
          0.10898989898989897,
          0.11040404040404038,
          0.1118181818181818,
          0.11323232323232321,
          0.11464646464646462,
          0.11606060606060604,
          0.11747474747474745,
          0.11888888888888886,
          0.12030303030303029,
          0.1217171717171717,
          0.1231313131313131,
          0.12454545454545453,
          0.12595959595959594,
          0.12737373737373736,
          0.12878787878787878,
          0.13020202020202018,
          0.1316161616161616,
          0.13303030303030303,
          0.13444444444444442,
          0.13585858585858585,
          0.13727272727272727,
          0.13868686868686866,
          0.1401010101010101,
          0.1415151515151515,
          0.1429292929292929,
          0.14434343434343433,
          0.14575757575757575,
          0.14717171717171715,
          0.14858585858585857,
          0.15
         ],
         "xaxis": "x",
         "y": [
          0.015182269501479965,
          0.013372365528982317,
          0.011961495503177067,
          0.010830798248453706,
          0.009904355981680374,
          0.0091314071082186,
          0.008476723636160812,
          0.007915091622060479,
          0.0074279889747601874,
          0.0070015035457905985,
          0.00662498293695134,
          0.006290132593121959,
          0.005990397641154835,
          0.005720529517141731,
          0.00547627599472987,
          0.005254155477585103,
          0.005051289989790348,
          0.004865279794750052,
          0.0046941080198269316,
          0.004536067230377366,
          0.004389702277615366,
          0.004253765362200277,
          0.004127180372170011,
          0.004009014336346033,
          0.0038984543901842876,
          0.003794789050910135,
          0.003697392889821028,
          0.0036057139038063336,
          0.0035192630473403395,
          0.003437605505688301,
          0.0033603533805415748,
          0.003287159528385671,
          0.0032177123450786984,
          0.003151731331348544,
          0.003088963306113076,
          0.00302917915983617,
          0.0029721710601525527,
          0.0029177500379262153,
          0.002865743894657623,
          0.002815995382414644,
          0.0027683606157601383,
          0.002722707681893635,
          0.0026789154207320256,
          0.0026368723511717364,
          0.002596475723496325,
          0.002557630680971684,
          0.002520249516227245,
          0.0024842510101523493,
          0.002449559842819473,
          0.002416106067442419,
          0.0023838246396380284,
          0.002352654995325055,
          0.002322540671496681,
          0.0022934289648706783,
          0.002265270624075703,
          0.0022380195715917275,
          0.0022116326521423517,
          0.0021860694046490323,
          0.0021612918552125875,
          0.002137264328894219,
          0.0021139532783340125,
          0.0020913271274754703,
          0.002069356128865159,
          0.0020480122331713495,
          0.0020272689697181704,
          0.0020071013369653765,
          0.0019874857019809874,
          0.001968399708056929,
          0.0019498221897083926,
          0.0019317330943774704,
          0.0019141134102321515,
          0.00189694509951416,
          0.0018802110369444103,
          0.0018638949527439315,
          0.0018479813798717472,
          0.0018324556051200333,
          0.0018173036237415334,
          0.001802512097315114,
          0.001788068314583018,
          0.001773960155018141,
          0.0017601760549018418,
          0.0017467049757127575,
          0.0017335363746450007,
          0.0017206601770902467,
          0.0017080667509327733,
          0.0016957468825196057,
          0.0016836917541797826,
          0.001671892923177481,
          0.0016603423019934094,
          0.0016490321398377047,
          0.0016379550053055173,
          0.0016271037700937244,
          0.0016164715937037988,
          0.0016060519090618517,
          0.0015958384089923248,
          0.0015858250334867914,
          0.001576005957713867,
          0.0015663755807203816,
          0.0015569285147777573,
          0.0015476595753310212
         ],
         "yaxis": "y"
        },
        {
         "hovertemplate": "distancia_metros=%{x}<br>campo_militeslas=%{y}<br>iman=%{marker.color}<extra></extra>",
         "legendgroup": "",
         "marker": {
          "color": "#EF553B",
          "coloraxis": "coloraxis",
          "symbol": "circle"
         },
         "mode": "markers",
         "name": "",
         "orientation": "v",
         "showlegend": false,
         "type": "scatter",
         "x": [
          0.1,
          0.08,
          0.06,
          0.04,
          0.02
         ],
         "xaxis": "x",
         "y": [
          0.0016300000000000002,
          0.0024400000000000003,
          0.00434,
          0.00787,
          0.013580000000000002
         ],
         "yaxis": "y"
        },
        {
         "line": {
          "color": "#EF553B",
          "dash": "dash"
         },
         "mode": "lines",
         "name": "Ajuste imán 2",
         "type": "scatter",
         "x": [
          0.02,
          0.02080808080808081,
          0.021616161616161617,
          0.022424242424242423,
          0.023232323232323233,
          0.024040404040404043,
          0.02484848484848485,
          0.025656565656565655,
          0.026464646464646465,
          0.027272727272727275,
          0.02808080808080808,
          0.028888888888888888,
          0.029696969696969697,
          0.030505050505050507,
          0.031313131313131314,
          0.03212121212121212,
          0.03292929292929293,
          0.03373737373737374,
          0.034545454545454546,
          0.03535353535353535,
          0.03616161616161616,
          0.03696969696969697,
          0.03777777777777778,
          0.038585858585858585,
          0.0393939393939394,
          0.0402020202020202,
          0.04101010101010101,
          0.041818181818181824,
          0.04262626262626262,
          0.043434343434343436,
          0.04424242424242424,
          0.04505050505050505,
          0.04585858585858586,
          0.04666666666666666,
          0.047474747474747475,
          0.04828282828282829,
          0.04909090909090909,
          0.0498989898989899,
          0.05070707070707071,
          0.051515151515151514,
          0.05232323232323233,
          0.053131313131313126,
          0.05393939393939394,
          0.05474747474747475,
          0.05555555555555555,
          0.056363636363636366,
          0.05717171717171718,
          0.05797979797979798,
          0.05878787878787879,
          0.05959595959595959,
          0.060404040404040404,
          0.06121212121212122,
          0.06202020202020202,
          0.06282828282828283,
          0.06363636363636364,
          0.06444444444444444,
          0.06525252525252526,
          0.06606060606060606,
          0.06686868686868687,
          0.06767676767676768,
          0.06848484848484848,
          0.0692929292929293,
          0.07010101010101011,
          0.07090909090909091,
          0.07171717171717172,
          0.07252525252525252,
          0.07333333333333333,
          0.07414141414141415,
          0.07494949494949495,
          0.07575757575757576,
          0.07656565656565657,
          0.07737373737373737,
          0.07818181818181819,
          0.07898989898989899,
          0.0797979797979798,
          0.08060606060606061,
          0.08141414141414141,
          0.08222222222222222,
          0.08303030303030304,
          0.08383838383838384,
          0.08464646464646465,
          0.08545454545454546,
          0.08626262626262626,
          0.08707070707070708,
          0.08787878787878788,
          0.08868686868686869,
          0.0894949494949495,
          0.0903030303030303,
          0.09111111111111111,
          0.09191919191919193,
          0.09272727272727273,
          0.09353535353535354,
          0.09434343434343435,
          0.09515151515151515,
          0.09595959595959597,
          0.09676767676767677,
          0.09757575757575758,
          0.09838383838383839,
          0.09919191919191919,
          0.1
         ],
         "xaxis": "x",
         "y": [
          0.014055216500056892,
          0.013477465602654837,
          0.012942911034030507,
          0.012446882920802526,
          0.011985361111103444,
          0.011554865977686655,
          0.01115237052774413,
          0.010775229121892473,
          0.01042111925227603,
          0.010087993671229449,
          0.009774040785494903,
          0.00947765169756369,
          0.009197392628023288,
          0.008931981721107545,
          0.008680269441645518,
          0.008441221930961454,
          0.008213906813439796,
          0.007997481042865287,
          0.007791180454539876,
          0.007594310750252199,
          0.007406239691966207,
          0.0072263903192883415,
          0.007054235037420227,
          0.00688929044798638,
          0.0067311128160677655,
          0.006579294083924776,
          0.006433458356004168,
          0.006293258791481459,
          0.0061583748502581906,
          0.006028509846382762,
          0.005903388769589543,
          0.005782756341291147,
          0.005666375276104588,
          0.005554024723998086,
          0.0054454988715377595,
          0.005340605683594934,
          0.0052391657693292406,
          0.0051410113583596,
          0.005045985374831224,
          0.004953940598629228,
          0.004864738904317641,
          0.004778250569528841,
          0.004694353645520228,
          0.004612933383474969,
          0.004533881710871029,
          0.004457096752893723,
          0.004382482394435209,
          0.004309947878721187,
          0.004239407439040537,
          0.004170779960435974,
          0.0041039886685499275,
          0.004038960843116317,
          0.003975627553850359,
          0.003913923416719858,
          0.0038537863687863236,
          0.0037951574599859182,
          0.003737980660381807,
          0.0036822026815631187,
          0.003627772810993824,
          0.0035746427582291685,
          0.0035227665120194326,
          0.003472100207412255,
          0.003422602002046741,
          0.0033742319609060835,
          0.003326951948861552,
          0.003280725530400187,
          0.003235517875982047,
          0.0031912956745212503,
          0.003148027051528612,
          0.003105681492493149,
          0.003064229771115426,
          0.0030236438820380224,
          0.002983896977747748,
          0.002944963309350881,
          0.0029068181709468615,
          0.002869437847347935,
          0.0028327995649122637,
          0.00279688144527631,
          0.0027616624617889875,
          0.002727122398465277,
          0.0026932418112909444,
          0.002660001991722746,
          0.002627384932240135,
          0.0025953732938152054,
          0.0025639503751774015,
          0.0025331000837585087,
          0.002502806908211741,
          0.0024730558924063025,
          0.0024438326108058386,
          0.002415123145145602,
          0.0023869140623291175,
          0.002359192393470585,
          0.00233194561401434,
          0.0023051616248673306,
          0.0022788287344849023,
          0.002252935641854164,
          0.0022274714203228997,
          0.002202425502225413,
          0.0021777876642598624,
          0.002153548013574562
         ],
         "yaxis": "y"
        },
        {
         "hovertemplate": "distancia_metros=%{x}<br>campo_militeslas=%{y}<br>iman=%{marker.color}<extra></extra>",
         "legendgroup": "",
         "marker": {
          "color": "#00CC96",
          "coloraxis": "coloraxis",
          "symbol": "circle"
         },
         "mode": "markers",
         "name": "",
         "orientation": "v",
         "showlegend": false,
         "type": "scatter",
         "x": [
          0.05,
          0.04,
          0.03,
          0.02,
          0.01
         ],
         "xaxis": "x",
         "y": [
          0.00054,
          0.0008100000000000001,
          0.00109,
          0.00136,
          0.0019
         ],
         "yaxis": "y"
        },
        {
         "line": {
          "color": "#00CC96",
          "dash": "dash"
         },
         "mode": "lines",
         "name": "Ajuste imán 3",
         "type": "scatter",
         "x": [
          0.01,
          0.010404040404040405,
          0.010808080808080808,
          0.011212121212121211,
          0.011616161616161616,
          0.012020202020202021,
          0.012424242424242424,
          0.012828282828282828,
          0.013232323232323233,
          0.013636363636363637,
          0.01404040404040404,
          0.014444444444444444,
          0.014848484848484849,
          0.015252525252525254,
          0.015656565656565657,
          0.01606060606060606,
          0.016464646464646467,
          0.01686868686868687,
          0.017272727272727273,
          0.017676767676767676,
          0.01808080808080808,
          0.018484848484848486,
          0.01888888888888889,
          0.019292929292929292,
          0.0196969696969697,
          0.0201010101010101,
          0.020505050505050505,
          0.020909090909090912,
          0.02131313131313131,
          0.021717171717171718,
          0.02212121212121212,
          0.022525252525252525,
          0.02292929292929293,
          0.02333333333333333,
          0.023737373737373738,
          0.024141414141414144,
          0.024545454545454544,
          0.02494949494949495,
          0.025353535353535354,
          0.025757575757575757,
          0.026161616161616164,
          0.026565656565656563,
          0.02696969696969697,
          0.027373737373737377,
          0.027777777777777776,
          0.028181818181818183,
          0.02858585858585859,
          0.02898989898989899,
          0.029393939393939396,
          0.029797979797979796,
          0.030202020202020202,
          0.03060606060606061,
          0.03101010101010101,
          0.031414141414141415,
          0.03181818181818182,
          0.03222222222222222,
          0.03262626262626263,
          0.03303030303030303,
          0.033434343434343435,
          0.03383838383838384,
          0.03424242424242424,
          0.03464646464646465,
          0.035050505050505054,
          0.035454545454545454,
          0.03585858585858586,
          0.03626262626262626,
          0.03666666666666667,
          0.037070707070707073,
          0.03747474747474747,
          0.03787878787878788,
          0.038282828282828286,
          0.038686868686868686,
          0.03909090909090909,
          0.03949494949494949,
          0.0398989898989899,
          0.040303030303030306,
          0.040707070707070706,
          0.04111111111111111,
          0.04151515151515152,
          0.04191919191919192,
          0.042323232323232325,
          0.04272727272727273,
          0.04313131313131313,
          0.04353535353535354,
          0.04393939393939394,
          0.044343434343434344,
          0.04474747474747475,
          0.04515151515151515,
          0.04555555555555556,
          0.045959595959595964,
          0.046363636363636364,
          0.04676767676767677,
          0.04717171717171718,
          0.04757575757575758,
          0.04797979797979798,
          0.04838383838383838,
          0.04878787878787879,
          0.049191919191919196,
          0.049595959595959596,
          0.05
         ],
         "xaxis": "x",
         "y": [
          0.0019801729143336154,
          0.0019201212437461128,
          0.001864559417688517,
          0.001813002047563,
          0.0017650312770983883,
          0.0017202854323792969,
          0.0016784498865037238,
          0.0016392496506045645,
          0.0016024433222412318,
          0.0015678181096327633,
          0.001535185715016149,
          0.0015043789089095553,
          0.0014752486636795106,
          0.0014476617427000645,
          0.0014214986628034285,
          0.0013966519642852396,
          0.0013730247356329738,
          0.0013505293502694398,
          0.0013290863805954275,
          0.001308623660963656,
          0.0012890754762874942,
          0.0012703818570616566,
          0.0012524879648615232,
          0.0012353435550572069,
          0.0012189025056551187,
          0.0012031224029626626,
          0.0011879641762383819,
          0.001173391774701513,
          0.001159371881279786,
          0.0011458736583109606,
          0.001132868521112686,
          0.0011203299359215243,
          0.0011082332391952492,
          0.001096555475688932,
          0.0010852752530679359,
          0.001074372611120446,
          0.0010638289038872768,
          0.0010536266932446557,
          0.0010437496526623572,
          0.0010341824800198954,
          0.001024910818501525,
          0.0010159211847099493,
          0.0010072009032417166,
          0.000998738047056679,
          0.00099052138305157,
          0.0009825403223154242,
          0.000974784874603622,
          0.0009672456066189782,
          0.0009599136037335683,
          0.0009527804348247121,
          0.000945838119933484,
          0.0009390791004849288,
          0.0009324962118363359,
          0.0009260826579439768,
          0.000919831987959995,
          0.0009137380745900317,
          0.000907795094058953,
          0.0009019975075469832,
          0.0008963400439718585,
          0.0008908176840044979,
          0.0008854256452163083,
          0.000880159368265744,
          0.0008750145040402647,
          0.0008699869016774744,
          0.0008650725973960991,
          0.0008602678040736404,
          0.000855568901513109,
          0.0008509724273462676,
          0.000846475068525342,
          0.0008420736533592629,
          0.0008377651440542091,
          0.0008335466297215847,
          0.0008294153198196087,
          0.0008253685379974688,
          0.0008214037163134986,
          0.0008175183898011368,
          0.0008137101913584996,
          0.0008099768469393046,
          0.0008063161710246197,
          0.0008027260623564827,
          0.0007992044999158998,
          0.0007957495391290395,
          0.0007923593082866636,
          0.0007890320051629398,
          0.0007857658938208017,
          0.0007825593015919599,
          0.0007794106162205238,
          0.000776318283159986,
          0.0007732808030140475,
          0.0007702967291124331,
          0.0007673646652134613,
          0.0007644832633257029,
          0.0007616512216415891,
          0.0007588672825763138,
          0.0007561302309058221,
          0.0007534388919980942,
          0.0007507921301323164,
          0.000748188846900884,
          0.0007456279796895156,
          0.0007431085002310583
         ],
         "yaxis": "y"
        },
        {
         "hovertemplate": "distancia_metros=%{x}<br>campo_militeslas=%{y}<br>iman=%{marker.color}<extra></extra>",
         "legendgroup": "",
         "marker": {
          "color": "#AB63FA",
          "coloraxis": "coloraxis",
          "symbol": "circle"
         },
         "mode": "markers",
         "name": "",
         "orientation": "v",
         "showlegend": false,
         "type": "scatter",
         "x": [
          0.05,
          0.04,
          0.03,
          0.02
         ],
         "xaxis": "x",
         "y": [
          0.00027,
          0.0008100000000000001,
          0.0019,
          0.00462
         ],
         "yaxis": "y"
        },
        {
         "line": {
          "color": "#AB63FA",
          "dash": "dash"
         },
         "mode": "lines",
         "name": "Ajuste imán 4",
         "type": "scatter",
         "x": [
          0.02,
          0.020303030303030302,
          0.020606060606060607,
          0.02090909090909091,
          0.021212121212121213,
          0.021515151515151515,
          0.02181818181818182,
          0.02212121212121212,
          0.022424242424242423,
          0.022727272727272728,
          0.02303030303030303,
          0.023333333333333334,
          0.023636363636363636,
          0.02393939393939394,
          0.024242424242424242,
          0.024545454545454544,
          0.02484848484848485,
          0.025151515151515154,
          0.025454545454545455,
          0.025757575757575757,
          0.026060606060606062,
          0.026363636363636363,
          0.026666666666666665,
          0.02696969696969697,
          0.027272727272727275,
          0.027575757575757576,
          0.027878787878787878,
          0.028181818181818183,
          0.028484848484848484,
          0.028787878787878786,
          0.02909090909090909,
          0.029393939393939396,
          0.029696969696969697,
          0.03,
          0.030303030303030304,
          0.03060606060606061,
          0.03090909090909091,
          0.031212121212121212,
          0.03151515151515152,
          0.031818181818181815,
          0.03212121212121212,
          0.032424242424242425,
          0.03272727272727273,
          0.033030303030303035,
          0.03333333333333333,
          0.03363636363636364,
          0.033939393939393936,
          0.03424242424242424,
          0.034545454545454546,
          0.03484848484848485,
          0.035151515151515156,
          0.035454545454545454,
          0.03575757575757576,
          0.03606060606060606,
          0.03636363636363636,
          0.03666666666666667,
          0.03696969696969697,
          0.03727272727272728,
          0.037575757575757575,
          0.03787878787878788,
          0.03818181818181818,
          0.03848484848484848,
          0.03878787878787879,
          0.03909090909090909,
          0.0393939393939394,
          0.039696969696969696,
          0.04,
          0.0403030303030303,
          0.040606060606060604,
          0.04090909090909091,
          0.041212121212121214,
          0.04151515151515152,
          0.041818181818181824,
          0.04212121212121212,
          0.04242424242424242,
          0.042727272727272725,
          0.04303030303030303,
          0.043333333333333335,
          0.04363636363636364,
          0.043939393939393945,
          0.04424242424242424,
          0.04454545454545454,
          0.044848484848484846,
          0.04515151515151515,
          0.045454545454545456,
          0.04575757575757576,
          0.046060606060606066,
          0.046363636363636364,
          0.04666666666666666,
          0.04696969696969697,
          0.04727272727272727,
          0.04757575757575758,
          0.04787878787878788,
          0.04818181818181819,
          0.048484848484848485,
          0.04878787878787879,
          0.04909090909090909,
          0.04939393939393939,
          0.0496969696969697,
          0.05
         ],
         "xaxis": "x",
         "y": [
          0.004530080320682977,
          0.004420531678387246,
          0.004314205054982563,
          0.004210960362691063,
          0.004110665518750747,
          0.0040131958816819885,
          0.003918433734531808,
          0.00382626781059122,
          0.0037365928575679463,
          0.0036493092366252926,
          0.0035643225530758676,
          0.0034815433158524004,
          0.003400886623173126,
          0.0033222718720806667,
          0.003245622489765521,
          0.0031708656847914897,
          0.0030979322165241405,
          0.0030267561812270896,
          0.0029572748134371126,
          0.0028894283013598397,
          0.002823159615144829,
          0.0027584143470037272,
          0.0026951405622294687,
          0.002633288660259125,
          0.0025728112449992335,
          0.002513663003701099,
          0.0024558005937355327,
          0.0023991825366724505,
          0.0023437691191213494,
          0.002289522299834482,
          0.0022364056226160905,
          0.002184384134618697,
          0.002133424309641659,
          0.002083493976078299,
          0.0020345622491862044,
          0.0019865994673810834,
          0.0019395771322780228,
          0.0018934678522255079,
          0.0018482452890970793,
          0.0018038841081234789,
          0.0017603599305644735,
          0.0017176492890346082,
          0.0016757295853108514,
          0.00163457905046276,
          0.0015941767071573627,
          0.0015545023340016108,
          0.0015155364317950702,
          0.0014772601915744843,
          0.0014396554643402253,
          0.0014027047323622133,
          0.00136639108197003,
          0.0013306981777383973,
          0.0012956102379852665,
          0.0012611120115052971,
          0.0012271887554666607,
          0.0011938262144038695,
          0.0011610106002437471,
          0.00112872857330574,
          0.001096967224221573,
          0.001065714056722752,
          0.001034956971247722,
          0.0010046842493234794,
          0.0009748845386793035,
          0.000945546839052866,
          0.000916660488651451,
          0.0008882151512332646,
          0.0008602008037759588,
          0.0008326077247014707,
          0.0008054264826280935,
          0.0007786479256224697,
          0.0007522631709257523,
          0.0007262635951297172,
          0.000700640824780001,
          0.0006753867273849579,
          0.0006504934028098439,
          0.0006259531750372133,
          0.0006017585842754648,
          0.0005779023793984961,
          0.0005543775107003739,
          0.0005311771229498121,
          0.0005082945487300803,
          0.0004857233020507533,
          0.0004634570722184435,
          0.00044148971795435286,
          0.00041981526174711663,
          0.00039842788443004247,
          0.0003773219199724037,
          0.00035649185047499556,
          0.00033593230136067095,
          0.0003156380367510467,
          0.00029560395502103336,
          0.000275825084523249,
          0.0002562965794748037,
          0.00023701371599929534,
          0.00021797188831723094,
          0.00019916660507842158,
          0.0001805934858302152,
          0.00016224825761572848,
          0.00014412675169654058,
          0.00012622490039455522
         ],
         "yaxis": "y"
        },
        {
         "hovertemplate": "distancia_metros=%{x}<br>campo_militeslas=%{y}<br>iman=%{marker.color}<extra></extra>",
         "legendgroup": "",
         "marker": {
          "color": "#636EFA",
          "coloraxis": "coloraxis",
          "symbol": "circle"
         },
         "mode": "markers",
         "name": "",
         "orientation": "v",
         "showlegend": false,
         "type": "scatter",
         "x": [
          0.15,
          0.1,
          0.05,
          0.01
         ],
         "xaxis": "x2",
         "y": [
          0.00054,
          0.00136,
          0.005430000000000001,
          0.01493
         ],
         "yaxis": "y2"
        },
        {
         "line": {
          "color": "#636EFA",
          "dash": "dash"
         },
         "mode": "lines",
         "showlegend": false,
         "type": "scatter",
         "x": [
          0.01,
          0.011414141414141415,
          0.012828282828282828,
          0.014242424242424242,
          0.015656565656565657,
          0.01707070707070707,
          0.018484848484848486,
          0.019898989898989895,
          0.02131313131313131,
          0.022727272727272728,
          0.024141414141414137,
          0.025555555555555554,
          0.02696969696969697,
          0.02838383838383838,
          0.029797979797979796,
          0.031212121212121212,
          0.03262626262626262,
          0.03404040404040404,
          0.035454545454545454,
          0.03686868686868686,
          0.03828282828282828,
          0.039696969696969696,
          0.041111111111111105,
          0.04252525252525252,
          0.04393939393939394,
          0.04535353535353535,
          0.046767676767676764,
          0.04818181818181818,
          0.04959595959595959,
          0.051010101010101006,
          0.05242424242424242,
          0.05383838383838383,
          0.05525252525252525,
          0.056666666666666664,
          0.05808080808080807,
          0.05949494949494949,
          0.060909090909090906,
          0.062323232323232315,
          0.06373737373737373,
          0.06515151515151514,
          0.06656565656565655,
          0.06797979797979797,
          0.06939393939393938,
          0.07080808080808079,
          0.07222222222222222,
          0.07363636363636362,
          0.07505050505050503,
          0.07646464646464644,
          0.07787878787878787,
          0.07929292929292928,
          0.08070707070707069,
          0.08212121212121211,
          0.08353535353535352,
          0.08494949494949493,
          0.08636363636363635,
          0.08777777777777776,
          0.08919191919191917,
          0.09060606060606059,
          0.092020202020202,
          0.09343434343434341,
          0.09484848484848483,
          0.09626262626262624,
          0.09767676767676765,
          0.09909090909090908,
          0.10050505050505049,
          0.1019191919191919,
          0.10333333333333332,
          0.10474747474747473,
          0.10616161616161614,
          0.10757575757575756,
          0.10898989898989897,
          0.11040404040404038,
          0.1118181818181818,
          0.11323232323232321,
          0.11464646464646462,
          0.11606060606060604,
          0.11747474747474745,
          0.11888888888888886,
          0.12030303030303029,
          0.1217171717171717,
          0.1231313131313131,
          0.12454545454545453,
          0.12595959595959594,
          0.12737373737373736,
          0.12878787878787878,
          0.13020202020202018,
          0.1316161616161616,
          0.13303030303030303,
          0.13444444444444442,
          0.13585858585858585,
          0.13727272727272727,
          0.13868686868686866,
          0.1401010101010101,
          0.1415151515151515,
          0.1429292929292929,
          0.14434343434343433,
          0.14575757575757575,
          0.14717171717171715,
          0.14858585858585857,
          0.15
         ],
         "xaxis": "x2",
         "y": [
          0.015022454888964053,
          0.012037250571302607,
          0.009983666962914122,
          0.008510830243266095,
          0.00741874744680779,
          0.006586650974209364,
          0.005938117270174761,
          0.005422871492927521,
          0.005006742211514075,
          0.004665846122474365,
          0.004383083097693736,
          0.004145949148059109,
          0.003945129937781701,
          0.0037735719782243946,
          0.003625854703042639,
          0.0034977569758763254,
          0.0033859521496100004,
          0.0032877898858079983,
          0.0032011376286527537,
          0.0031242637955009936,
          0.0030557505938084827,
          0.0029944281779520827,
          0.0029393243785923897,
          0.002889625933300042,
          0.002844648306620517,
          0.00280381199159803,
          0.0027666237494119676,
          0.0027326616452359315,
          0.002701563027122548,
          0.002673014804533784,
          0.0026467455371504338,
          0.002622518958707237,
          0.002600128645895127,
          0.002579393606657142,
          0.002560154611035168,
          0.002542271125091634,
          0.0025256187372259204,
          0.0025100869885436596,
          0.0024955775363761576,
          0.0024820025937433805,
          0.0024692835983724016,
          0.0024573500734752967,
          0.0024461386493500057,
          0.0024355922203713573,
          0.002425659216376333,
          0.0024162929710408653,
          0.002407451172768212,
          0.002399095385996244,
          0.002391190632788884,
          0.0023837050261888188,
          0.0023766094481405967,
          0.0023698772658978834,
          0.002363484081747906,
          0.002357407511653673,
          0.0023516269890574634,
          0.0023461235906292767,
          0.0023408798811991845,
          0.0023358797754972653,
          0.0023311084146509123,
          0.002326552055666411,
          0.002322197972357808,
          0.0023180343663877774,
          0.0023140502872579056,
          0.00231023556023404,
          0.002306580721319893,
          0.00230307695850204,
          0.002299716058584479,
          0.002296490359013185,
          0.002293392704162495,
          0.0022904164056172225,
          0.0022875552060384794,
          0.0022848032462483535,
          0.002282155035209874,
          0.002279605422614823,
          0.0022771495738236527,
          0.0022747829469296635,
          0.002272501271744107,
          0.002270300530520529,
          0.00226817694025577,
          0.002266126936421941,
          0.002264147157998659,
          0.0022622344336881172,
          0.0022603857692073525,
          0.0022585983355625705,
          0.002256869458219747,
          0.0022551966070940514,
          0.0022535773872880915,
          0.0022520095305156454,
          0.0022504908871535034,
          0.0022490194188693894,
          0.002247593191778733,
          0.0022462103700873802,
          0.002244869210181191,
          0.002243568055126994,
          0.002242305329552488,
          0.002241079534875546,
          0.0022398892448559286,
          0.002238733101444748,
          0.0022376098109091213,
          0.002236518140211352
         ],
         "yaxis": "y2"
        },
        {
         "hovertemplate": "distancia_metros=%{x}<br>campo_militeslas=%{y}<br>iman=%{marker.color}<extra></extra>",
         "legendgroup": "",
         "marker": {
          "color": "#EF553B",
          "coloraxis": "coloraxis",
          "symbol": "circle"
         },
         "mode": "markers",
         "name": "",
         "orientation": "v",
         "showlegend": false,
         "type": "scatter",
         "x": [
          0.1,
          0.08,
          0.06,
          0.04,
          0.02
         ],
         "xaxis": "x2",
         "y": [
          0.0016300000000000002,
          0.0024400000000000003,
          0.00434,
          0.00787,
          0.013580000000000002
         ],
         "yaxis": "y2"
        },
        {
         "line": {
          "color": "#EF553B",
          "dash": "dash"
         },
         "mode": "lines",
         "showlegend": false,
         "type": "scatter",
         "x": [
          0.02,
          0.02080808080808081,
          0.021616161616161617,
          0.022424242424242423,
          0.023232323232323233,
          0.024040404040404043,
          0.02484848484848485,
          0.025656565656565655,
          0.026464646464646465,
          0.027272727272727275,
          0.02808080808080808,
          0.028888888888888888,
          0.029696969696969697,
          0.030505050505050507,
          0.031313131313131314,
          0.03212121212121212,
          0.03292929292929293,
          0.03373737373737374,
          0.034545454545454546,
          0.03535353535353535,
          0.03616161616161616,
          0.03696969696969697,
          0.03777777777777778,
          0.038585858585858585,
          0.0393939393939394,
          0.0402020202020202,
          0.04101010101010101,
          0.041818181818181824,
          0.04262626262626262,
          0.043434343434343436,
          0.04424242424242424,
          0.04505050505050505,
          0.04585858585858586,
          0.04666666666666666,
          0.047474747474747475,
          0.04828282828282829,
          0.04909090909090909,
          0.0498989898989899,
          0.05070707070707071,
          0.051515151515151514,
          0.05232323232323233,
          0.053131313131313126,
          0.05393939393939394,
          0.05474747474747475,
          0.05555555555555555,
          0.056363636363636366,
          0.05717171717171718,
          0.05797979797979798,
          0.05878787878787879,
          0.05959595959595959,
          0.060404040404040404,
          0.06121212121212122,
          0.06202020202020202,
          0.06282828282828283,
          0.06363636363636364,
          0.06444444444444444,
          0.06525252525252526,
          0.06606060606060606,
          0.06686868686868687,
          0.06767676767676768,
          0.06848484848484848,
          0.0692929292929293,
          0.07010101010101011,
          0.07090909090909091,
          0.07171717171717172,
          0.07252525252525252,
          0.07333333333333333,
          0.07414141414141415,
          0.07494949494949495,
          0.07575757575757576,
          0.07656565656565657,
          0.07737373737373737,
          0.07818181818181819,
          0.07898989898989899,
          0.0797979797979798,
          0.08060606060606061,
          0.08141414141414141,
          0.08222222222222222,
          0.08303030303030304,
          0.08383838383838384,
          0.08464646464646465,
          0.08545454545454546,
          0.08626262626262626,
          0.08707070707070708,
          0.08787878787878788,
          0.08868686868686869,
          0.0894949494949495,
          0.0903030303030303,
          0.09111111111111111,
          0.09191919191919193,
          0.09272727272727273,
          0.09353535353535354,
          0.09434343434343435,
          0.09515151515151515,
          0.09595959595959597,
          0.09676767676767677,
          0.09757575757575758,
          0.09838383838383839,
          0.09919191919191919,
          0.1
         ],
         "xaxis": "x2",
         "y": [
          0.014116165710890229,
          0.013239178015382278,
          0.012458693557501739,
          0.01176105584419897,
          0.011134941331932317,
          0.01057089702105258,
          0.010060981549166344,
          0.009598484130537602,
          0.009177702626154395,
          0.008793766942953168,
          0.008442497481760715,
          0.00812029090404261,
          0.00782402735389547,
          0.007550994650488063,
          0.007298825993886402,
          0.007065448499756916,
          0.00684904046382926,
          0.00664799570391538,
          0.006460893670921095,
          0.006286474286308661,
          0.006123616670731033,
          0.005971321091029133,
          0.0058286935808844285,
          0.005694932791982452,
          0.005569318713492893,
          0.005451202962518982,
          0.005340000400367694,
          0.005235181871704864,
          0.005136267897947093,
          0.005042823184212321,
          0.004954451822059964,
          0.004870793089089115,
          0.0047915177620116555,
          0.004716324872696838,
          0.004644938847390575,
          0.004577106978242754,
          0.004512597183748338,
          0.00445119602098048,
          0.004392706917774828,
          0.004336948597483384,
          0.004283753672692319,
          0.004232967387504246,
          0.0041844464907149805,
          0.0041380582245444724,
          0.004093679415574906,
          0.004051195656258594,
          0.004010500566828022,
          0.003971495128706736,
          0.003934087081613254,
          0.0038981903774964683,
          0.0038637246852614585,
          0.003830614940957645,
          0.003798790938721817,
          0.0037681869583099424,
          0.0037387414255247234,
          0.0037103966022599692,
          0.0036830983032460204,
          0.0036567956368994633,
          0.0036314407679610685,
          0.003606988699853276,
          0.003583397074906905,
          0.0035606259907998393,
          0.0035386378317213453,
          0.003517397112927265,
          0.0034968703374858934,
          0.0034770258641340372,
          0.003457833785269291,
          0.0034392658141996074,
          0.0034212951808560237,
          0.0034038965352502634,
          0.003387045858026774,
          0.003370720377519588,
          0.00335489849277894,
          0.00333955970208161,
          0.003324684536482996,
          0.003310254498008628,
          0.0032962520021185713,
          0.003282660324110437,
          0.003269463549155853,
          0.003256646525691585,
          0.003244194821910344,
          0.003232094685117907,
          0.0032203330037427575,
          0.0032088972718022396,
          0.0031977755556453417,
          0.0031869564628069333,
          0.003176429112821627,
          0.003166183109857611,
          0.0031562085170418947,
          0.00314649583235855,
          0.0031370359660107495,
          0.0031278202191458828,
          0.0031188402638507584,
          0.0031100881243309566,
          0.003101556159194906,
          0.0030932370447691957,
          0.0030851237593770755,
          0.003077209568517131,
          0.0030694880108836932,
          0.003061952885174799
         ],
         "yaxis": "y2"
        },
        {
         "hovertemplate": "distancia_metros=%{x}<br>campo_militeslas=%{y}<br>iman=%{marker.color}<extra></extra>",
         "legendgroup": "",
         "marker": {
          "color": "#00CC96",
          "coloraxis": "coloraxis",
          "symbol": "circle"
         },
         "mode": "markers",
         "name": "",
         "orientation": "v",
         "showlegend": false,
         "type": "scatter",
         "x": [
          0.05,
          0.04,
          0.03,
          0.02,
          0.01
         ],
         "xaxis": "x2",
         "y": [
          0.00054,
          0.0008100000000000001,
          0.00109,
          0.00136,
          0.0019
         ],
         "yaxis": "y2"
        },
        {
         "line": {
          "color": "#00CC96",
          "dash": "dash"
         },
         "mode": "lines",
         "showlegend": false,
         "type": "scatter",
         "x": [
          0.01,
          0.010404040404040405,
          0.010808080808080808,
          0.011212121212121211,
          0.011616161616161616,
          0.012020202020202021,
          0.012424242424242424,
          0.012828282828282828,
          0.013232323232323233,
          0.013636363636363637,
          0.01404040404040404,
          0.014444444444444444,
          0.014848484848484849,
          0.015252525252525254,
          0.015656565656565657,
          0.01606060606060606,
          0.016464646464646467,
          0.01686868686868687,
          0.017272727272727273,
          0.017676767676767676,
          0.01808080808080808,
          0.018484848484848486,
          0.01888888888888889,
          0.019292929292929292,
          0.0196969696969697,
          0.0201010101010101,
          0.020505050505050505,
          0.020909090909090912,
          0.02131313131313131,
          0.021717171717171718,
          0.02212121212121212,
          0.022525252525252525,
          0.02292929292929293,
          0.02333333333333333,
          0.023737373737373738,
          0.024141414141414144,
          0.024545454545454544,
          0.02494949494949495,
          0.025353535353535354,
          0.025757575757575757,
          0.026161616161616164,
          0.026565656565656563,
          0.02696969696969697,
          0.027373737373737377,
          0.027777777777777776,
          0.028181818181818183,
          0.02858585858585859,
          0.02898989898989899,
          0.029393939393939396,
          0.029797979797979796,
          0.030202020202020202,
          0.03060606060606061,
          0.03101010101010101,
          0.031414141414141415,
          0.03181818181818182,
          0.03222222222222222,
          0.03262626262626263,
          0.03303030303030303,
          0.033434343434343435,
          0.03383838383838384,
          0.03424242424242424,
          0.03464646464646465,
          0.035050505050505054,
          0.035454545454545454,
          0.03585858585858586,
          0.03626262626262626,
          0.03666666666666667,
          0.037070707070707073,
          0.03747474747474747,
          0.03787878787878788,
          0.038282828282828286,
          0.038686868686868686,
          0.03909090909090909,
          0.03949494949494949,
          0.0398989898989899,
          0.040303030303030306,
          0.040707070707070706,
          0.04111111111111111,
          0.04151515151515152,
          0.04191919191919192,
          0.042323232323232325,
          0.04272727272727273,
          0.04313131313131313,
          0.04353535353535354,
          0.04393939393939394,
          0.044343434343434344,
          0.04474747474747475,
          0.04515151515151515,
          0.04555555555555556,
          0.045959595959595964,
          0.046363636363636364,
          0.04676767676767677,
          0.04717171717171718,
          0.04757575757575758,
          0.04797979797979798,
          0.04838383838383838,
          0.04878787878787879,
          0.049191919191919196,
          0.049595959595959596,
          0.05
         ],
         "xaxis": "x2",
         "y": [
          0.001969763528023844,
          0.0018804121530531905,
          0.0018008929536253583,
          0.001729814545987175,
          0.0016660232375724053,
          0.0016085559150778874,
          0.0015566034774721859,
          0.0015094822003020188,
          0.0014666111244916753,
          0.0014274940634769737,
          0.0013917051812571753,
          0.001358877353807411,
          0.0013286927164459917,
          0.0013008749402259087,
          0.001275182885129502,
          0.0012514053565569974,
          0.0012293567512414632,
          0.0012088734242564185,
          0.0011898106437938476,
          0.0011720400274938896,
          0.0011554473752242644,
          0.0011399308297607206,
          0.001125399309871278,
          0.0011117711706547654,
          0.001098973054231692,
          0.0010869389004923996,
          0.00107560909292569,
          0.001064929718851918,
          0.0010548519268779393,
          0.001045331367241005,
          0.0010363277030427643,
          0.0010278041822938003,
          0.0010197272622732559,
          0.001012066279020345,
          0.0010047931558653958,
          0.0009978821458178982,
          0.0009913096033903651,
          0.0009850537820758742,
          0.000979094654235205,
          0.0009734137506038162,
          0.0009679940170136097,
          0.0009628196862511038,
          0.0009578761632517086,
          0.0009531499220671742,
          0.0009486284132463531,
          0.0009442999804436144,
          0.0009401537852189834,
          0.0009361797391231016,
          0.000932368442271515,
          0.0009287111277092033,
          0.0009251996109498605,
          0.0009218262441470812,
          0.0009185838744178304,
          0.0009154658058937422,
          0.000912465765123981,
          0.0009095778694955947,
          0.0009067965983742893,
          0.0009041167667010548,
          0.0009015335008086706,
          0.0008990422162473269,
          0.0008966385974308402,
          0.0008943185789346169,
          0.0008920783282939292,
          0.0008899142301665127,
          0.0008878228717372041,
          0.0008858010292545342,
          0.0008838456556000417,
          0.0008819538688007633,
          0.0008801229414039853,
          0.0008783502906410788,
          0.0008766334693141463,
          0.0008749701573454089,
          0.0008733581539348192,
          0.0008717953702763783,
          0.0008702798227881294,
          0.0008688096268148353,
          0.0008673829907659991,
          0.0008659982106551655,
          0.0008646536650094168,
          0.0008633478101206545,
          0.0008620791756126905,
          0.0008608463603003719,
          0.0008596480283189549,
          0.0008584829055037604,
          0.000857349776001782,
          0.0008562474790984178,
          0.0008551749062438584,
          0.000854130998264901,
          0.0008531147427490919,
          0.0008521251715891333,
          0.0008511613586764276,
          0.0008502224177334986,
          0.0008493075002758145,
          0.0008484157936942571,
          0.0008475465194501456,
          0.0008466989313753267,
          0.0008458723140703993,
          0.0008450659813946522,
          0.0008442792750417618,
          0.000843511563195729
         ],
         "yaxis": "y2"
        },
        {
         "hovertemplate": "distancia_metros=%{x}<br>campo_militeslas=%{y}<br>iman=%{marker.color}<extra></extra>",
         "legendgroup": "",
         "marker": {
          "color": "#AB63FA",
          "coloraxis": "coloraxis",
          "symbol": "circle"
         },
         "mode": "markers",
         "name": "",
         "orientation": "v",
         "showlegend": false,
         "type": "scatter",
         "x": [
          0.05,
          0.04,
          0.03,
          0.02
         ],
         "xaxis": "x2",
         "y": [
          0.00027,
          0.0008100000000000001,
          0.0019,
          0.00462
         ],
         "yaxis": "y2"
        },
        {
         "line": {
          "color": "#AB63FA",
          "dash": "dash"
         },
         "mode": "lines",
         "showlegend": false,
         "type": "scatter",
         "x": [
          0.02,
          0.020303030303030302,
          0.020606060606060607,
          0.02090909090909091,
          0.021212121212121213,
          0.021515151515151515,
          0.02181818181818182,
          0.02212121212121212,
          0.022424242424242423,
          0.022727272727272728,
          0.02303030303030303,
          0.023333333333333334,
          0.023636363636363636,
          0.02393939393939394,
          0.024242424242424242,
          0.024545454545454544,
          0.02484848484848485,
          0.025151515151515154,
          0.025454545454545455,
          0.025757575757575757,
          0.026060606060606062,
          0.026363636363636363,
          0.026666666666666665,
          0.02696969696969697,
          0.027272727272727275,
          0.027575757575757576,
          0.027878787878787878,
          0.028181818181818183,
          0.028484848484848484,
          0.028787878787878786,
          0.02909090909090909,
          0.029393939393939396,
          0.029696969696969697,
          0.03,
          0.030303030303030304,
          0.03060606060606061,
          0.03090909090909091,
          0.031212121212121212,
          0.03151515151515152,
          0.031818181818181815,
          0.03212121212121212,
          0.032424242424242425,
          0.03272727272727273,
          0.033030303030303035,
          0.03333333333333333,
          0.03363636363636364,
          0.033939393939393936,
          0.03424242424242424,
          0.034545454545454546,
          0.03484848484848485,
          0.035151515151515156,
          0.035454545454545454,
          0.03575757575757576,
          0.03606060606060606,
          0.03636363636363636,
          0.03666666666666667,
          0.03696969696969697,
          0.03727272727272728,
          0.037575757575757575,
          0.03787878787878788,
          0.03818181818181818,
          0.03848484848484848,
          0.03878787878787879,
          0.03909090909090909,
          0.0393939393939394,
          0.039696969696969696,
          0.04,
          0.0403030303030303,
          0.040606060606060604,
          0.04090909090909091,
          0.041212121212121214,
          0.04151515151515152,
          0.041818181818181824,
          0.04212121212121212,
          0.04242424242424242,
          0.042727272727272725,
          0.04303030303030303,
          0.043333333333333335,
          0.04363636363636364,
          0.043939393939393945,
          0.04424242424242424,
          0.04454545454545454,
          0.044848484848484846,
          0.04515151515151515,
          0.045454545454545456,
          0.04575757575757576,
          0.046060606060606066,
          0.046363636363636364,
          0.04666666666666666,
          0.04696969696969697,
          0.04727272727272727,
          0.04757575757575758,
          0.04787878787878788,
          0.04818181818181819,
          0.048484848484848485,
          0.04878787878787879,
          0.04909090909090909,
          0.04939393939393939,
          0.0496969696969697,
          0.05
         ],
         "xaxis": "x2",
         "y": [
          0.0046540493872303575,
          0.004501926700701642,
          0.004356465837730941,
          0.004217283418069745,
          0.004084023248721674,
          0.0039563540427665815,
          0.0038339673584067194,
          0.0037165757342688143,
          0.003603910999890533,
          0.003495722742831391,
          0.003391776916031263,
          0.0032918545709412273,
          0.0031957507036108617,
          0.0031032732023666704,
          0.0030142418869869188,
          0.0029284876303926452,
          0.0028458515548542493,
          0.0027661842955752328,
          0.0026893453252748814,
          0.00261520233406302,
          0.0025436306594936514,
          0.0024745127622101664,
          0.0024077377430612636,
          0.0023432008979810716,
          0.0022808033072955172,
          0.0022204514564452705,
          0.0021620568854084188,
          0.002105535864367487,
          0.002050809093399266,
          0.001997801424175225,
          0.001946441601847967,
          0.0018966620254675629,
          0.0018483985254229185,
          0.0018015901565394442,
          0.0017561790055868444,
          0.0017121100120613443,
          0.0016693308012063705,
          0.0016277915283257945,
          0.001587444733525296,
          0.0015482452060911413,
          0.001510149857782487,
          0.0014731176043739362,
          0.001437109254840049,
          0.001402087407623554,
          0.0013680163534744248,
          0.0013348619843884103,
          0.0013025917082113078,
          0.001271174368509645,
          0.0012405801693398458,
          0.0012107806045766043,
          0.0011817483914874048,
          0.0011534574082641123,
          0.001125882635244492,
          0.0010990000995766656,
          0.0010727868230979154,
          0.001047220773216227,
          0.0010222808165984646,
          0.0009979466754833953,
          0.0009741988864508984,
          0.000951018761490797,
          0.000928388351225899,
          0.0009062904101540709,
          0.0008847083637836681,
          0.000863626277545352,
          0.0008430288273714057,
          0.0008229012718411105,
          0.000803229425797624,
          0.0007839996353481985,
          0.0007651987541654452,
          0.000746814121012848,
          0.0007288335384227699,
          0.0007112452524599032,
          0.0006940379335074704,
          0.0006772006580175247,
          0.0006607228911704536,
          0.0006445944703922919,
          0.00062880558968168,
          0.0006133467847013353,
          0.0005982089185917143,
          0.0005833831684671557,
          0.0005688610125572381,
          0.0005546342179583598,
          0.0005406948289626677,
          0.0005270351559334413,
          0.0005136477646978823,
          0.0005005254664299964,
          0.0004876613079978498,
          0.000475048562751005,
          0.00046268072172534164,
          0.00045055148524379154,
          0.0004386547548927499,
          0.0004269846258550772,
          0.0004155353795817021,
          0.0004043014767848343,
          0.00039327755073676417,
          0.00038245840085910634,
          0.0003718389865881958,
          0.00036141442150311595,
          0.0003511799677035968,
          0.00034113103042569576
         ],
         "yaxis": "y2"
        },
        {
         "hovertemplate": "distancia_metros=%{x}<br>campo_militeslas=%{y}<br>iman=%{marker.color}<extra></extra>",
         "legendgroup": "",
         "marker": {
          "color": "#636EFA",
          "coloraxis": "coloraxis",
          "symbol": "circle"
         },
         "mode": "markers",
         "name": "",
         "orientation": "v",
         "showlegend": false,
         "type": "scatter",
         "x": [
          0.15,
          0.1,
          0.05,
          0.01
         ],
         "xaxis": "x3",
         "y": [
          0.00054,
          0.00136,
          0.005430000000000001,
          0.01493
         ],
         "yaxis": "y3"
        },
        {
         "line": {
          "color": "#636EFA",
          "dash": "dash"
         },
         "mode": "lines",
         "showlegend": false,
         "type": "scatter",
         "x": [
          0.01,
          0.011414141414141415,
          0.012828282828282828,
          0.014242424242424242,
          0.015656565656565657,
          0.01707070707070707,
          0.018484848484848486,
          0.019898989898989895,
          0.02131313131313131,
          0.022727272727272728,
          0.024141414141414137,
          0.025555555555555554,
          0.02696969696969697,
          0.02838383838383838,
          0.029797979797979796,
          0.031212121212121212,
          0.03262626262626262,
          0.03404040404040404,
          0.035454545454545454,
          0.03686868686868686,
          0.03828282828282828,
          0.039696969696969696,
          0.041111111111111105,
          0.04252525252525252,
          0.04393939393939394,
          0.04535353535353535,
          0.046767676767676764,
          0.04818181818181818,
          0.04959595959595959,
          0.051010101010101006,
          0.05242424242424242,
          0.05383838383838383,
          0.05525252525252525,
          0.056666666666666664,
          0.05808080808080807,
          0.05949494949494949,
          0.060909090909090906,
          0.062323232323232315,
          0.06373737373737373,
          0.06515151515151514,
          0.06656565656565655,
          0.06797979797979797,
          0.06939393939393938,
          0.07080808080808079,
          0.07222222222222222,
          0.07363636363636362,
          0.07505050505050503,
          0.07646464646464644,
          0.07787878787878787,
          0.07929292929292928,
          0.08070707070707069,
          0.08212121212121211,
          0.08353535353535352,
          0.08494949494949493,
          0.08636363636363635,
          0.08777777777777776,
          0.08919191919191917,
          0.09060606060606059,
          0.092020202020202,
          0.09343434343434341,
          0.09484848484848483,
          0.09626262626262624,
          0.09767676767676765,
          0.09909090909090908,
          0.10050505050505049,
          0.1019191919191919,
          0.10333333333333332,
          0.10474747474747473,
          0.10616161616161614,
          0.10757575757575756,
          0.10898989898989897,
          0.11040404040404038,
          0.1118181818181818,
          0.11323232323232321,
          0.11464646464646462,
          0.11606060606060604,
          0.11747474747474745,
          0.11888888888888886,
          0.12030303030303029,
          0.1217171717171717,
          0.1231313131313131,
          0.12454545454545453,
          0.12595959595959594,
          0.12737373737373736,
          0.12878787878787878,
          0.13020202020202018,
          0.1316161616161616,
          0.13303030303030303,
          0.13444444444444442,
          0.13585858585858585,
          0.13727272727272727,
          0.13868686868686866,
          0.1401010101010101,
          0.1415151515151515,
          0.1429292929292929,
          0.14434343434343433,
          0.14575757575757575,
          0.14717171717171715,
          0.14858585858585857,
          0.15
         ],
         "xaxis": "x3",
         "y": [
          0.014951858288676715,
          0.01083976069647393,
          0.008344188947353585,
          0.006742796770795301,
          0.00566842037077407,
          0.0049209279997695105,
          0.004384881296022245,
          0.003990502602981525,
          0.0036939194716362487,
          0.0034666039765213906,
          0.0032894592528314,
          0.0031493735262525272,
          0.0030371411890200025,
          0.002946169848588083,
          0.0028716542457706946,
          0.002810035634366698,
          0.002758640272327901,
          0.002715432937219296,
          0.0026788458773576657,
          0.0026476581885392305,
          0.0026209094903049623,
          0.002597837308105441,
          0.0025778310819320697,
          0.0025603979952335226,
          0.002545137313341538,
          0.002531720919741969,
          0.002519878415741272,
          0.002509385614299582,
          0.00250005558241185,
          0.002491731614170638,
          0.002484281678698405,
          0.0024775940036371505,
          0.0024715735394493276,
          0.0024661391117320594,
          0.0024612211145190483,
          0.0024567596316415782,
          0.0024527028988166675,
          0.0024490060384870518,
          0.002445630014177685,
          0.002442540762432425,
          0.0024397084691105872,
          0.002437106963587088,
          0.002434713209679303,
          0.0024325068762670594,
          0.0024304699738409087,
          0.0024285865458056246,
          0.002426842405430782,
          0.0024252249109930476,
          0.0024237227729835896,
          0.0024223258883268386,
          0.0024210251974265845,
          0.002419812560563279,
          0.002418680650744774,
          0.0024176228605869354,
          0.0024166332211908443,
          0.0024157063313054905,
          0.002414837295331811,
          0.002414021668945747,
          0.0024132554113029106,
          0.0024125348429420547,
          0.002411856608634181,
          0.0024112176445331033,
          0.0024106151490751924,
          0.002410046557153692,
          0.002409509517158841,
          0.0024090018705309343,
          0.0024085216335210935,
          0.002408066980895163,
          0.002407636231350901,
          0.0024072278344484596,
          0.002406840358879758,
          0.002406472481924392,
          0.002406122979958753,
          0.002405790719901467,
          0.002405474651492503,
          0.002405173800315655,
          0.0024048872614848356,
          0.002404614193923974,
          0.0024043538151784613,
          0.002404105396703214,
          0.0024038682595786606,
          0.002403641770611426,
          0.0024034253387812746,
          0.0024032184120001123,
          0.0024030204741525367,
          0.00240283104239073,
          0.0024026496646593508,
          0.002402475917428668,
          0.0024023094036164276,
          0.0024021497506809546,
          0.0024019966088697836,
          0.002401849649609689,
          0.0024017085640254017,
          0.002401573061575552,
          0.002401442868795509,
          0.0024013177281377797,
          0.0024011973969015367,
          0.002401081646243634,
          0.0024009702602642074,
          0.002400863035160585
         ],
         "yaxis": "y3"
        },
        {
         "hovertemplate": "distancia_metros=%{x}<br>campo_militeslas=%{y}<br>iman=%{marker.color}<extra></extra>",
         "legendgroup": "",
         "marker": {
          "color": "#EF553B",
          "coloraxis": "coloraxis",
          "symbol": "circle"
         },
         "mode": "markers",
         "name": "",
         "orientation": "v",
         "showlegend": false,
         "type": "scatter",
         "x": [
          0.1,
          0.08,
          0.06,
          0.04,
          0.02
         ],
         "xaxis": "x3",
         "y": [
          0.0016300000000000002,
          0.0024400000000000003,
          0.00434,
          0.00787,
          0.013580000000000002
         ],
         "yaxis": "y3"
        },
        {
         "line": {
          "color": "#EF553B",
          "dash": "dash"
         },
         "mode": "lines",
         "showlegend": false,
         "type": "scatter",
         "x": [
          0.02,
          0.02080808080808081,
          0.021616161616161617,
          0.022424242424242423,
          0.023232323232323233,
          0.024040404040404043,
          0.02484848484848485,
          0.025656565656565655,
          0.026464646464646465,
          0.027272727272727275,
          0.02808080808080808,
          0.028888888888888888,
          0.029696969696969697,
          0.030505050505050507,
          0.031313131313131314,
          0.03212121212121212,
          0.03292929292929293,
          0.03373737373737374,
          0.034545454545454546,
          0.03535353535353535,
          0.03616161616161616,
          0.03696969696969697,
          0.03777777777777778,
          0.038585858585858585,
          0.0393939393939394,
          0.0402020202020202,
          0.04101010101010101,
          0.041818181818181824,
          0.04262626262626262,
          0.043434343434343436,
          0.04424242424242424,
          0.04505050505050505,
          0.04585858585858586,
          0.04666666666666666,
          0.047474747474747475,
          0.04828282828282829,
          0.04909090909090909,
          0.0498989898989899,
          0.05070707070707071,
          0.051515151515151514,
          0.05232323232323233,
          0.053131313131313126,
          0.05393939393939394,
          0.05474747474747475,
          0.05555555555555555,
          0.056363636363636366,
          0.05717171717171718,
          0.05797979797979798,
          0.05878787878787879,
          0.05959595959595959,
          0.060404040404040404,
          0.06121212121212122,
          0.06202020202020202,
          0.06282828282828283,
          0.06363636363636364,
          0.06444444444444444,
          0.06525252525252526,
          0.06606060606060606,
          0.06686868686868687,
          0.06767676767676768,
          0.06848484848484848,
          0.0692929292929293,
          0.07010101010101011,
          0.07090909090909091,
          0.07171717171717172,
          0.07252525252525252,
          0.07333333333333333,
          0.07414141414141415,
          0.07494949494949495,
          0.07575757575757576,
          0.07656565656565657,
          0.07737373737373737,
          0.07818181818181819,
          0.07898989898989899,
          0.0797979797979798,
          0.08060606060606061,
          0.08141414141414141,
          0.08222222222222222,
          0.08303030303030304,
          0.08383838383838384,
          0.08464646464646465,
          0.08545454545454546,
          0.08626262626262626,
          0.08707070707070708,
          0.08787878787878788,
          0.08868686868686869,
          0.0894949494949495,
          0.0903030303030303,
          0.09111111111111111,
          0.09191919191919193,
          0.09272727272727273,
          0.09353535353535354,
          0.09434343434343435,
          0.09515151515151515,
          0.09595959595959597,
          0.09676767676767677,
          0.09757575757575758,
          0.09838383838383839,
          0.09919191919191919,
          0.1
         ],
         "xaxis": "x3",
         "y": [
          0.013946201080260854,
          0.012775065709431552,
          0.011772545913373192,
          0.010909356095292668,
          0.010162108333433216,
          0.009511971960289488,
          0.008943670309240162,
          0.008444722139405659,
          0.008004862601721861,
          0.0076155973202973876,
          0.007269856127650892,
          0.0069617220832076335,
          0.006686217850620523,
          0.0064391361286351475,
          0.006216904173002004,
          0.006016474888637761,
          0.005835238770467672,
          0.005670952308235149,
          0.005521679471698333,
          0.005385743647959631,
          0.005261687976589717,
          0.0051482424672245255,
          0.00504429662229657,
          0.004948876549354388,
          0.004861125751385436,
          0.004780288943349389,
          0.004705698368983544,
          0.004636762191573305,
          0.0045729546116380256,
          0.004513807427827899,
          0.004458902808183186,
          0.004407867079912041,
          0.004360365379042871,
          0.004316097028294726,
          0.004274791533531387,
          0.004236205107201867,
          0.004200117641995831,
          0.004166330070170729,
          0.004134662054126934,
          0.004104949962208362,
          0.004077045090702477,
          0.0040508120988575844,
          0.004026127628630914,
          0.0040028790849937065,
          0.003980963556083843,
          0.003960286855422548,
          0.003940762670889322,
          0.00392231180725228,
          0.003904861510840745,
          0.003888344866473166,
          0.003872700258058237,
          0.0038578708854048937,
          0.0038438043307366006,
          0.003830452169231053,
          0.003817769618618301,
          0.0038057152234851964,
          0.0037942505704663078,
          0.003783340030962909,
          0.003772950528432537,
          0.00376305132764051,
          0.0037536138435688964,
          0.0037446114679440287,
          0.0037360194115759505,
          0.0037278145609066764,
          0.0037199753473427456,
          0.003712481628104479,
          0.003705314577462458,
          0.0036984565873535175,
          0.003691891176475998,
          0.0036856029070589866,
          0.003679577308584383,
          0.003673800807815126,
          0.0036682606645490738,
          0.0036629449125768015,
          0.003657842305373863,
          0.0036529422661046728,
          0.0036482348415566887,
          0.003643710659660699,
          0.00363936089028618,
          0.0036351772090303753,
          0.0036311517637463544,
          0.003627277143579164,
          0.003623546350300612,
          0.0036199527717524762,
          0.003616490157225269,
          0.003613152594615283,
          0.003609934489216725,
          0.0036068305440184324,
          0.0036038357413861553,
          0.0036009453260217334,
          0.003598154789099908,
          0.0035954598534919924,
          0.0035928564599933465,
          0.0035903407544785756,
          0.003587909075914749,
          0.0035855579451686908,
          0.0035832840545496412,
          0.0035810842580333963,
          0.0035789555621183475,
          0.003576895117267857
         ],
         "yaxis": "y3"
        },
        {
         "hovertemplate": "distancia_metros=%{x}<br>campo_militeslas=%{y}<br>iman=%{marker.color}<extra></extra>",
         "legendgroup": "",
         "marker": {
          "color": "#00CC96",
          "coloraxis": "coloraxis",
          "symbol": "circle"
         },
         "mode": "markers",
         "name": "",
         "orientation": "v",
         "showlegend": false,
         "type": "scatter",
         "x": [
          0.05,
          0.04,
          0.03,
          0.02,
          0.01
         ],
         "xaxis": "x3",
         "y": [
          0.00054,
          0.0008100000000000001,
          0.00109,
          0.00136,
          0.0019
         ],
         "yaxis": "y3"
        },
        {
         "line": {
          "color": "#00CC96",
          "dash": "dash"
         },
         "mode": "lines",
         "showlegend": false,
         "type": "scatter",
         "x": [
          0.01,
          0.010404040404040405,
          0.010808080808080808,
          0.011212121212121211,
          0.011616161616161616,
          0.012020202020202021,
          0.012424242424242424,
          0.012828282828282828,
          0.013232323232323233,
          0.013636363636363637,
          0.01404040404040404,
          0.014444444444444444,
          0.014848484848484849,
          0.015252525252525254,
          0.015656565656565657,
          0.01606060606060606,
          0.016464646464646467,
          0.01686868686868687,
          0.017272727272727273,
          0.017676767676767676,
          0.01808080808080808,
          0.018484848484848486,
          0.01888888888888889,
          0.019292929292929292,
          0.0196969696969697,
          0.0201010101010101,
          0.020505050505050505,
          0.020909090909090912,
          0.02131313131313131,
          0.021717171717171718,
          0.02212121212121212,
          0.022525252525252525,
          0.02292929292929293,
          0.02333333333333333,
          0.023737373737373738,
          0.024141414141414144,
          0.024545454545454544,
          0.02494949494949495,
          0.025353535353535354,
          0.025757575757575757,
          0.026161616161616164,
          0.026565656565656563,
          0.02696969696969697,
          0.027373737373737377,
          0.027777777777777776,
          0.028181818181818183,
          0.02858585858585859,
          0.02898989898989899,
          0.029393939393939396,
          0.029797979797979796,
          0.030202020202020202,
          0.03060606060606061,
          0.03101010101010101,
          0.031414141414141415,
          0.03181818181818182,
          0.03222222222222222,
          0.03262626262626263,
          0.03303030303030303,
          0.033434343434343435,
          0.03383838383838384,
          0.03424242424242424,
          0.03464646464646465,
          0.035050505050505054,
          0.035454545454545454,
          0.03585858585858586,
          0.03626262626262626,
          0.03666666666666667,
          0.037070707070707073,
          0.03747474747474747,
          0.03787878787878788,
          0.038282828282828286,
          0.038686868686868686,
          0.03909090909090909,
          0.03949494949494949,
          0.0398989898989899,
          0.040303030303030306,
          0.040707070707070706,
          0.04111111111111111,
          0.04151515151515152,
          0.04191919191919192,
          0.042323232323232325,
          0.04272727272727273,
          0.04313131313131313,
          0.04353535353535354,
          0.04393939393939394,
          0.044343434343434344,
          0.04474747474747475,
          0.04515151515151515,
          0.04555555555555556,
          0.045959595959595964,
          0.046363636363636364,
          0.04676767676767677,
          0.04717171717171718,
          0.04757575757575758,
          0.04797979797979798,
          0.04838383838383838,
          0.04878787878787879,
          0.049191919191919196,
          0.049595959595959596,
          0.05
         ],
         "xaxis": "x3",
         "y": [
          0.001943848992059028,
          0.0018257912734893065,
          0.0017247310520224894,
          0.0016377161576272858,
          0.001562388942542843,
          0.0014968511585391107,
          0.0014395628227468274,
          0.001389265748572142,
          0.0013449251754808263,
          0.0013056848176297678,
          0.0012708319582284537,
          0.0012397701329205282,
          0.0012119975952910784,
          0.0011870902232447404,
          0.0011646878619730812,
          0.0011444833453680976,
          0.001126213619112249,
          0.0011096525234386308,
          0.0010946048944753895,
          0.0010809017192300522,
          0.0010683961371236931,
          0.0010569601252404975,
          0.0010464817385290564,
          0.0010368628025820247,
          0.0010280169771813698,
          0.001019868124904424,
          0.0010123489317728895,
          0.001005399736970407,
          0.0009989675366439154,
          0.0009930051331896478,
          0.0009874704065511695,
          0.000982325688190414,
          0.000977537221739414,
          0.0009730746970609309,
          0.0009689108466661637,
          0.0009650210952559608,
          0.0009613832546464915,
          0.0009579772575730212,
          0.0009547849248855434,
          0.000951789761496911,
          0.0009489767771493942,
          0.0009463323286547056,
          0.0009438439807560341,
          0.0009415003831752236,
          0.0009392911617574508,
          0.0009372068219207222,
          0.0009352386628672605,
          0.0009333787012258597,
          0.0009316196029746879,
          0.0009299546226478765,
          0.0009283775489607626,
          0.0009268826561013366,
          0.0009254646600321897,
          0.0009241186792304971,
          0.0009228401993653331,
          0.0009216250414735989,
          0.0009204693332494976,
          0.0009193694831090103,
          0.0009183221567312395,
          0.0009173242558136515,
          0.0009163728988089152,
          0.0009154654034377978,
          0.0009145992707960013,
          0.0009137721708933369,
          0.0009129819294816348,
          0.0009122265160436089,
          0.0009115040328288192,
          0.000910812704835146,
          0.0009101508706450268,
          0.0009095169740352792,
          0.0009089095562878115,
          0.0009083272491360329,
          0.0009077687682884462,
          0.0009072329074768267,
          0.0009067185329816649,
          0.000906224578592248,
          0.0009057500409629382,
          0.0009052939753309552,
          0.0009048554915643036,
          0.0009044337505114879,
          0.0009040279606273328,
          0.0009036373748516349,
          0.0009032612877195305,
          0.0009028990326844071,
          0.000902549979635929,
          0.0009022135325973262,
          0.0009018891275875094,
          0.0009015762306348571,
          0.0009012743359306754,
          0.0009009829641113776,
          0.0009007016606593761,
          0.0009004299944135369,
          0.0009001675561808228,
          0.0008999139574414586,
          0.0008996688291405885,
          0.0008994318205599816,
          0.0008992025982638674,
          0.0008989808451134681,
          0.0008987662593452307,
          0.0008985585537081655
         ],
         "yaxis": "y3"
        },
        {
         "hovertemplate": "distancia_metros=%{x}<br>campo_militeslas=%{y}<br>iman=%{marker.color}<extra></extra>",
         "legendgroup": "",
         "marker": {
          "color": "#AB63FA",
          "coloraxis": "coloraxis",
          "symbol": "circle"
         },
         "mode": "markers",
         "name": "",
         "orientation": "v",
         "showlegend": false,
         "type": "scatter",
         "x": [
          0.05,
          0.04,
          0.03,
          0.02
         ],
         "xaxis": "x3",
         "y": [
          0.00027,
          0.0008100000000000001,
          0.0019,
          0.00462
         ],
         "yaxis": "y3"
        },
        {
         "line": {
          "color": "#AB63FA",
          "dash": "dash"
         },
         "mode": "lines",
         "showlegend": false,
         "type": "scatter",
         "x": [
          0.02,
          0.020303030303030302,
          0.020606060606060607,
          0.02090909090909091,
          0.021212121212121213,
          0.021515151515151515,
          0.02181818181818182,
          0.02212121212121212,
          0.022424242424242423,
          0.022727272727272728,
          0.02303030303030303,
          0.023333333333333334,
          0.023636363636363636,
          0.02393939393939394,
          0.024242424242424242,
          0.024545454545454544,
          0.02484848484848485,
          0.025151515151515154,
          0.025454545454545455,
          0.025757575757575757,
          0.026060606060606062,
          0.026363636363636363,
          0.026666666666666665,
          0.02696969696969697,
          0.027272727272727275,
          0.027575757575757576,
          0.027878787878787878,
          0.028181818181818183,
          0.028484848484848484,
          0.028787878787878786,
          0.02909090909090909,
          0.029393939393939396,
          0.029696969696969697,
          0.03,
          0.030303030303030304,
          0.03060606060606061,
          0.03090909090909091,
          0.031212121212121212,
          0.03151515151515152,
          0.031818181818181815,
          0.03212121212121212,
          0.032424242424242425,
          0.03272727272727273,
          0.033030303030303035,
          0.03333333333333333,
          0.03363636363636364,
          0.033939393939393936,
          0.03424242424242424,
          0.034545454545454546,
          0.03484848484848485,
          0.035151515151515156,
          0.035454545454545454,
          0.03575757575757576,
          0.03606060606060606,
          0.03636363636363636,
          0.03666666666666667,
          0.03696969696969697,
          0.03727272727272728,
          0.037575757575757575,
          0.03787878787878788,
          0.03818181818181818,
          0.03848484848484848,
          0.03878787878787879,
          0.03909090909090909,
          0.0393939393939394,
          0.039696969696969696,
          0.04,
          0.0403030303030303,
          0.040606060606060604,
          0.04090909090909091,
          0.041212121212121214,
          0.04151515151515152,
          0.041818181818181824,
          0.04212121212121212,
          0.04242424242424242,
          0.042727272727272725,
          0.04303030303030303,
          0.043333333333333335,
          0.04363636363636364,
          0.043939393939393945,
          0.04424242424242424,
          0.04454545454545454,
          0.044848484848484846,
          0.04515151515151515,
          0.045454545454545456,
          0.04575757575757576,
          0.046060606060606066,
          0.046363636363636364,
          0.04666666666666666,
          0.04696969696969697,
          0.04727272727272727,
          0.04757575757575758,
          0.04787878787878788,
          0.04818181818181819,
          0.048484848484848485,
          0.04878787878787879,
          0.04909090909090909,
          0.04939393939393939,
          0.0496969696969697,
          0.05
         ],
         "xaxis": "x3",
         "y": [
          0.004703590962591059,
          0.004506876567325999,
          0.0043215638497373365,
          0.004146838576632143,
          0.003981955306627782,
          0.003826230703867717,
          0.0036790375842624765,
          0.003539799605193817,
          0.0034079865214908054,
          0.0032831099406399208,
          0.003164719518894563,
          0.0030523995474257357,
          0.0029457658840914692,
          0.0028444631919535535,
          0.002748162450467773,
          0.002656558709427867,
          0.0025693690593472946,
          0.002486330795094813,
          0.0024071997523266876,
          0.0023317487986364697,
          0.002259766463420796,
          0.002191055692277561,
          0.0021254327133460897,
          0.00206272600439754,
          0.0020027753507133412,
          0.001945430984872058,
          0.0018905528005196716,
          0.0018380096330411647,
          0.0017876786007966182,
          0.0017394445012449693,
          0.001693199256863719,
          0.0016488414062923139,
          0.0016062756365886974,
          0.0015654123528994843,
          0.0015261672822104526,
          0.001488461108170761,
          0.0014522191342761588,
          0.0014173709729574453,
          0.0013838502583540743,
          0.0013515943807622176,
          0.0013205442409344693,
          0.0012906440225771516,
          0.0012618409815428671,
          0.0012340852503525356,
          0.0012073296568041508,
          0.0011815295555364456,
          0.0011566426715158076,
          0.0011326289545052469,
          0.0011094504436560777,
          0.0010870711414370246,
          0.001065456896182582,
          0.0010445752926033093,
          0.0010243955496559705,
          0.0010048884252216008,
          0.000986026127085177,
          0.0009677822297520831,
          0.0009501315966743278,
          0.000933050307493924,
          0.0009165155899422277,
          0.0009005057560627049,
          0.0008850001424507817,
          0.0008699790542283436,
          0.0008554237124923675,
          0.000841316204997184,
          0.000827639439848239,
          0.000814377102002047,
          0.000801513612382456,
          0.0007890340894375264,
          0.0007769243129743234,
          0.0007651706901209012,
          0.0007537602232757407,
          0.0007426804799150427,
          0.0007319195641375913,
          0.0007214660898354966,
          0.0007113091553870467,
          0.0007014383197752053,
          0.0006918435800420382,
          0.0006825153499955755,
          0.0006734444400913832,
          0.000664622038416435,
          0.0006560396927078007,
          0.000647689293343229,
          0.0006395630572449243,
          0.0006316535126417312,
          0.0006239534846385637,
          0.0006164560815452891,
          0.0006091546819203938,
          0.0006020429222876618,
          0.0005951146854867907,
          0.0005883640896213735,
          0.0005817854775700072,
          0.0005753734070284489,
          0.0005691226410527678,
          0.0005630281390753092,
          0.0005570850483670452,
          0.0005512886959215114,
          0.000545634580737057,
          0.0005401183664755464,
          0.0005347358744769854,
          0.0005294830771107704
         ],
         "yaxis": "y3"
        }
       ],
       "layout": {
        "annotations": [
         {
          "font": {
           "size": 16
          },
          "showarrow": false,
          "text": "Ajuste de la forma 1/x",
          "x": 0.14444444444444446,
          "xanchor": "center",
          "xref": "paper",
          "y": 1,
          "yanchor": "bottom",
          "yref": "paper"
         },
         {
          "font": {
           "size": 16
          },
          "showarrow": false,
          "text": "Ajuste de la forma 1/x^2",
          "x": 0.5,
          "xanchor": "center",
          "xref": "paper",
          "y": 1,
          "yanchor": "bottom",
          "yref": "paper"
         },
         {
          "font": {
           "size": 16
          },
          "showarrow": false,
          "text": "Ajuste de la forma 1/x^3",
          "x": 0.8555555555555556,
          "xanchor": "center",
          "xref": "paper",
          "y": 1,
          "yanchor": "bottom",
          "yref": "paper"
         }
        ],
        "height": 500,
        "legend": {
         "title": {
          "text": "Ajustes"
         }
        },
        "template": {
         "data": {
          "bar": [
           {
            "error_x": {
             "color": "#2a3f5f"
            },
            "error_y": {
             "color": "#2a3f5f"
            },
            "marker": {
             "line": {
              "color": "#E5ECF6",
              "width": 0.5
             },
             "pattern": {
              "fillmode": "overlay",
              "size": 10,
              "solidity": 0.2
             }
            },
            "type": "bar"
           }
          ],
          "barpolar": [
           {
            "marker": {
             "line": {
              "color": "#E5ECF6",
              "width": 0.5
             },
             "pattern": {
              "fillmode": "overlay",
              "size": 10,
              "solidity": 0.2
             }
            },
            "type": "barpolar"
           }
          ],
          "carpet": [
           {
            "aaxis": {
             "endlinecolor": "#2a3f5f",
             "gridcolor": "white",
             "linecolor": "white",
             "minorgridcolor": "white",
             "startlinecolor": "#2a3f5f"
            },
            "baxis": {
             "endlinecolor": "#2a3f5f",
             "gridcolor": "white",
             "linecolor": "white",
             "minorgridcolor": "white",
             "startlinecolor": "#2a3f5f"
            },
            "type": "carpet"
           }
          ],
          "choropleth": [
           {
            "colorbar": {
             "outlinewidth": 0,
             "ticks": ""
            },
            "type": "choropleth"
           }
          ],
          "contour": [
           {
            "colorbar": {
             "outlinewidth": 0,
             "ticks": ""
            },
            "colorscale": [
             [
              0,
              "#0d0887"
             ],
             [
              0.1111111111111111,
              "#46039f"
             ],
             [
              0.2222222222222222,
              "#7201a8"
             ],
             [
              0.3333333333333333,
              "#9c179e"
             ],
             [
              0.4444444444444444,
              "#bd3786"
             ],
             [
              0.5555555555555556,
              "#d8576b"
             ],
             [
              0.6666666666666666,
              "#ed7953"
             ],
             [
              0.7777777777777778,
              "#fb9f3a"
             ],
             [
              0.8888888888888888,
              "#fdca26"
             ],
             [
              1,
              "#f0f921"
             ]
            ],
            "type": "contour"
           }
          ],
          "contourcarpet": [
           {
            "colorbar": {
             "outlinewidth": 0,
             "ticks": ""
            },
            "type": "contourcarpet"
           }
          ],
          "heatmap": [
           {
            "colorbar": {
             "outlinewidth": 0,
             "ticks": ""
            },
            "colorscale": [
             [
              0,
              "#0d0887"
             ],
             [
              0.1111111111111111,
              "#46039f"
             ],
             [
              0.2222222222222222,
              "#7201a8"
             ],
             [
              0.3333333333333333,
              "#9c179e"
             ],
             [
              0.4444444444444444,
              "#bd3786"
             ],
             [
              0.5555555555555556,
              "#d8576b"
             ],
             [
              0.6666666666666666,
              "#ed7953"
             ],
             [
              0.7777777777777778,
              "#fb9f3a"
             ],
             [
              0.8888888888888888,
              "#fdca26"
             ],
             [
              1,
              "#f0f921"
             ]
            ],
            "type": "heatmap"
           }
          ],
          "heatmapgl": [
           {
            "colorbar": {
             "outlinewidth": 0,
             "ticks": ""
            },
            "colorscale": [
             [
              0,
              "#0d0887"
             ],
             [
              0.1111111111111111,
              "#46039f"
             ],
             [
              0.2222222222222222,
              "#7201a8"
             ],
             [
              0.3333333333333333,
              "#9c179e"
             ],
             [
              0.4444444444444444,
              "#bd3786"
             ],
             [
              0.5555555555555556,
              "#d8576b"
             ],
             [
              0.6666666666666666,
              "#ed7953"
             ],
             [
              0.7777777777777778,
              "#fb9f3a"
             ],
             [
              0.8888888888888888,
              "#fdca26"
             ],
             [
              1,
              "#f0f921"
             ]
            ],
            "type": "heatmapgl"
           }
          ],
          "histogram": [
           {
            "marker": {
             "pattern": {
              "fillmode": "overlay",
              "size": 10,
              "solidity": 0.2
             }
            },
            "type": "histogram"
           }
          ],
          "histogram2d": [
           {
            "colorbar": {
             "outlinewidth": 0,
             "ticks": ""
            },
            "colorscale": [
             [
              0,
              "#0d0887"
             ],
             [
              0.1111111111111111,
              "#46039f"
             ],
             [
              0.2222222222222222,
              "#7201a8"
             ],
             [
              0.3333333333333333,
              "#9c179e"
             ],
             [
              0.4444444444444444,
              "#bd3786"
             ],
             [
              0.5555555555555556,
              "#d8576b"
             ],
             [
              0.6666666666666666,
              "#ed7953"
             ],
             [
              0.7777777777777778,
              "#fb9f3a"
             ],
             [
              0.8888888888888888,
              "#fdca26"
             ],
             [
              1,
              "#f0f921"
             ]
            ],
            "type": "histogram2d"
           }
          ],
          "histogram2dcontour": [
           {
            "colorbar": {
             "outlinewidth": 0,
             "ticks": ""
            },
            "colorscale": [
             [
              0,
              "#0d0887"
             ],
             [
              0.1111111111111111,
              "#46039f"
             ],
             [
              0.2222222222222222,
              "#7201a8"
             ],
             [
              0.3333333333333333,
              "#9c179e"
             ],
             [
              0.4444444444444444,
              "#bd3786"
             ],
             [
              0.5555555555555556,
              "#d8576b"
             ],
             [
              0.6666666666666666,
              "#ed7953"
             ],
             [
              0.7777777777777778,
              "#fb9f3a"
             ],
             [
              0.8888888888888888,
              "#fdca26"
             ],
             [
              1,
              "#f0f921"
             ]
            ],
            "type": "histogram2dcontour"
           }
          ],
          "mesh3d": [
           {
            "colorbar": {
             "outlinewidth": 0,
             "ticks": ""
            },
            "type": "mesh3d"
           }
          ],
          "parcoords": [
           {
            "line": {
             "colorbar": {
              "outlinewidth": 0,
              "ticks": ""
             }
            },
            "type": "parcoords"
           }
          ],
          "pie": [
           {
            "automargin": true,
            "type": "pie"
           }
          ],
          "scatter": [
           {
            "fillpattern": {
             "fillmode": "overlay",
             "size": 10,
             "solidity": 0.2
            },
            "type": "scatter"
           }
          ],
          "scatter3d": [
           {
            "line": {
             "colorbar": {
              "outlinewidth": 0,
              "ticks": ""
             }
            },
            "marker": {
             "colorbar": {
              "outlinewidth": 0,
              "ticks": ""
             }
            },
            "type": "scatter3d"
           }
          ],
          "scattercarpet": [
           {
            "marker": {
             "colorbar": {
              "outlinewidth": 0,
              "ticks": ""
             }
            },
            "type": "scattercarpet"
           }
          ],
          "scattergeo": [
           {
            "marker": {
             "colorbar": {
              "outlinewidth": 0,
              "ticks": ""
             }
            },
            "type": "scattergeo"
           }
          ],
          "scattergl": [
           {
            "marker": {
             "colorbar": {
              "outlinewidth": 0,
              "ticks": ""
             }
            },
            "type": "scattergl"
           }
          ],
          "scattermapbox": [
           {
            "marker": {
             "colorbar": {
              "outlinewidth": 0,
              "ticks": ""
             }
            },
            "type": "scattermapbox"
           }
          ],
          "scatterpolar": [
           {
            "marker": {
             "colorbar": {
              "outlinewidth": 0,
              "ticks": ""
             }
            },
            "type": "scatterpolar"
           }
          ],
          "scatterpolargl": [
           {
            "marker": {
             "colorbar": {
              "outlinewidth": 0,
              "ticks": ""
             }
            },
            "type": "scatterpolargl"
           }
          ],
          "scatterternary": [
           {
            "marker": {
             "colorbar": {
              "outlinewidth": 0,
              "ticks": ""
             }
            },
            "type": "scatterternary"
           }
          ],
          "surface": [
           {
            "colorbar": {
             "outlinewidth": 0,
             "ticks": ""
            },
            "colorscale": [
             [
              0,
              "#0d0887"
             ],
             [
              0.1111111111111111,
              "#46039f"
             ],
             [
              0.2222222222222222,
              "#7201a8"
             ],
             [
              0.3333333333333333,
              "#9c179e"
             ],
             [
              0.4444444444444444,
              "#bd3786"
             ],
             [
              0.5555555555555556,
              "#d8576b"
             ],
             [
              0.6666666666666666,
              "#ed7953"
             ],
             [
              0.7777777777777778,
              "#fb9f3a"
             ],
             [
              0.8888888888888888,
              "#fdca26"
             ],
             [
              1,
              "#f0f921"
             ]
            ],
            "type": "surface"
           }
          ],
          "table": [
           {
            "cells": {
             "fill": {
              "color": "#EBF0F8"
             },
             "line": {
              "color": "white"
             }
            },
            "header": {
             "fill": {
              "color": "#C8D4E3"
             },
             "line": {
              "color": "white"
             }
            },
            "type": "table"
           }
          ]
         },
         "layout": {
          "annotationdefaults": {
           "arrowcolor": "#2a3f5f",
           "arrowhead": 0,
           "arrowwidth": 1
          },
          "autotypenumbers": "strict",
          "coloraxis": {
           "colorbar": {
            "outlinewidth": 0,
            "ticks": ""
           }
          },
          "colorscale": {
           "diverging": [
            [
             0,
             "#8e0152"
            ],
            [
             0.1,
             "#c51b7d"
            ],
            [
             0.2,
             "#de77ae"
            ],
            [
             0.3,
             "#f1b6da"
            ],
            [
             0.4,
             "#fde0ef"
            ],
            [
             0.5,
             "#f7f7f7"
            ],
            [
             0.6,
             "#e6f5d0"
            ],
            [
             0.7,
             "#b8e186"
            ],
            [
             0.8,
             "#7fbc41"
            ],
            [
             0.9,
             "#4d9221"
            ],
            [
             1,
             "#276419"
            ]
           ],
           "sequential": [
            [
             0,
             "#0d0887"
            ],
            [
             0.1111111111111111,
             "#46039f"
            ],
            [
             0.2222222222222222,
             "#7201a8"
            ],
            [
             0.3333333333333333,
             "#9c179e"
            ],
            [
             0.4444444444444444,
             "#bd3786"
            ],
            [
             0.5555555555555556,
             "#d8576b"
            ],
            [
             0.6666666666666666,
             "#ed7953"
            ],
            [
             0.7777777777777778,
             "#fb9f3a"
            ],
            [
             0.8888888888888888,
             "#fdca26"
            ],
            [
             1,
             "#f0f921"
            ]
           ],
           "sequentialminus": [
            [
             0,
             "#0d0887"
            ],
            [
             0.1111111111111111,
             "#46039f"
            ],
            [
             0.2222222222222222,
             "#7201a8"
            ],
            [
             0.3333333333333333,
             "#9c179e"
            ],
            [
             0.4444444444444444,
             "#bd3786"
            ],
            [
             0.5555555555555556,
             "#d8576b"
            ],
            [
             0.6666666666666666,
             "#ed7953"
            ],
            [
             0.7777777777777778,
             "#fb9f3a"
            ],
            [
             0.8888888888888888,
             "#fdca26"
            ],
            [
             1,
             "#f0f921"
            ]
           ]
          },
          "colorway": [
           "#636efa",
           "#EF553B",
           "#00cc96",
           "#ab63fa",
           "#FFA15A",
           "#19d3f3",
           "#FF6692",
           "#B6E880",
           "#FF97FF",
           "#FECB52"
          ],
          "font": {
           "color": "#2a3f5f"
          },
          "geo": {
           "bgcolor": "white",
           "lakecolor": "white",
           "landcolor": "#E5ECF6",
           "showlakes": true,
           "showland": true,
           "subunitcolor": "white"
          },
          "hoverlabel": {
           "align": "left"
          },
          "hovermode": "closest",
          "mapbox": {
           "style": "light"
          },
          "paper_bgcolor": "white",
          "plot_bgcolor": "#E5ECF6",
          "polar": {
           "angularaxis": {
            "gridcolor": "white",
            "linecolor": "white",
            "ticks": ""
           },
           "bgcolor": "#E5ECF6",
           "radialaxis": {
            "gridcolor": "white",
            "linecolor": "white",
            "ticks": ""
           }
          },
          "scene": {
           "xaxis": {
            "backgroundcolor": "#E5ECF6",
            "gridcolor": "white",
            "gridwidth": 2,
            "linecolor": "white",
            "showbackground": true,
            "ticks": "",
            "zerolinecolor": "white"
           },
           "yaxis": {
            "backgroundcolor": "#E5ECF6",
            "gridcolor": "white",
            "gridwidth": 2,
            "linecolor": "white",
            "showbackground": true,
            "ticks": "",
            "zerolinecolor": "white"
           },
           "zaxis": {
            "backgroundcolor": "#E5ECF6",
            "gridcolor": "white",
            "gridwidth": 2,
            "linecolor": "white",
            "showbackground": true,
            "ticks": "",
            "zerolinecolor": "white"
           }
          },
          "shapedefaults": {
           "line": {
            "color": "#2a3f5f"
           }
          },
          "ternary": {
           "aaxis": {
            "gridcolor": "white",
            "linecolor": "white",
            "ticks": ""
           },
           "baxis": {
            "gridcolor": "white",
            "linecolor": "white",
            "ticks": ""
           },
           "bgcolor": "#E5ECF6",
           "caxis": {
            "gridcolor": "white",
            "linecolor": "white",
            "ticks": ""
           }
          },
          "title": {
           "x": 0.05
          },
          "xaxis": {
           "automargin": true,
           "gridcolor": "white",
           "linecolor": "white",
           "ticks": "",
           "title": {
            "standoff": 15
           },
           "zerolinecolor": "white",
           "zerolinewidth": 2
          },
          "yaxis": {
           "automargin": true,
           "gridcolor": "white",
           "linecolor": "white",
           "ticks": "",
           "title": {
            "standoff": 15
           },
           "zerolinecolor": "white",
           "zerolinewidth": 2
          }
         }
        },
        "title": {
         "text": "Ajustes de la forma a los datos de ditancia del sensor contra el campo medido en militeslas (mT)"
        },
        "width": 1200,
        "xaxis": {
         "anchor": "y",
         "domain": [
          0,
          0.2888888888888889
         ],
         "title": {
          "text": "Distancia del sensor al imán (m)"
         }
        },
        "xaxis2": {
         "anchor": "y2",
         "domain": [
          0.35555555555555557,
          0.6444444444444445
         ],
         "title": {
          "text": "Distancia del sensor al imán (m)"
         }
        },
        "xaxis3": {
         "anchor": "y3",
         "domain": [
          0.7111111111111111,
          1
         ],
         "title": {
          "text": "Distancia del sensor al imán (m)"
         }
        },
        "yaxis": {
         "anchor": "x",
         "domain": [
          0,
          1
         ],
         "title": {
          "text": "Campo magnético (mT)"
         }
        },
        "yaxis2": {
         "anchor": "x2",
         "domain": [
          0,
          1
         ]
        },
        "yaxis3": {
         "anchor": "x3",
         "domain": [
          0,
          1
         ]
        }
       }
      }
     },
     "metadata": {},
     "output_type": "display_data"
    }
   ],
   "source": [
    "fig = make_subplots(rows=1, cols=3, subplot_titles=['Ajuste de la forma 1/x', 'Ajuste de la forma 1/x^2', 'Ajuste de la forma 1/x^3'])\n",
    "\n",
    "# Paletas de colores\n",
    "colores_1 = px.colors.qualitative.Plotly\n",
    "colores_2 = px.colors.qualitative.Dark2\n",
    "\n",
    "# Definición de funciones inversas\n",
    "def func1(x, a, b):\n",
    "    return a / (x) + b\n",
    "\n",
    "def func2(x, a, b):\n",
    "    return a / (x**2) + b\n",
    "\n",
    "def func3(x, a, b):\n",
    "    return a / (x**3) + b\n",
    "\n",
    "# Itera sobre los subplots y los imanes\n",
    "for i, subplot_title, imanes, colores in zip([1, 2, 3], [''], [[1, 2, 3, 4]], [colores_1, colores_2]):\n",
    "    for iman, color in zip(imanes, colores):\n",
    "        \n",
    "        datos_iman = datos_totales[datos_totales['iman'] == iman]\n",
    "\n",
    "        # Ajuste polinomial\n",
    "        popt, _ = curve_fit(func1, datos_iman['distancia_metros'], datos_iman['campo_militeslas'])\n",
    "        a_opt, b_opt = popt\n",
    "\n",
    "        # Definir la fórmula del polinomio ajustado\n",
    "        polynomial_formula = f\"{a_opt:.6f}/x {b_opt:.6f}\"\n",
    "\n",
    "        # Generar datos para la curva ajustada\n",
    "        x_fit = np.linspace(datos_iman['distancia_metros'].min(), datos_iman['distancia_metros'].max(), 100)\n",
    "        y_fit = func1(x_fit, *popt)\n",
    "\n",
    "        # Agregar scatter plot de datos reales\n",
    "        scatter_trace = px.scatter(datos_iman, x='distancia_metros', y='campo_militeslas', color='iman').update_traces(\n",
    "            marker=dict(color=color)).data[0]\n",
    "\n",
    "        # Agregar línea de ajuste a la subgráfica\n",
    "        fit_trace = go.Scatter(x=x_fit, y=y_fit, mode='lines', name=f'Ajuste imán {iman}', line=dict(color=color, dash='dash'))\n",
    "        fig.add_trace(scatter_trace, row=1, col=1)\n",
    "        fig.add_trace(fit_trace, row=1, col=1)\n",
    "\n",
    "for i, subplot_title, imanes, colores in zip([1, 2, 3], ['Imanes 1 y 2', 'Imanes 3 y 4'], [[1, 2, 3, 4]], [colores_1, colores_2]):\n",
    "    for iman, color in zip(imanes, colores):\n",
    "        \n",
    "        datos_iman = datos_totales[datos_totales['iman'] == iman]\n",
    "\n",
    "        # Ajuste polinomial\n",
    "        popt, _ = curve_fit(func2, datos_iman['distancia_metros'], datos_iman['campo_militeslas'])\n",
    "        a_opt, b_opt = popt\n",
    "\n",
    "        # Definir la fórmula del polinomio ajustado\n",
    "        polynomial_formula = f\"{a_opt:.6f}/x^2 {b_opt:.6f}\"\n",
    "\n",
    "        # Generar datos para la curva ajustada\n",
    "        x_fit = np.linspace(datos_iman['distancia_metros'].min(), datos_iman['distancia_metros'].max(), 100)\n",
    "        y_fit = func2(x_fit, *popt)\n",
    "\n",
    "        # Agregar scatter plot de datos reales\n",
    "        scatter_trace = px.scatter(datos_iman, x='distancia_metros', y='campo_militeslas', color='iman').update_traces(\n",
    "            marker=dict(color=color)).data[0]\n",
    "\n",
    "        # Agregar línea de ajuste a la subgráfica\n",
    "        fit_trace = go.Scatter(x=x_fit, y=y_fit, mode='lines', line=dict(color=color, dash='dash'), showlegend=False)\n",
    "        fig.add_trace(scatter_trace, row=1, col=2)\n",
    "        fig.add_trace(fit_trace, row=1, col=2)\n",
    "\n",
    "for i, subplot_title, imanes, colores in zip([1, 2, 3], ['Imanes 1 y 2', 'Imanes 3 y 4'], [[1, 2, 3, 4]], [colores_1, colores_2]):\n",
    "    for iman, color in zip(imanes, colores):\n",
    "        \n",
    "        datos_iman = datos_totales[datos_totales['iman'] == iman]\n",
    "\n",
    "        # Ajuste polinomial\n",
    "        popt, _ = curve_fit(func3, datos_iman['distancia_metros'], datos_iman['campo_militeslas'])\n",
    "        a_opt, b_opt = popt\n",
    "\n",
    "        # Definir la fórmula del polinomio ajustado\n",
    "        polynomial_formula = f\"{a_opt:.6f}/x^2 {b_opt:.6f}\"\n",
    "\n",
    "        # Generar datos para la curva ajustada\n",
    "        x_fit = np.linspace(datos_iman['distancia_metros'].min(), datos_iman['distancia_metros'].max(), 100)\n",
    "        y_fit = func3(x_fit, *popt)\n",
    "\n",
    "        # Agregar scatter plot de datos reales\n",
    "        scatter_trace = px.scatter(datos_iman, x='distancia_metros', y='campo_militeslas', color='iman').update_traces(\n",
    "            marker=dict(color=color)).data[0]\n",
    "\n",
    "        # Agregar línea de ajuste a la subgráfica\n",
    "        fit_trace = go.Scatter(x=x_fit, y=y_fit, mode='lines', line=dict(color=color, dash='dash'), showlegend=False)\n",
    "        fig.add_trace(scatter_trace, row=1, col=3)\n",
    "        fig.add_trace(fit_trace, row=1, col=3)\n",
    "\n",
    "fig.update_layout(\n",
    "    title_text='Ajustes de la forma a los datos de ditancia del sensor contra el campo medido en militeslas (mT)',\n",
    "    legend_title='Ajustes',\n",
    "    xaxis_title='Distancia del sensor al imán (m)',\n",
    "    yaxis_title='Campo magnético (mT)',\n",
    "    xaxis2_title='Distancia del sensor al imán (m)',\n",
    "    xaxis3_title='Distancia del sensor al imán (m)',\n",
    "    width=1200,\n",
    "    height=500,\n",
    ")\n",
    "\n",
    "# fig.write_image(\"ajustes x^-1.png\")\n",
    "fig.show()"
   ]
  },
  {
   "cell_type": "markdown",
   "metadata": {},
   "source": [
    "Gráfica de ajustes polinomiales de segundo grado"
   ]
  },
  {
   "cell_type": "code",
   "execution_count": 20,
   "metadata": {},
   "outputs": [
    {
     "data": {
      "application/vnd.plotly.v1+json": {
       "config": {
        "plotlyServerURL": "https://plot.ly"
       },
       "data": [
        {
         "hovertemplate": "x=%{x}<br>y=%{y}<extra></extra>",
         "legendgroup": "",
         "line": {
          "color": "#636EFA",
          "dash": "solid",
          "shape": "linear"
         },
         "marker": {
          "symbol": "circle"
         },
         "mode": "lines",
         "name": "",
         "orientation": "v",
         "showlegend": false,
         "type": "scatter",
         "x": [
          0.01,
          0.011414141414141415,
          0.012828282828282828,
          0.014242424242424242,
          0.015656565656565657,
          0.01707070707070707,
          0.018484848484848486,
          0.019898989898989895,
          0.02131313131313131,
          0.022727272727272728,
          0.024141414141414137,
          0.025555555555555554,
          0.02696969696969697,
          0.02838383838383838,
          0.029797979797979796,
          0.031212121212121212,
          0.03262626262626262,
          0.03404040404040404,
          0.035454545454545454,
          0.03686868686868686,
          0.03828282828282828,
          0.039696969696969696,
          0.041111111111111105,
          0.04252525252525252,
          0.04393939393939394,
          0.04535353535353535,
          0.046767676767676764,
          0.04818181818181818,
          0.04959595959595959,
          0.051010101010101006,
          0.05242424242424242,
          0.05383838383838383,
          0.05525252525252525,
          0.056666666666666664,
          0.05808080808080807,
          0.05949494949494949,
          0.060909090909090906,
          0.062323232323232315,
          0.06373737373737373,
          0.06515151515151514,
          0.06656565656565655,
          0.06797979797979797,
          0.06939393939393938,
          0.07080808080808079,
          0.07222222222222222,
          0.07363636363636362,
          0.07505050505050503,
          0.07646464646464644,
          0.07787878787878787,
          0.07929292929292928,
          0.08070707070707069,
          0.08212121212121211,
          0.08353535353535352,
          0.08494949494949493,
          0.08636363636363635,
          0.08777777777777776,
          0.08919191919191917,
          0.09060606060606059,
          0.092020202020202,
          0.09343434343434341,
          0.09484848484848483,
          0.09626262626262624,
          0.09767676767676765,
          0.09909090909090908,
          0.10050505050505049,
          0.1019191919191919,
          0.10333333333333332,
          0.10474747474747473,
          0.10616161616161614,
          0.10757575757575756,
          0.10898989898989897,
          0.11040404040404038,
          0.1118181818181818,
          0.11323232323232321,
          0.11464646464646462,
          0.11606060606060604,
          0.11747474747474745,
          0.11888888888888886,
          0.12030303030303029,
          0.1217171717171717,
          0.1231313131313131,
          0.12454545454545453,
          0.12595959595959594,
          0.12737373737373736,
          0.12878787878787878,
          0.13020202020202018,
          0.1316161616161616,
          0.13303030303030303,
          0.13444444444444442,
          0.13585858585858585,
          0.13727272727272727,
          0.13868686868686866,
          0.1401010101010101,
          0.1415151515151515,
          0.1429292929292929,
          0.14434343434343433,
          0.14575757575757575,
          0.14717171717171715,
          0.14858585858585857,
          0.15
         ],
         "xaxis": "x",
         "y": [
          0.014627044946610379,
          0.014267895755684634,
          0.013913217158985539,
          0.013563009156513095,
          0.0132172717482673,
          0.012876004934248154,
          0.01253920871445566,
          0.012206883088889816,
          0.01187902805755062,
          0.011555643620438073,
          0.01123672977755218,
          0.010922286528892936,
          0.01061231387446034,
          0.010306811814254396,
          0.010005780348275099,
          0.009709219476522453,
          0.009417129198996458,
          0.009129509515697113,
          0.008846360426624416,
          0.008567681931778372,
          0.008293474031158977,
          0.00802373672476623,
          0.007758470012600134,
          0.007497673894660687,
          0.007241348370947892,
          0.006989493441461747,
          0.00674210910620225,
          0.006499195365169404,
          0.006260752218363207,
          0.00602677966578366,
          0.005797277707430765,
          0.005572246343304518,
          0.005351685573404923,
          0.005135595397731976,
          0.00492397581628568,
          0.004716826829066033,
          0.004514148436073036,
          0.004315940637306691,
          0.004122203432766992,
          0.003932936822453947,
          0.0037481408063675496,
          0.003567815384507801,
          0.0033919605568747072,
          0.0032205763234682584,
          0.0030536626842884614,
          0.002891219639335316,
          0.002733247188608817,
          0.002579745332108972,
          0.002430714069835773,
          0.002286153401789226,
          0.002146063327969329,
          0.0020104438483760784,
          0.0018792949630094848,
          0.0017526166718695342,
          0.0016304089749562371,
          0.00151267187226959,
          0.001399405363809593,
          0.0012906094495762459,
          0.0011862841295695453,
          0.0010864294037894982,
          0.0009910452722361011,
          0.0009001317349093506,
          0.000813688791809257,
          0.0007317164429358064,
          0.0006542146882890093,
          0.0005811835278688587,
          0.0005126229616753582,
          0.00044853298970851455,
          0.000388913611968314,
          0.0003337648284547634,
          0.0002830866391678663,
          0.0002368790441076192,
          0.00019514204327401863,
          0.00015787563666707152,
          0.00012507982428677442,
          0.00009675460613312037,
          0.00007289998220612326,
          0.00005351595250577268,
          0.00003860251703207557,
          0.000028159675785028454,
          0.00002218742876462787,
          0.000020685775970877285,
          0.000023654717403776698,
          0.00003109425306332958,
          0.00004300438294953246,
          0.00005938510706238187,
          0.00008023642540188128,
          0.00010555833796803069,
          0.00013535084476083356,
          0.00016961394578028297,
          0.00020834764102638237,
          0.00025155193049913177,
          0.00029922681419853464,
          0.00035137229212458057,
          0.00040798836427728344,
          0.00046907503065663284,
          0.0005346322912626322,
          0.0006046601460952816,
          0.000679158595154581,
          0.0007581276384405339
         ],
         "yaxis": "y"
        },
        {
         "marker": {
          "color": "#636EFA"
         },
         "mode": "markers",
         "name": "Datos Originales Imán 1",
         "type": "scatter",
         "x": [
          0.15,
          0.1,
          0.05,
          0.01
         ],
         "xaxis": "x",
         "y": [
          0.00054,
          0.00136,
          0.005430000000000001,
          0.01493
         ],
         "yaxis": "y"
        },
        {
         "hovertemplate": "x=%{x}<br>y=%{y}<extra></extra>",
         "legendgroup": "",
         "line": {
          "color": "#EF553B",
          "dash": "solid",
          "shape": "linear"
         },
         "marker": {
          "symbol": "circle"
         },
         "mode": "lines",
         "name": "",
         "orientation": "v",
         "showlegend": false,
         "type": "scatter",
         "x": [
          0.02,
          0.02080808080808081,
          0.021616161616161617,
          0.022424242424242423,
          0.023232323232323233,
          0.024040404040404043,
          0.02484848484848485,
          0.025656565656565655,
          0.026464646464646465,
          0.027272727272727275,
          0.02808080808080808,
          0.028888888888888888,
          0.029696969696969697,
          0.030505050505050507,
          0.031313131313131314,
          0.03212121212121212,
          0.03292929292929293,
          0.03373737373737374,
          0.034545454545454546,
          0.03535353535353535,
          0.03616161616161616,
          0.03696969696969697,
          0.03777777777777778,
          0.038585858585858585,
          0.0393939393939394,
          0.0402020202020202,
          0.04101010101010101,
          0.041818181818181824,
          0.04262626262626262,
          0.043434343434343436,
          0.04424242424242424,
          0.04505050505050505,
          0.04585858585858586,
          0.04666666666666666,
          0.047474747474747475,
          0.04828282828282829,
          0.04909090909090909,
          0.0498989898989899,
          0.05070707070707071,
          0.051515151515151514,
          0.05232323232323233,
          0.053131313131313126,
          0.05393939393939394,
          0.05474747474747475,
          0.05555555555555555,
          0.056363636363636366,
          0.05717171717171718,
          0.05797979797979798,
          0.05878787878787879,
          0.05959595959595959,
          0.060404040404040404,
          0.06121212121212122,
          0.06202020202020202,
          0.06282828282828283,
          0.06363636363636364,
          0.06444444444444444,
          0.06525252525252526,
          0.06606060606060606,
          0.06686868686868687,
          0.06767676767676768,
          0.06848484848484848,
          0.0692929292929293,
          0.07010101010101011,
          0.07090909090909091,
          0.07171717171717172,
          0.07252525252525252,
          0.07333333333333333,
          0.07414141414141415,
          0.07494949494949495,
          0.07575757575757576,
          0.07656565656565657,
          0.07737373737373737,
          0.07818181818181819,
          0.07898989898989899,
          0.0797979797979798,
          0.08060606060606061,
          0.08141414141414141,
          0.08222222222222222,
          0.08303030303030304,
          0.08383838383838384,
          0.08464646464646465,
          0.08545454545454546,
          0.08626262626262626,
          0.08707070707070708,
          0.08787878787878788,
          0.08868686868686869,
          0.0894949494949495,
          0.0903030303030303,
          0.09111111111111111,
          0.09191919191919193,
          0.09272727272727273,
          0.09353535353535354,
          0.09434343434343435,
          0.09515151515151515,
          0.09595959595959597,
          0.09676767676767677,
          0.09757575757575758,
          0.09838383838383839,
          0.09919191919191919,
          0.1
         ],
         "xaxis": "x",
         "y": [
          0.013470857142857149,
          0.013221736849009581,
          0.012975282172373087,
          0.012731493112947665,
          0.012490369670733312,
          0.012251911845730034,
          0.012016119637937825,
          0.011782993047356688,
          0.011552532073986625,
          0.011324736717827633,
          0.011099606978879711,
          0.010877142857142863,
          0.010657344352617084,
          0.01044021146530238,
          0.010225744195198746,
          0.010013942542306184,
          0.009804806506624693,
          0.009598336088154275,
          0.009394531286894929,
          0.009193392102846653,
          0.00899491853600945,
          0.008799110586383318,
          0.008605968253968258,
          0.00841549153876427,
          0.008227680440771353,
          0.00804253495998951,
          0.007860055096418737,
          0.007680240850059037,
          0.007503092220910407,
          0.007328609208972851,
          0.007156791814246364,
          0.0069876400367309514,
          0.006821153876426607,
          0.006657333333333338,
          0.006496178407451139,
          0.006337689098780011,
          0.006181865407319957,
          0.006028707333070975,
          0.005878214876033062,
          0.005730388036206223,
          0.005585226813590456,
          0.0054427312081857596,
          0.005302901219992136,
          0.00516573684900958,
          0.0050312380952381025,
          0.004899404958677694,
          0.0047702374393283516,
          0.004643735537190087,
          0.0045198992522628954,
          0.004398728584546773,
          0.004280223534041724,
          0.004164384100747744,
          0.004051210284664836,
          0.003940702085793002,
          0.0038328595041322404,
          0.0037276825396825447,
          0.0036251711924439253,
          0.0035253254624163823,
          0.003428145349599905,
          0.0033336308539944973,
          0.0032417819756001658,
          0.0031525987144169036,
          0.0030660810704447143,
          0.002982229043683598,
          0.002901042634133554,
          0.00282252184179458,
          0.0027466666666666785,
          0.0026734771087498464,
          0.002602953168044087,
          0.002535094844549401,
          0.0024699021382657838,
          0.002407375049193243,
          0.002347513577331768,
          0.002290317722681373,
          0.0022357874852420405,
          0.0021839228650137876,
          0.0021347238619966007,
          0.00208819047619049,
          0.0020443227075954487,
          0.0020031205562114802,
          0.001964584022038581,
          0.0019287131050767549,
          0.0018955078053260015,
          0.0018649681227863209,
          0.0018370940574577097,
          0.0018118856093401678,
          0.0017893427784337022,
          0.001769465564738306,
          0.0017522539682539862,
          0.0017377079889807322,
          0.0017258276269185545,
          0.0017166128820674462,
          0.0017100637544274107,
          0.0017061802439984446,
          0.0017049623507805513,
          0.0017064100747737308,
          0.0017105234159779832,
          0.001717302374393305,
          0.0017267469500196996,
          0.0017388571428571635
         ],
         "yaxis": "y"
        },
        {
         "marker": {
          "color": "#EF553B"
         },
         "mode": "markers",
         "name": "Datos Originales Imán 2",
         "type": "scatter",
         "x": [
          0.1,
          0.08,
          0.06,
          0.04,
          0.02
         ],
         "xaxis": "x",
         "y": [
          0.0016300000000000002,
          0.0024400000000000003,
          0.00434,
          0.00787,
          0.013580000000000002
         ],
         "yaxis": "y"
        },
        {
         "hovertemplate": "x=%{x}<br>y=%{y}<extra></extra>",
         "legendgroup": "",
         "line": {
          "color": "rgb(102,194,165)",
          "dash": "solid",
          "shape": "linear"
         },
         "marker": {
          "symbol": "circle"
         },
         "mode": "lines",
         "name": "",
         "orientation": "v",
         "showlegend": false,
         "type": "scatter",
         "x": [
          0.01,
          0.010404040404040405,
          0.010808080808080808,
          0.011212121212121211,
          0.011616161616161616,
          0.012020202020202021,
          0.012424242424242424,
          0.012828282828282828,
          0.013232323232323233,
          0.013636363636363637,
          0.01404040404040404,
          0.014444444444444444,
          0.014848484848484849,
          0.015252525252525254,
          0.015656565656565657,
          0.01606060606060606,
          0.016464646464646467,
          0.01686868686868687,
          0.017272727272727273,
          0.017676767676767676,
          0.01808080808080808,
          0.018484848484848486,
          0.01888888888888889,
          0.019292929292929292,
          0.0196969696969697,
          0.0201010101010101,
          0.020505050505050505,
          0.020909090909090912,
          0.02131313131313131,
          0.021717171717171718,
          0.02212121212121212,
          0.022525252525252525,
          0.02292929292929293,
          0.02333333333333333,
          0.023737373737373738,
          0.024141414141414144,
          0.024545454545454544,
          0.02494949494949495,
          0.025353535353535354,
          0.025757575757575757,
          0.026161616161616164,
          0.026565656565656563,
          0.02696969696969697,
          0.027373737373737377,
          0.027777777777777776,
          0.028181818181818183,
          0.02858585858585859,
          0.02898989898989899,
          0.029393939393939396,
          0.029797979797979796,
          0.030202020202020202,
          0.03060606060606061,
          0.03101010101010101,
          0.031414141414141415,
          0.03181818181818182,
          0.03222222222222222,
          0.03262626262626263,
          0.03303030303030303,
          0.033434343434343435,
          0.03383838383838384,
          0.03424242424242424,
          0.03464646464646465,
          0.035050505050505054,
          0.035454545454545454,
          0.03585858585858586,
          0.03626262626262626,
          0.03666666666666667,
          0.037070707070707073,
          0.03747474747474747,
          0.03787878787878788,
          0.038282828282828286,
          0.038686868686868686,
          0.03909090909090909,
          0.03949494949494949,
          0.0398989898989899,
          0.040303030303030306,
          0.040707070707070706,
          0.04111111111111111,
          0.04151515151515152,
          0.04191919191919192,
          0.042323232323232325,
          0.04272727272727273,
          0.04313131313131313,
          0.04353535353535354,
          0.04393939393939394,
          0.044343434343434344,
          0.04474747474747475,
          0.04515151515151515,
          0.04555555555555556,
          0.045959595959595964,
          0.046363636363636364,
          0.04676767676767677,
          0.04717171717171718,
          0.04757575757575758,
          0.04797979797979798,
          0.04838383838383838,
          0.04878787878787879,
          0.049191919191919196,
          0.049595959595959596,
          0.05
         ],
         "xaxis": "x2",
         "y": [
          0.0018697142857142857,
          0.0018504456396577608,
          0.001831300596149081,
          0.0018122791551882461,
          0.0017933813167752561,
          0.0017746070809101112,
          0.0017559564475928113,
          0.0017374294168233562,
          0.001719025988601746,
          0.001700746162927981,
          0.0016825899398020608,
          0.0016645573192239857,
          0.0016466483011937554,
          0.0016288628857113702,
          0.0016112010727768302,
          0.001593662862390135,
          0.0015762482545512845,
          0.0015589572492602792,
          0.001541789846517119,
          0.0015247460463218036,
          0.0015078258486743332,
          0.0014910292535747077,
          0.0014743562610229272,
          0.001457806871018992,
          0.0014413810835629012,
          0.0014250788986546559,
          0.0014089003162942551,
          0.0013928453364816997,
          0.001376913959216989,
          0.0013611061845001235,
          0.001345422012331103,
          0.0013298614427099272,
          0.0013144244756365963,
          0.0012991111111111107,
          0.00128392134913347,
          0.001268855189703674,
          0.0012539126328217232,
          0.0012390936784876174,
          0.0012243983267013565,
          0.0012098265774629407,
          0.0011953784307723698,
          0.0011810538866296437,
          0.0011668529450347626,
          0.0011527756059877266,
          0.0011388218694885358,
          0.0011249917355371896,
          0.0011112852041336885,
          0.0010977022752780322,
          0.001084242948970221,
          0.001070907225210255,
          0.0010576951039981339,
          0.0010446065853338576,
          0.0010316416692174265,
          0.00101880035564884,
          0.0010060826446280987,
          0.0009934885361552025,
          0.000981018030230151,
          0.0009686711268529448,
          0.0009564478260235831,
          0.0009443481277420667,
          0.0009323720320083954,
          0.0009205195388225689,
          0.0009087906481845872,
          0.0008971853600944506,
          0.000885703674552159,
          0.0008743455915577127,
          0.0008631111111111109,
          0.000852000233212354,
          0.0008410129578614426,
          0.0008301492850583759,
          0.0008194092148031541,
          0.0008087927470957774,
          0.0007982998819362455,
          0.0007879306193245587,
          0.0007776849592607167,
          0.0007675629017447198,
          0.0007575644467765681,
          0.0007476895943562612,
          0.0007379383444837987,
          0.000728310697159182,
          0.0007188066523824098,
          0.0007094262101534827,
          0.0007001693704724009,
          0.0006910361333391638,
          0.0006820264987537719,
          0.0006731404667162247,
          0.0006643780372265224,
          0.0006557392102846653,
          0.0006472239858906531,
          0.0006388323640444857,
          0.0006305643447461634,
          0.0006224199279956861,
          0.0006143991137930536,
          0.0006065019021382662,
          0.0005987282930313236,
          0.0005910782864722265,
          0.000583551882460974,
          0.0005761490809975663,
          0.0005688698820820041,
          0.0005617142857142865
         ],
         "yaxis": "y2"
        },
        {
         "marker": {
          "color": "rgb(102,194,165)"
         },
         "mode": "markers",
         "name": "Datos Originales Imán 3",
         "type": "scatter",
         "x": [
          0.05,
          0.04,
          0.03,
          0.02,
          0.01
         ],
         "xaxis": "x2",
         "y": [
          0.00054,
          0.0008100000000000001,
          0.00109,
          0.00136,
          0.0019
         ],
         "yaxis": "y2"
        },
        {
         "hovertemplate": "x=%{x}<br>y=%{y}<extra></extra>",
         "legendgroup": "",
         "line": {
          "color": "rgb(252,141,98)",
          "dash": "solid",
          "shape": "linear"
         },
         "marker": {
          "symbol": "circle"
         },
         "mode": "lines",
         "name": "",
         "orientation": "v",
         "showlegend": false,
         "type": "scatter",
         "x": [
          0.02,
          0.020303030303030302,
          0.020606060606060607,
          0.02090909090909091,
          0.021212121212121213,
          0.021515151515151515,
          0.02181818181818182,
          0.02212121212121212,
          0.022424242424242423,
          0.022727272727272728,
          0.02303030303030303,
          0.023333333333333334,
          0.023636363636363636,
          0.02393939393939394,
          0.024242424242424242,
          0.024545454545454544,
          0.02484848484848485,
          0.025151515151515154,
          0.025454545454545455,
          0.025757575757575757,
          0.026060606060606062,
          0.026363636363636363,
          0.026666666666666665,
          0.02696969696969697,
          0.027272727272727275,
          0.027575757575757576,
          0.027878787878787878,
          0.028181818181818183,
          0.028484848484848484,
          0.028787878787878786,
          0.02909090909090909,
          0.029393939393939396,
          0.029696969696969697,
          0.03,
          0.030303030303030304,
          0.03060606060606061,
          0.03090909090909091,
          0.031212121212121212,
          0.03151515151515152,
          0.031818181818181815,
          0.03212121212121212,
          0.032424242424242425,
          0.03272727272727273,
          0.033030303030303035,
          0.03333333333333333,
          0.03363636363636364,
          0.033939393939393936,
          0.03424242424242424,
          0.034545454545454546,
          0.03484848484848485,
          0.035151515151515156,
          0.035454545454545454,
          0.03575757575757576,
          0.03606060606060606,
          0.03636363636363636,
          0.03666666666666667,
          0.03696969696969697,
          0.03727272727272728,
          0.037575757575757575,
          0.03787878787878788,
          0.03818181818181818,
          0.03848484848484848,
          0.03878787878787879,
          0.03909090909090909,
          0.0393939393939394,
          0.039696969696969696,
          0.04,
          0.0403030303030303,
          0.040606060606060604,
          0.04090909090909091,
          0.041212121212121214,
          0.04151515151515152,
          0.041818181818181824,
          0.04212121212121212,
          0.04242424242424242,
          0.042727272727272725,
          0.04303030303030303,
          0.043333333333333335,
          0.04363636363636364,
          0.043939393939393945,
          0.04424242424242424,
          0.04454545454545454,
          0.044848484848484846,
          0.04515151515151515,
          0.045454545454545456,
          0.04575757575757576,
          0.046060606060606066,
          0.046363636363636364,
          0.04666666666666666,
          0.04696969696969697,
          0.04727272727272727,
          0.04757575757575758,
          0.04787878787878788,
          0.04818181818181819,
          0.048484848484848485,
          0.04878787878787879,
          0.04909090909090909,
          0.04939393939393939,
          0.0496969696969697,
          0.05
         ],
         "xaxis": "x2",
         "y": [
          0.004566000000000002,
          0.004474106519742886,
          0.004383213957759414,
          0.004293322314049589,
          0.004204431588613408,
          0.004116541781450874,
          0.004029652892561984,
          0.003943764921946742,
          0.003858877869605145,
          0.0037749917355371903,
          0.0036921065197428864,
          0.003610222222222223,
          0.003529338842975207,
          0.003449456382001838,
          0.003370574839302115,
          0.003292694214876034,
          0.0032158145087236006,
          0.0031399357208448126,
          0.0030650578512396703,
          0.0029911808999081736,
          0.0029183048668503225,
          0.002846429752066117,
          0.0027755555555555554,
          0.002705682277318641,
          0.0026368099173553726,
          0.0025689384756657496,
          0.0025020679522497705,
          0.002436198347107439,
          0.002371329660238751,
          0.0023074618916437105,
          0.002244595041322314,
          0.0021827291092745647,
          0.0021218640955004593,
          0.0020619999999999996,
          0.0020031368227731872,
          0.0019452745638200188,
          0.0018884132231404942,
          0.0018325528007346187,
          0.001777693296602387,
          0.001723834710743801,
          0.0016709770431588607,
          0.001619120293847566,
          0.0015682644628099152,
          0.0015184095500459117,
          0.0014695555555555555,
          0.0014217024793388433,
          0.001374850321395775,
          0.001328999081726354,
          0.0012841487603305786,
          0.0012402993572084454,
          0.0011974508723599595,
          0.0011556033057851228,
          0.0011147566574839281,
          0.001074910927456381,
          0.0010360661157024775,
          0.0009982222222222215,
          0.0009613792470156077,
          0.0009255371900826412,
          0.000890696051423322,
          0.0008568558310376468,
          0.0008240165289256172,
          0.0007921781450872349,
          0.0007613406795224948,
          0.000731504132231402,
          0.0007026685032139532,
          0.0006748337924701534,
          0.0006479999999999958,
          0.0006221671258034855,
          0.0005973351698806226,
          0.0005735041322314002,
          0.000550674012855825,
          0.0005288448117538973,
          0.0005080165289256151,
          0.0004881891643709786,
          0.0004693627180899877,
          0.0004515371900826407,
          0.00043471258034893934,
          0.00041888888888888184,
          0.00040406611570247344,
          0.00039024426078971067,
          0.00037742332415059004,
          0.0003656033057851185,
          0.0003547842056932926,
          0.00034496602387510886,
          0.00033614876033057073,
          0.0003283324150596817,
          0.00032151698806243655,
          0.000315702479338837,
          0.0003108888888888831,
          0.0003070762167125731,
          0.00030426446280991046,
          0.0003024536271808917,
          0.0003016437098255203,
          0.0003018347107437945,
          0.00030302662993571435,
          0.0003052194674012781,
          0.00030841322314048743,
          0.00031260789715334414,
          0.000317803489439843,
          0.00032399999999999096
         ],
         "yaxis": "y2"
        },
        {
         "marker": {
          "color": "rgb(252,141,98)"
         },
         "mode": "markers",
         "name": "Datos Originales Imán 4",
         "type": "scatter",
         "x": [
          0.05,
          0.04,
          0.03,
          0.02
         ],
         "xaxis": "x2",
         "y": [
          0.00027,
          0.0008100000000000001,
          0.0019,
          0.00462
         ],
         "yaxis": "y2"
        }
       ],
       "layout": {
        "annotations": [
         {
          "font": {
           "size": 16
          },
          "showarrow": false,
          "text": "Imanes 1 y 2",
          "x": 0.225,
          "xanchor": "center",
          "xref": "paper",
          "y": 1,
          "yanchor": "bottom",
          "yref": "paper"
         },
         {
          "font": {
           "size": 16
          },
          "showarrow": false,
          "text": "Imanes 3 y 4",
          "x": 0.775,
          "xanchor": "center",
          "xref": "paper",
          "y": 1,
          "yanchor": "bottom",
          "yref": "paper"
         }
        ],
        "height": 500,
        "legend": {
         "title": {
          "text": "Ajustes polinomiales"
         }
        },
        "template": {
         "data": {
          "bar": [
           {
            "error_x": {
             "color": "#2a3f5f"
            },
            "error_y": {
             "color": "#2a3f5f"
            },
            "marker": {
             "line": {
              "color": "#E5ECF6",
              "width": 0.5
             },
             "pattern": {
              "fillmode": "overlay",
              "size": 10,
              "solidity": 0.2
             }
            },
            "type": "bar"
           }
          ],
          "barpolar": [
           {
            "marker": {
             "line": {
              "color": "#E5ECF6",
              "width": 0.5
             },
             "pattern": {
              "fillmode": "overlay",
              "size": 10,
              "solidity": 0.2
             }
            },
            "type": "barpolar"
           }
          ],
          "carpet": [
           {
            "aaxis": {
             "endlinecolor": "#2a3f5f",
             "gridcolor": "white",
             "linecolor": "white",
             "minorgridcolor": "white",
             "startlinecolor": "#2a3f5f"
            },
            "baxis": {
             "endlinecolor": "#2a3f5f",
             "gridcolor": "white",
             "linecolor": "white",
             "minorgridcolor": "white",
             "startlinecolor": "#2a3f5f"
            },
            "type": "carpet"
           }
          ],
          "choropleth": [
           {
            "colorbar": {
             "outlinewidth": 0,
             "ticks": ""
            },
            "type": "choropleth"
           }
          ],
          "contour": [
           {
            "colorbar": {
             "outlinewidth": 0,
             "ticks": ""
            },
            "colorscale": [
             [
              0,
              "#0d0887"
             ],
             [
              0.1111111111111111,
              "#46039f"
             ],
             [
              0.2222222222222222,
              "#7201a8"
             ],
             [
              0.3333333333333333,
              "#9c179e"
             ],
             [
              0.4444444444444444,
              "#bd3786"
             ],
             [
              0.5555555555555556,
              "#d8576b"
             ],
             [
              0.6666666666666666,
              "#ed7953"
             ],
             [
              0.7777777777777778,
              "#fb9f3a"
             ],
             [
              0.8888888888888888,
              "#fdca26"
             ],
             [
              1,
              "#f0f921"
             ]
            ],
            "type": "contour"
           }
          ],
          "contourcarpet": [
           {
            "colorbar": {
             "outlinewidth": 0,
             "ticks": ""
            },
            "type": "contourcarpet"
           }
          ],
          "heatmap": [
           {
            "colorbar": {
             "outlinewidth": 0,
             "ticks": ""
            },
            "colorscale": [
             [
              0,
              "#0d0887"
             ],
             [
              0.1111111111111111,
              "#46039f"
             ],
             [
              0.2222222222222222,
              "#7201a8"
             ],
             [
              0.3333333333333333,
              "#9c179e"
             ],
             [
              0.4444444444444444,
              "#bd3786"
             ],
             [
              0.5555555555555556,
              "#d8576b"
             ],
             [
              0.6666666666666666,
              "#ed7953"
             ],
             [
              0.7777777777777778,
              "#fb9f3a"
             ],
             [
              0.8888888888888888,
              "#fdca26"
             ],
             [
              1,
              "#f0f921"
             ]
            ],
            "type": "heatmap"
           }
          ],
          "heatmapgl": [
           {
            "colorbar": {
             "outlinewidth": 0,
             "ticks": ""
            },
            "colorscale": [
             [
              0,
              "#0d0887"
             ],
             [
              0.1111111111111111,
              "#46039f"
             ],
             [
              0.2222222222222222,
              "#7201a8"
             ],
             [
              0.3333333333333333,
              "#9c179e"
             ],
             [
              0.4444444444444444,
              "#bd3786"
             ],
             [
              0.5555555555555556,
              "#d8576b"
             ],
             [
              0.6666666666666666,
              "#ed7953"
             ],
             [
              0.7777777777777778,
              "#fb9f3a"
             ],
             [
              0.8888888888888888,
              "#fdca26"
             ],
             [
              1,
              "#f0f921"
             ]
            ],
            "type": "heatmapgl"
           }
          ],
          "histogram": [
           {
            "marker": {
             "pattern": {
              "fillmode": "overlay",
              "size": 10,
              "solidity": 0.2
             }
            },
            "type": "histogram"
           }
          ],
          "histogram2d": [
           {
            "colorbar": {
             "outlinewidth": 0,
             "ticks": ""
            },
            "colorscale": [
             [
              0,
              "#0d0887"
             ],
             [
              0.1111111111111111,
              "#46039f"
             ],
             [
              0.2222222222222222,
              "#7201a8"
             ],
             [
              0.3333333333333333,
              "#9c179e"
             ],
             [
              0.4444444444444444,
              "#bd3786"
             ],
             [
              0.5555555555555556,
              "#d8576b"
             ],
             [
              0.6666666666666666,
              "#ed7953"
             ],
             [
              0.7777777777777778,
              "#fb9f3a"
             ],
             [
              0.8888888888888888,
              "#fdca26"
             ],
             [
              1,
              "#f0f921"
             ]
            ],
            "type": "histogram2d"
           }
          ],
          "histogram2dcontour": [
           {
            "colorbar": {
             "outlinewidth": 0,
             "ticks": ""
            },
            "colorscale": [
             [
              0,
              "#0d0887"
             ],
             [
              0.1111111111111111,
              "#46039f"
             ],
             [
              0.2222222222222222,
              "#7201a8"
             ],
             [
              0.3333333333333333,
              "#9c179e"
             ],
             [
              0.4444444444444444,
              "#bd3786"
             ],
             [
              0.5555555555555556,
              "#d8576b"
             ],
             [
              0.6666666666666666,
              "#ed7953"
             ],
             [
              0.7777777777777778,
              "#fb9f3a"
             ],
             [
              0.8888888888888888,
              "#fdca26"
             ],
             [
              1,
              "#f0f921"
             ]
            ],
            "type": "histogram2dcontour"
           }
          ],
          "mesh3d": [
           {
            "colorbar": {
             "outlinewidth": 0,
             "ticks": ""
            },
            "type": "mesh3d"
           }
          ],
          "parcoords": [
           {
            "line": {
             "colorbar": {
              "outlinewidth": 0,
              "ticks": ""
             }
            },
            "type": "parcoords"
           }
          ],
          "pie": [
           {
            "automargin": true,
            "type": "pie"
           }
          ],
          "scatter": [
           {
            "fillpattern": {
             "fillmode": "overlay",
             "size": 10,
             "solidity": 0.2
            },
            "type": "scatter"
           }
          ],
          "scatter3d": [
           {
            "line": {
             "colorbar": {
              "outlinewidth": 0,
              "ticks": ""
             }
            },
            "marker": {
             "colorbar": {
              "outlinewidth": 0,
              "ticks": ""
             }
            },
            "type": "scatter3d"
           }
          ],
          "scattercarpet": [
           {
            "marker": {
             "colorbar": {
              "outlinewidth": 0,
              "ticks": ""
             }
            },
            "type": "scattercarpet"
           }
          ],
          "scattergeo": [
           {
            "marker": {
             "colorbar": {
              "outlinewidth": 0,
              "ticks": ""
             }
            },
            "type": "scattergeo"
           }
          ],
          "scattergl": [
           {
            "marker": {
             "colorbar": {
              "outlinewidth": 0,
              "ticks": ""
             }
            },
            "type": "scattergl"
           }
          ],
          "scattermapbox": [
           {
            "marker": {
             "colorbar": {
              "outlinewidth": 0,
              "ticks": ""
             }
            },
            "type": "scattermapbox"
           }
          ],
          "scatterpolar": [
           {
            "marker": {
             "colorbar": {
              "outlinewidth": 0,
              "ticks": ""
             }
            },
            "type": "scatterpolar"
           }
          ],
          "scatterpolargl": [
           {
            "marker": {
             "colorbar": {
              "outlinewidth": 0,
              "ticks": ""
             }
            },
            "type": "scatterpolargl"
           }
          ],
          "scatterternary": [
           {
            "marker": {
             "colorbar": {
              "outlinewidth": 0,
              "ticks": ""
             }
            },
            "type": "scatterternary"
           }
          ],
          "surface": [
           {
            "colorbar": {
             "outlinewidth": 0,
             "ticks": ""
            },
            "colorscale": [
             [
              0,
              "#0d0887"
             ],
             [
              0.1111111111111111,
              "#46039f"
             ],
             [
              0.2222222222222222,
              "#7201a8"
             ],
             [
              0.3333333333333333,
              "#9c179e"
             ],
             [
              0.4444444444444444,
              "#bd3786"
             ],
             [
              0.5555555555555556,
              "#d8576b"
             ],
             [
              0.6666666666666666,
              "#ed7953"
             ],
             [
              0.7777777777777778,
              "#fb9f3a"
             ],
             [
              0.8888888888888888,
              "#fdca26"
             ],
             [
              1,
              "#f0f921"
             ]
            ],
            "type": "surface"
           }
          ],
          "table": [
           {
            "cells": {
             "fill": {
              "color": "#EBF0F8"
             },
             "line": {
              "color": "white"
             }
            },
            "header": {
             "fill": {
              "color": "#C8D4E3"
             },
             "line": {
              "color": "white"
             }
            },
            "type": "table"
           }
          ]
         },
         "layout": {
          "annotationdefaults": {
           "arrowcolor": "#2a3f5f",
           "arrowhead": 0,
           "arrowwidth": 1
          },
          "autotypenumbers": "strict",
          "coloraxis": {
           "colorbar": {
            "outlinewidth": 0,
            "ticks": ""
           }
          },
          "colorscale": {
           "diverging": [
            [
             0,
             "#8e0152"
            ],
            [
             0.1,
             "#c51b7d"
            ],
            [
             0.2,
             "#de77ae"
            ],
            [
             0.3,
             "#f1b6da"
            ],
            [
             0.4,
             "#fde0ef"
            ],
            [
             0.5,
             "#f7f7f7"
            ],
            [
             0.6,
             "#e6f5d0"
            ],
            [
             0.7,
             "#b8e186"
            ],
            [
             0.8,
             "#7fbc41"
            ],
            [
             0.9,
             "#4d9221"
            ],
            [
             1,
             "#276419"
            ]
           ],
           "sequential": [
            [
             0,
             "#0d0887"
            ],
            [
             0.1111111111111111,
             "#46039f"
            ],
            [
             0.2222222222222222,
             "#7201a8"
            ],
            [
             0.3333333333333333,
             "#9c179e"
            ],
            [
             0.4444444444444444,
             "#bd3786"
            ],
            [
             0.5555555555555556,
             "#d8576b"
            ],
            [
             0.6666666666666666,
             "#ed7953"
            ],
            [
             0.7777777777777778,
             "#fb9f3a"
            ],
            [
             0.8888888888888888,
             "#fdca26"
            ],
            [
             1,
             "#f0f921"
            ]
           ],
           "sequentialminus": [
            [
             0,
             "#0d0887"
            ],
            [
             0.1111111111111111,
             "#46039f"
            ],
            [
             0.2222222222222222,
             "#7201a8"
            ],
            [
             0.3333333333333333,
             "#9c179e"
            ],
            [
             0.4444444444444444,
             "#bd3786"
            ],
            [
             0.5555555555555556,
             "#d8576b"
            ],
            [
             0.6666666666666666,
             "#ed7953"
            ],
            [
             0.7777777777777778,
             "#fb9f3a"
            ],
            [
             0.8888888888888888,
             "#fdca26"
            ],
            [
             1,
             "#f0f921"
            ]
           ]
          },
          "colorway": [
           "#636efa",
           "#EF553B",
           "#00cc96",
           "#ab63fa",
           "#FFA15A",
           "#19d3f3",
           "#FF6692",
           "#B6E880",
           "#FF97FF",
           "#FECB52"
          ],
          "font": {
           "color": "#2a3f5f"
          },
          "geo": {
           "bgcolor": "white",
           "lakecolor": "white",
           "landcolor": "#E5ECF6",
           "showlakes": true,
           "showland": true,
           "subunitcolor": "white"
          },
          "hoverlabel": {
           "align": "left"
          },
          "hovermode": "closest",
          "mapbox": {
           "style": "light"
          },
          "paper_bgcolor": "white",
          "plot_bgcolor": "#E5ECF6",
          "polar": {
           "angularaxis": {
            "gridcolor": "white",
            "linecolor": "white",
            "ticks": ""
           },
           "bgcolor": "#E5ECF6",
           "radialaxis": {
            "gridcolor": "white",
            "linecolor": "white",
            "ticks": ""
           }
          },
          "scene": {
           "xaxis": {
            "backgroundcolor": "#E5ECF6",
            "gridcolor": "white",
            "gridwidth": 2,
            "linecolor": "white",
            "showbackground": true,
            "ticks": "",
            "zerolinecolor": "white"
           },
           "yaxis": {
            "backgroundcolor": "#E5ECF6",
            "gridcolor": "white",
            "gridwidth": 2,
            "linecolor": "white",
            "showbackground": true,
            "ticks": "",
            "zerolinecolor": "white"
           },
           "zaxis": {
            "backgroundcolor": "#E5ECF6",
            "gridcolor": "white",
            "gridwidth": 2,
            "linecolor": "white",
            "showbackground": true,
            "ticks": "",
            "zerolinecolor": "white"
           }
          },
          "shapedefaults": {
           "line": {
            "color": "#2a3f5f"
           }
          },
          "ternary": {
           "aaxis": {
            "gridcolor": "white",
            "linecolor": "white",
            "ticks": ""
           },
           "baxis": {
            "gridcolor": "white",
            "linecolor": "white",
            "ticks": ""
           },
           "bgcolor": "#E5ECF6",
           "caxis": {
            "gridcolor": "white",
            "linecolor": "white",
            "ticks": ""
           }
          },
          "title": {
           "x": 0.05
          },
          "xaxis": {
           "automargin": true,
           "gridcolor": "white",
           "linecolor": "white",
           "ticks": "",
           "title": {
            "standoff": 15
           },
           "zerolinecolor": "white",
           "zerolinewidth": 2
          },
          "yaxis": {
           "automargin": true,
           "gridcolor": "white",
           "linecolor": "white",
           "ticks": "",
           "title": {
            "standoff": 15
           },
           "zerolinecolor": "white",
           "zerolinewidth": 2
          }
         }
        },
        "title": {
         "text": "Ajustes polinomiales de segundo grado para los datos de distancia en relación con el campo magnético"
        },
        "width": 1200,
        "xaxis": {
         "anchor": "y",
         "domain": [
          0,
          0.45
         ],
         "title": {
          "text": "Distancia del sensor al imán (m)"
         }
        },
        "xaxis2": {
         "anchor": "y2",
         "domain": [
          0.55,
          1
         ],
         "title": {
          "text": "Distancia del sensor al imán (m)"
         }
        },
        "yaxis": {
         "anchor": "x",
         "domain": [
          0,
          1
         ],
         "title": {
          "text": "Campo magnético (mT)"
         }
        },
        "yaxis2": {
         "anchor": "x2",
         "domain": [
          0,
          1
         ]
        }
       }
      }
     },
     "metadata": {},
     "output_type": "display_data"
    }
   ],
   "source": [
    "fig = make_subplots(rows=1, cols=2, subplot_titles=['Imanes 1 y 2', 'Imanes 3 y 4'])\n",
    "\n",
    "# Paletas de colores\n",
    "colores_1 = px.colors.qualitative.Plotly\n",
    "colores_2 = px.colors.qualitative.Set2\n",
    "\n",
    "# Función de ajuste polinomial\n",
    "def ajuste_polinomial(x, y, grado, color):\n",
    "    coeficientes = np.polyfit(x, y, grado)\n",
    "    polinomio = np.poly1d(coeficientes)\n",
    "    formula = str(polinomio).replace('x', 'x^2', 1).split('\\n')[-1]\n",
    "    return polinomio, color, formula\n",
    "\n",
    "for i, subplot_title, imanes, colores in zip([1, 2], ['Imán 1 y 2', 'Imán 3 y 4'], [[1, 2], [3, 4]], [colores_1, colores_2]):\n",
    "    for iman, color in zip(imanes, colores):\n",
    "        datos_iman = datos_totales[datos_totales['iman'] == iman]\n",
    "        \n",
    "        # Ajuste polinomial de grado 2\n",
    "        polinomio, curva_color, formula = ajuste_polinomial(datos_iman['distancia_metros'], datos_iman['campo_militeslas'], grado=2, color=color)\n",
    "        x_vals = np.linspace(min(datos_iman['distancia_metros']), max(datos_iman['distancia_metros']), 100)\n",
    "        y_vals = polinomio(x_vals)\n",
    "        \n",
    "        # Agrega los datos ajustados como una línea adicional\n",
    "        fig.add_trace(\n",
    "            px.line(x=x_vals, y=y_vals, line_shape='linear')\n",
    "            .update_traces(line=dict(color=curva_color))\n",
    "            .data[0],\n",
    "            row=1, col=i\n",
    "        )\n",
    "        \n",
    "        # Agrega los datos originales como puntos\n",
    "        fig.add_trace(\n",
    "            go.Scatter(\n",
    "                x=datos_iman['distancia_metros'], y=datos_iman['campo_militeslas'],\n",
    "                mode='markers', marker=dict(color=color), name=f'Datos Originales Imán {iman}'),\n",
    "            row=1, col=i\n",
    "        )\n",
    "\n",
    "fig.update_layout(\n",
    "    title_text='Ajustes polinomiales de segundo grado para los datos de distancia en relación con el campo magnético',\n",
    "    legend_title='Ajustes polinomiales',\n",
    "    xaxis_title='Distancia del sensor al imán (m)',\n",
    "    yaxis_title='Campo magnético (mT)',\n",
    "    xaxis2_title='Distancia del sensor al imán (m)',\n",
    "    width=1200,\n",
    "    height=500,\n",
    ")\n",
    "\n",
    "# fig.write_image(\"ajustes_polinomiales.png\")\n",
    "\n",
    "fig.show()"
   ]
  },
  {
   "cell_type": "code",
   "execution_count": 22,
   "metadata": {},
   "outputs": [
    {
     "data": {
      "application/vnd.plotly.v1+json": {
       "config": {
        "plotlyServerURL": "https://plot.ly"
       },
       "data": [
        {
         "hovertemplate": "iman=1<br>distancia_metros=%{x}<br>campo_militeslas=%{y}<extra></extra>",
         "legendgroup": "1",
         "line": {
          "color": "#636EFA",
          "dash": "solid"
         },
         "marker": {
          "symbol": "circle"
         },
         "mode": "lines",
         "name": "Imán 1",
         "orientation": "v",
         "showlegend": true,
         "type": "scatter",
         "x": [
          0.15,
          0.1,
          0.05,
          0.01
         ],
         "xaxis": "x",
         "y": [
          0.00054,
          0.00136,
          0.005430000000000001,
          0.01493
         ],
         "yaxis": "y"
        },
        {
         "hovertemplate": "distancia_metros=%{x}<br>campo_militeslas=%{y}<br>iman=%{marker.color}<extra></extra>",
         "legendgroup": "",
         "marker": {
          "color": "#636EFA",
          "coloraxis": "coloraxis",
          "size": 8,
          "symbol": "circle"
         },
         "mode": "markers",
         "name": "Imán 1",
         "orientation": "v",
         "showlegend": false,
         "type": "scatter",
         "x": [
          0.15,
          0.1,
          0.05,
          0.01
         ],
         "xaxis": "x",
         "y": [
          0.00054,
          0.00136,
          0.005430000000000001,
          0.01493
         ],
         "yaxis": "y"
        },
        {
         "hovertemplate": "iman=2<br>distancia_metros=%{x}<br>campo_militeslas=%{y}<extra></extra>",
         "legendgroup": "2",
         "line": {
          "color": "#EF553B",
          "dash": "solid"
         },
         "marker": {
          "symbol": "circle"
         },
         "mode": "lines",
         "name": "Imán 2",
         "orientation": "v",
         "showlegend": true,
         "type": "scatter",
         "x": [
          0.1,
          0.08,
          0.06,
          0.04,
          0.02
         ],
         "xaxis": "x",
         "y": [
          0.0016300000000000002,
          0.0024400000000000003,
          0.00434,
          0.00787,
          0.013580000000000002
         ],
         "yaxis": "y"
        },
        {
         "hovertemplate": "distancia_metros=%{x}<br>campo_militeslas=%{y}<br>iman=%{marker.color}<extra></extra>",
         "legendgroup": "",
         "marker": {
          "color": "#EF553B",
          "coloraxis": "coloraxis",
          "size": 8,
          "symbol": "circle"
         },
         "mode": "markers",
         "name": "Imán 2",
         "orientation": "v",
         "showlegend": false,
         "type": "scatter",
         "x": [
          0.1,
          0.08,
          0.06,
          0.04,
          0.02
         ],
         "xaxis": "x",
         "y": [
          0.0016300000000000002,
          0.0024400000000000003,
          0.00434,
          0.00787,
          0.013580000000000002
         ],
         "yaxis": "y"
        },
        {
         "hovertemplate": "iman=3<br>distancia_metros=%{x}<br>campo_militeslas=%{y}<extra></extra>",
         "legendgroup": "3",
         "line": {
          "color": "rgb(102,194,165)",
          "dash": "solid"
         },
         "marker": {
          "symbol": "circle"
         },
         "mode": "lines",
         "name": "Imán 3",
         "orientation": "v",
         "showlegend": true,
         "type": "scatter",
         "x": [
          0.05,
          0.04,
          0.03,
          0.02,
          0.01
         ],
         "xaxis": "x2",
         "y": [
          0.00054,
          0.0008100000000000001,
          0.00109,
          0.00136,
          0.0019
         ],
         "yaxis": "y2"
        },
        {
         "hovertemplate": "distancia_metros=%{x}<br>campo_militeslas=%{y}<br>iman=%{marker.color}<extra></extra>",
         "legendgroup": "",
         "marker": {
          "color": "rgb(102,194,165)",
          "coloraxis": "coloraxis",
          "size": 8,
          "symbol": "circle"
         },
         "mode": "markers",
         "name": "Imán 3",
         "orientation": "v",
         "showlegend": false,
         "type": "scatter",
         "x": [
          0.05,
          0.04,
          0.03,
          0.02,
          0.01
         ],
         "xaxis": "x2",
         "y": [
          0.00054,
          0.0008100000000000001,
          0.00109,
          0.00136,
          0.0019
         ],
         "yaxis": "y2"
        },
        {
         "hovertemplate": "iman=4<br>distancia_metros=%{x}<br>campo_militeslas=%{y}<extra></extra>",
         "legendgroup": "4",
         "line": {
          "color": "rgb(252,141,98)",
          "dash": "solid"
         },
         "marker": {
          "symbol": "circle"
         },
         "mode": "lines",
         "name": "Imán 4",
         "orientation": "v",
         "showlegend": true,
         "type": "scatter",
         "x": [
          0.05,
          0.04,
          0.03,
          0.02
         ],
         "xaxis": "x2",
         "y": [
          0.00027,
          0.0008100000000000001,
          0.0019,
          0.00462
         ],
         "yaxis": "y2"
        },
        {
         "hovertemplate": "distancia_metros=%{x}<br>campo_militeslas=%{y}<br>iman=%{marker.color}<extra></extra>",
         "legendgroup": "",
         "marker": {
          "color": "rgb(252,141,98)",
          "coloraxis": "coloraxis",
          "size": 8,
          "symbol": "circle"
         },
         "mode": "markers",
         "name": "Imán 4",
         "orientation": "v",
         "showlegend": false,
         "type": "scatter",
         "x": [
          0.05,
          0.04,
          0.03,
          0.02
         ],
         "xaxis": "x2",
         "y": [
          0.00027,
          0.0008100000000000001,
          0.0019,
          0.00462
         ],
         "yaxis": "y2"
        }
       ],
       "layout": {
        "annotations": [
         {
          "font": {
           "size": 16
          },
          "showarrow": false,
          "text": "Imanes 1 y 2",
          "x": 0.225,
          "xanchor": "center",
          "xref": "paper",
          "y": 1,
          "yanchor": "bottom",
          "yref": "paper"
         },
         {
          "font": {
           "size": 16
          },
          "showarrow": false,
          "text": "Imanes 3 y 4",
          "x": 0.775,
          "xanchor": "center",
          "xref": "paper",
          "y": 1,
          "yanchor": "bottom",
          "yref": "paper"
         }
        ],
        "height": 600,
        "legend": {
         "title": {
          "text": "Imán"
         }
        },
        "template": {
         "data": {
          "bar": [
           {
            "error_x": {
             "color": "#2a3f5f"
            },
            "error_y": {
             "color": "#2a3f5f"
            },
            "marker": {
             "line": {
              "color": "#E5ECF6",
              "width": 0.5
             },
             "pattern": {
              "fillmode": "overlay",
              "size": 10,
              "solidity": 0.2
             }
            },
            "type": "bar"
           }
          ],
          "barpolar": [
           {
            "marker": {
             "line": {
              "color": "#E5ECF6",
              "width": 0.5
             },
             "pattern": {
              "fillmode": "overlay",
              "size": 10,
              "solidity": 0.2
             }
            },
            "type": "barpolar"
           }
          ],
          "carpet": [
           {
            "aaxis": {
             "endlinecolor": "#2a3f5f",
             "gridcolor": "white",
             "linecolor": "white",
             "minorgridcolor": "white",
             "startlinecolor": "#2a3f5f"
            },
            "baxis": {
             "endlinecolor": "#2a3f5f",
             "gridcolor": "white",
             "linecolor": "white",
             "minorgridcolor": "white",
             "startlinecolor": "#2a3f5f"
            },
            "type": "carpet"
           }
          ],
          "choropleth": [
           {
            "colorbar": {
             "outlinewidth": 0,
             "ticks": ""
            },
            "type": "choropleth"
           }
          ],
          "contour": [
           {
            "colorbar": {
             "outlinewidth": 0,
             "ticks": ""
            },
            "colorscale": [
             [
              0,
              "#0d0887"
             ],
             [
              0.1111111111111111,
              "#46039f"
             ],
             [
              0.2222222222222222,
              "#7201a8"
             ],
             [
              0.3333333333333333,
              "#9c179e"
             ],
             [
              0.4444444444444444,
              "#bd3786"
             ],
             [
              0.5555555555555556,
              "#d8576b"
             ],
             [
              0.6666666666666666,
              "#ed7953"
             ],
             [
              0.7777777777777778,
              "#fb9f3a"
             ],
             [
              0.8888888888888888,
              "#fdca26"
             ],
             [
              1,
              "#f0f921"
             ]
            ],
            "type": "contour"
           }
          ],
          "contourcarpet": [
           {
            "colorbar": {
             "outlinewidth": 0,
             "ticks": ""
            },
            "type": "contourcarpet"
           }
          ],
          "heatmap": [
           {
            "colorbar": {
             "outlinewidth": 0,
             "ticks": ""
            },
            "colorscale": [
             [
              0,
              "#0d0887"
             ],
             [
              0.1111111111111111,
              "#46039f"
             ],
             [
              0.2222222222222222,
              "#7201a8"
             ],
             [
              0.3333333333333333,
              "#9c179e"
             ],
             [
              0.4444444444444444,
              "#bd3786"
             ],
             [
              0.5555555555555556,
              "#d8576b"
             ],
             [
              0.6666666666666666,
              "#ed7953"
             ],
             [
              0.7777777777777778,
              "#fb9f3a"
             ],
             [
              0.8888888888888888,
              "#fdca26"
             ],
             [
              1,
              "#f0f921"
             ]
            ],
            "type": "heatmap"
           }
          ],
          "heatmapgl": [
           {
            "colorbar": {
             "outlinewidth": 0,
             "ticks": ""
            },
            "colorscale": [
             [
              0,
              "#0d0887"
             ],
             [
              0.1111111111111111,
              "#46039f"
             ],
             [
              0.2222222222222222,
              "#7201a8"
             ],
             [
              0.3333333333333333,
              "#9c179e"
             ],
             [
              0.4444444444444444,
              "#bd3786"
             ],
             [
              0.5555555555555556,
              "#d8576b"
             ],
             [
              0.6666666666666666,
              "#ed7953"
             ],
             [
              0.7777777777777778,
              "#fb9f3a"
             ],
             [
              0.8888888888888888,
              "#fdca26"
             ],
             [
              1,
              "#f0f921"
             ]
            ],
            "type": "heatmapgl"
           }
          ],
          "histogram": [
           {
            "marker": {
             "pattern": {
              "fillmode": "overlay",
              "size": 10,
              "solidity": 0.2
             }
            },
            "type": "histogram"
           }
          ],
          "histogram2d": [
           {
            "colorbar": {
             "outlinewidth": 0,
             "ticks": ""
            },
            "colorscale": [
             [
              0,
              "#0d0887"
             ],
             [
              0.1111111111111111,
              "#46039f"
             ],
             [
              0.2222222222222222,
              "#7201a8"
             ],
             [
              0.3333333333333333,
              "#9c179e"
             ],
             [
              0.4444444444444444,
              "#bd3786"
             ],
             [
              0.5555555555555556,
              "#d8576b"
             ],
             [
              0.6666666666666666,
              "#ed7953"
             ],
             [
              0.7777777777777778,
              "#fb9f3a"
             ],
             [
              0.8888888888888888,
              "#fdca26"
             ],
             [
              1,
              "#f0f921"
             ]
            ],
            "type": "histogram2d"
           }
          ],
          "histogram2dcontour": [
           {
            "colorbar": {
             "outlinewidth": 0,
             "ticks": ""
            },
            "colorscale": [
             [
              0,
              "#0d0887"
             ],
             [
              0.1111111111111111,
              "#46039f"
             ],
             [
              0.2222222222222222,
              "#7201a8"
             ],
             [
              0.3333333333333333,
              "#9c179e"
             ],
             [
              0.4444444444444444,
              "#bd3786"
             ],
             [
              0.5555555555555556,
              "#d8576b"
             ],
             [
              0.6666666666666666,
              "#ed7953"
             ],
             [
              0.7777777777777778,
              "#fb9f3a"
             ],
             [
              0.8888888888888888,
              "#fdca26"
             ],
             [
              1,
              "#f0f921"
             ]
            ],
            "type": "histogram2dcontour"
           }
          ],
          "mesh3d": [
           {
            "colorbar": {
             "outlinewidth": 0,
             "ticks": ""
            },
            "type": "mesh3d"
           }
          ],
          "parcoords": [
           {
            "line": {
             "colorbar": {
              "outlinewidth": 0,
              "ticks": ""
             }
            },
            "type": "parcoords"
           }
          ],
          "pie": [
           {
            "automargin": true,
            "type": "pie"
           }
          ],
          "scatter": [
           {
            "fillpattern": {
             "fillmode": "overlay",
             "size": 10,
             "solidity": 0.2
            },
            "type": "scatter"
           }
          ],
          "scatter3d": [
           {
            "line": {
             "colorbar": {
              "outlinewidth": 0,
              "ticks": ""
             }
            },
            "marker": {
             "colorbar": {
              "outlinewidth": 0,
              "ticks": ""
             }
            },
            "type": "scatter3d"
           }
          ],
          "scattercarpet": [
           {
            "marker": {
             "colorbar": {
              "outlinewidth": 0,
              "ticks": ""
             }
            },
            "type": "scattercarpet"
           }
          ],
          "scattergeo": [
           {
            "marker": {
             "colorbar": {
              "outlinewidth": 0,
              "ticks": ""
             }
            },
            "type": "scattergeo"
           }
          ],
          "scattergl": [
           {
            "marker": {
             "colorbar": {
              "outlinewidth": 0,
              "ticks": ""
             }
            },
            "type": "scattergl"
           }
          ],
          "scattermapbox": [
           {
            "marker": {
             "colorbar": {
              "outlinewidth": 0,
              "ticks": ""
             }
            },
            "type": "scattermapbox"
           }
          ],
          "scatterpolar": [
           {
            "marker": {
             "colorbar": {
              "outlinewidth": 0,
              "ticks": ""
             }
            },
            "type": "scatterpolar"
           }
          ],
          "scatterpolargl": [
           {
            "marker": {
             "colorbar": {
              "outlinewidth": 0,
              "ticks": ""
             }
            },
            "type": "scatterpolargl"
           }
          ],
          "scatterternary": [
           {
            "marker": {
             "colorbar": {
              "outlinewidth": 0,
              "ticks": ""
             }
            },
            "type": "scatterternary"
           }
          ],
          "surface": [
           {
            "colorbar": {
             "outlinewidth": 0,
             "ticks": ""
            },
            "colorscale": [
             [
              0,
              "#0d0887"
             ],
             [
              0.1111111111111111,
              "#46039f"
             ],
             [
              0.2222222222222222,
              "#7201a8"
             ],
             [
              0.3333333333333333,
              "#9c179e"
             ],
             [
              0.4444444444444444,
              "#bd3786"
             ],
             [
              0.5555555555555556,
              "#d8576b"
             ],
             [
              0.6666666666666666,
              "#ed7953"
             ],
             [
              0.7777777777777778,
              "#fb9f3a"
             ],
             [
              0.8888888888888888,
              "#fdca26"
             ],
             [
              1,
              "#f0f921"
             ]
            ],
            "type": "surface"
           }
          ],
          "table": [
           {
            "cells": {
             "fill": {
              "color": "#EBF0F8"
             },
             "line": {
              "color": "white"
             }
            },
            "header": {
             "fill": {
              "color": "#C8D4E3"
             },
             "line": {
              "color": "white"
             }
            },
            "type": "table"
           }
          ]
         },
         "layout": {
          "annotationdefaults": {
           "arrowcolor": "#2a3f5f",
           "arrowhead": 0,
           "arrowwidth": 1
          },
          "autotypenumbers": "strict",
          "coloraxis": {
           "colorbar": {
            "outlinewidth": 0,
            "ticks": ""
           }
          },
          "colorscale": {
           "diverging": [
            [
             0,
             "#8e0152"
            ],
            [
             0.1,
             "#c51b7d"
            ],
            [
             0.2,
             "#de77ae"
            ],
            [
             0.3,
             "#f1b6da"
            ],
            [
             0.4,
             "#fde0ef"
            ],
            [
             0.5,
             "#f7f7f7"
            ],
            [
             0.6,
             "#e6f5d0"
            ],
            [
             0.7,
             "#b8e186"
            ],
            [
             0.8,
             "#7fbc41"
            ],
            [
             0.9,
             "#4d9221"
            ],
            [
             1,
             "#276419"
            ]
           ],
           "sequential": [
            [
             0,
             "#0d0887"
            ],
            [
             0.1111111111111111,
             "#46039f"
            ],
            [
             0.2222222222222222,
             "#7201a8"
            ],
            [
             0.3333333333333333,
             "#9c179e"
            ],
            [
             0.4444444444444444,
             "#bd3786"
            ],
            [
             0.5555555555555556,
             "#d8576b"
            ],
            [
             0.6666666666666666,
             "#ed7953"
            ],
            [
             0.7777777777777778,
             "#fb9f3a"
            ],
            [
             0.8888888888888888,
             "#fdca26"
            ],
            [
             1,
             "#f0f921"
            ]
           ],
           "sequentialminus": [
            [
             0,
             "#0d0887"
            ],
            [
             0.1111111111111111,
             "#46039f"
            ],
            [
             0.2222222222222222,
             "#7201a8"
            ],
            [
             0.3333333333333333,
             "#9c179e"
            ],
            [
             0.4444444444444444,
             "#bd3786"
            ],
            [
             0.5555555555555556,
             "#d8576b"
            ],
            [
             0.6666666666666666,
             "#ed7953"
            ],
            [
             0.7777777777777778,
             "#fb9f3a"
            ],
            [
             0.8888888888888888,
             "#fdca26"
            ],
            [
             1,
             "#f0f921"
            ]
           ]
          },
          "colorway": [
           "#636efa",
           "#EF553B",
           "#00cc96",
           "#ab63fa",
           "#FFA15A",
           "#19d3f3",
           "#FF6692",
           "#B6E880",
           "#FF97FF",
           "#FECB52"
          ],
          "font": {
           "color": "#2a3f5f"
          },
          "geo": {
           "bgcolor": "white",
           "lakecolor": "white",
           "landcolor": "#E5ECF6",
           "showlakes": true,
           "showland": true,
           "subunitcolor": "white"
          },
          "hoverlabel": {
           "align": "left"
          },
          "hovermode": "closest",
          "mapbox": {
           "style": "light"
          },
          "paper_bgcolor": "white",
          "plot_bgcolor": "#E5ECF6",
          "polar": {
           "angularaxis": {
            "gridcolor": "white",
            "linecolor": "white",
            "ticks": ""
           },
           "bgcolor": "#E5ECF6",
           "radialaxis": {
            "gridcolor": "white",
            "linecolor": "white",
            "ticks": ""
           }
          },
          "scene": {
           "xaxis": {
            "backgroundcolor": "#E5ECF6",
            "gridcolor": "white",
            "gridwidth": 2,
            "linecolor": "white",
            "showbackground": true,
            "ticks": "",
            "zerolinecolor": "white"
           },
           "yaxis": {
            "backgroundcolor": "#E5ECF6",
            "gridcolor": "white",
            "gridwidth": 2,
            "linecolor": "white",
            "showbackground": true,
            "ticks": "",
            "zerolinecolor": "white"
           },
           "zaxis": {
            "backgroundcolor": "#E5ECF6",
            "gridcolor": "white",
            "gridwidth": 2,
            "linecolor": "white",
            "showbackground": true,
            "ticks": "",
            "zerolinecolor": "white"
           }
          },
          "shapedefaults": {
           "line": {
            "color": "#2a3f5f"
           }
          },
          "ternary": {
           "aaxis": {
            "gridcolor": "white",
            "linecolor": "white",
            "ticks": ""
           },
           "baxis": {
            "gridcolor": "white",
            "linecolor": "white",
            "ticks": ""
           },
           "bgcolor": "#E5ECF6",
           "caxis": {
            "gridcolor": "white",
            "linecolor": "white",
            "ticks": ""
           }
          },
          "title": {
           "x": 0.05
          },
          "xaxis": {
           "automargin": true,
           "gridcolor": "white",
           "linecolor": "white",
           "ticks": "",
           "title": {
            "standoff": 15
           },
           "zerolinecolor": "white",
           "zerolinewidth": 2
          },
          "yaxis": {
           "automargin": true,
           "gridcolor": "white",
           "linecolor": "white",
           "ticks": "",
           "title": {
            "standoff": 15
           },
           "zerolinecolor": "white",
           "zerolinewidth": 2
          }
         }
        },
        "title": {
         "text": "Distribución y tendencia de los datos de campo magnético por imán respecto a la distancia del sensor"
        },
        "width": 1200,
        "xaxis": {
         "anchor": "y",
         "domain": [
          0,
          0.45
         ],
         "range": [
          0,
          0.17
         ],
         "title": {
          "text": "Distancia del sensor al imán (m)"
         }
        },
        "xaxis2": {
         "anchor": "y2",
         "domain": [
          0.55,
          1
         ],
         "range": [
          0,
          0.06
         ],
         "title": {
          "text": "Distancia del sensor al imán (m)"
         }
        },
        "yaxis": {
         "anchor": "x",
         "domain": [
          0,
          1
         ],
         "range": [
          0,
          0.017
         ],
         "title": {
          "text": "Campo magnético (mT)"
         }
        },
        "yaxis2": {
         "anchor": "x2",
         "domain": [
          0,
          1
         ],
         "range": [
          0,
          0.006
         ]
        }
       }
      }
     },
     "metadata": {},
     "output_type": "display_data"
    }
   ],
   "source": [
    "fig = make_subplots(rows=1, cols=2, subplot_titles=['Imanes 1 y 2', 'Imanes 3 y 4'])\n",
    "\n",
    "# Paletas de colores\n",
    "colores_1 = px.colors.qualitative.Plotly\n",
    "colores_2 = px.colors.qualitative.Set2\n",
    "\n",
    "# Itera sobre los subplots y los imanes\n",
    "for i, subplot_title, imanes, colores in zip([1, 2], ['Imán 1 y 2', 'Imán 3 y 4'], [[1, 2], [3, 4]], [colores_1, colores_2]):\n",
    "    for iman, color in zip(imanes, colores):\n",
    "        datos_iman = datos_totales[datos_totales['iman'] == iman]\n",
    "        # Agrega las líneas\n",
    "        fig.add_trace(\n",
    "            px.line(datos_iman, x='distancia_metros', y='campo_militeslas', color='iman')\n",
    "            .update_traces(showlegend=True, line=dict(color=color), name=f'Imán {iman}').data[0],\n",
    "            row=1, col=i\n",
    "        )\n",
    "\n",
    "        # Agrega los puntos\n",
    "        fig.add_trace(\n",
    "            px.scatter(datos_iman, x='distancia_metros', y='campo_militeslas', color='iman')\n",
    "            .update_traces(showlegend=False, marker=dict(color=color, size=8), name=f'Imán {iman}').data[0],\n",
    "            row=1, col=i\n",
    "        )\n",
    "\n",
    "fig.update_layout(\n",
    "    title_text='Distribución y tendencia de los datos de campo magnético por imán respecto a la distancia del sensor',\n",
    "    legend_title='Imán',\n",
    "    xaxis_title='Distancia del sensor al imán (m)',\n",
    "    yaxis_title='Campo magnético (mT)',\n",
    "    xaxis2_title='Distancia del sensor al imán (m)',\n",
    "    xaxis_range=[0, 0.17],  \n",
    "    yaxis_range=[0, 0.017], \n",
    "    yaxis2_range=[0, 0.006],\n",
    "    xaxis2_range=[0, 0.06],\n",
    "    width=1200,  \n",
    "    height=600,  \n",
    ")\n",
    "# fig.write_image(\"distribucion_tendencia.png\")\n",
    "\n",
    "fig.show()"
   ]
  }
 ],
 "metadata": {
  "kernelspec": {
   "display_name": "Python 3",
   "language": "python",
   "name": "python3"
  },
  "language_info": {
   "codemirror_mode": {
    "name": "ipython",
    "version": 3
   },
   "file_extension": ".py",
   "mimetype": "text/x-python",
   "name": "python",
   "nbconvert_exporter": "python",
   "pygments_lexer": "ipython3",
   "version": "3.11.2"
  }
 },
 "nbformat": 4,
 "nbformat_minor": 2
}
