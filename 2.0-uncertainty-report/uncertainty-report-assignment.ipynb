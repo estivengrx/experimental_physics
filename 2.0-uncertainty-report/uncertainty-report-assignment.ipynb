{
 "cells": [
  {
   "cell_type": "markdown",
   "metadata": {},
   "source": [
    "- Agregar longitud péndulo\n",
    "- Agregar incertidumbres de los instrumentos de medida"
   ]
  },
  {
   "cell_type": "code",
   "execution_count": 53,
   "metadata": {},
   "outputs": [],
   "source": [
    "import pandas as pd\n",
    "import numpy as np"
   ]
  },
  {
   "cell_type": "markdown",
   "metadata": {},
   "source": [
    "Importación de datos"
   ]
  },
  {
   "cell_type": "code",
   "execution_count": 54,
   "metadata": {},
   "outputs": [
    {
     "data": {
      "text/html": [
       "<div>\n",
       "<style scoped>\n",
       "    .dataframe tbody tr th:only-of-type {\n",
       "        vertical-align: middle;\n",
       "    }\n",
       "\n",
       "    .dataframe tbody tr th {\n",
       "        vertical-align: top;\n",
       "    }\n",
       "\n",
       "    .dataframe thead th {\n",
       "        text-align: right;\n",
       "    }\n",
       "</style>\n",
       "<table border=\"1\" class=\"dataframe\">\n",
       "  <thead>\n",
       "    <tr style=\"text-align: right;\">\n",
       "      <th></th>\n",
       "      <th>1_oscilacion(s)</th>\n",
       "      <th>3_oscilaciones(s)</th>\n",
       "      <th>5_oscilaciones(s)</th>\n",
       "      <th>7_oscilaciones(s)</th>\n",
       "      <th>9_oscilaciones(s)</th>\n",
       "      <th>10_oscilaciones(s)</th>\n",
       "    </tr>\n",
       "  </thead>\n",
       "  <tbody>\n",
       "    <tr>\n",
       "      <th>0</th>\n",
       "      <td>1.58</td>\n",
       "      <td>5.60</td>\n",
       "      <td>8.73</td>\n",
       "      <td>12.21</td>\n",
       "      <td>15.82</td>\n",
       "      <td>17.69</td>\n",
       "    </tr>\n",
       "    <tr>\n",
       "      <th>1</th>\n",
       "      <td>1.65</td>\n",
       "      <td>3.33</td>\n",
       "      <td>8.77</td>\n",
       "      <td>12.25</td>\n",
       "      <td>15.98</td>\n",
       "      <td>17.46</td>\n",
       "    </tr>\n",
       "    <tr>\n",
       "      <th>2</th>\n",
       "      <td>1.54</td>\n",
       "      <td>3.36</td>\n",
       "      <td>8.84</td>\n",
       "      <td>12.24</td>\n",
       "      <td>15.92</td>\n",
       "      <td>17.60</td>\n",
       "    </tr>\n",
       "    <tr>\n",
       "      <th>3</th>\n",
       "      <td>1.63</td>\n",
       "      <td>3.53</td>\n",
       "      <td>8.81</td>\n",
       "      <td>12.26</td>\n",
       "      <td>15.93</td>\n",
       "      <td>17.56</td>\n",
       "    </tr>\n",
       "    <tr>\n",
       "      <th>4</th>\n",
       "      <td>1.61</td>\n",
       "      <td>3.22</td>\n",
       "      <td>8.81</td>\n",
       "      <td>12.16</td>\n",
       "      <td>15.90</td>\n",
       "      <td>17.57</td>\n",
       "    </tr>\n",
       "  </tbody>\n",
       "</table>\n",
       "</div>"
      ],
      "text/plain": [
       "   1_oscilacion(s)  3_oscilaciones(s)  5_oscilaciones(s)  7_oscilaciones(s)  \\\n",
       "0             1.58               5.60               8.73              12.21   \n",
       "1             1.65               3.33               8.77              12.25   \n",
       "2             1.54               3.36               8.84              12.24   \n",
       "3             1.63               3.53               8.81              12.26   \n",
       "4             1.61               3.22               8.81              12.16   \n",
       "\n",
       "   9_oscilaciones(s)  10_oscilaciones(s)  \n",
       "0              15.82               17.69  \n",
       "1              15.98               17.46  \n",
       "2              15.92               17.60  \n",
       "3              15.93               17.56  \n",
       "4              15.90               17.57  "
      ]
     },
     "execution_count": 54,
     "metadata": {},
     "output_type": "execute_result"
    }
   ],
   "source": [
    "# # #Importación de datos mediante archivos en la máquina local\n",
    "# datos_oscilaciones = pd.read_excel('2.0-datos_oscilaciones_péndulo.xlsx')\n",
    "\n",
    "# Importación de datos con base en un archivo json, (no necesita tener el archivo de datos en la máquina local)\n",
    "datos_oscilaciones_json = '{\"1_oscilacion(s)\":{\"0\":1.58,\"1\":1.65,\"2\":1.54,\"3\":1.63,\"4\":1.61},\"3_oscilaciones(s)\":{\"0\":5.6,\"1\":3.33,\"2\":3.36,\"3\":3.53,\"4\":3.22},\"5_oscilaciones(s)\":{\"0\":8.73,\"1\":8.77,\"2\":8.84,\"3\":8.81,\"4\":8.81},\"7_oscilaciones(s)\":{\"0\":12.21,\"1\":12.25,\"2\":12.24,\"3\":12.26,\"4\":12.16},\"9_oscilaciones(s)\":{\"0\":15.82,\"1\":15.98,\"2\":15.92,\"3\":15.93,\"4\":15.9},\"10_oscilaciones(s)\":{\"0\":17.69,\"1\":17.46,\"2\":17.6,\"3\":17.56,\"4\":17.57}}'\n",
    "datos_oscilaciones = pd.read_json(datos_oscilaciones_json)\n",
    "datos_oscilaciones"
   ]
  },
  {
   "cell_type": "code",
   "execution_count": 55,
   "metadata": {},
   "outputs": [
    {
     "name": "stdout",
     "output_type": "stream",
     "text": [
      "-----Promedio de cada columna-----\n"
     ]
    },
    {
     "data": {
      "text/html": [
       "<div>\n",
       "<style scoped>\n",
       "    .dataframe tbody tr th:only-of-type {\n",
       "        vertical-align: middle;\n",
       "    }\n",
       "\n",
       "    .dataframe tbody tr th {\n",
       "        vertical-align: top;\n",
       "    }\n",
       "\n",
       "    .dataframe thead th {\n",
       "        text-align: right;\n",
       "    }\n",
       "</style>\n",
       "<table border=\"1\" class=\"dataframe\">\n",
       "  <thead>\n",
       "    <tr style=\"text-align: right;\">\n",
       "      <th></th>\n",
       "      <th>1_oscilacion(s)</th>\n",
       "      <th>3_oscilaciones(s)</th>\n",
       "      <th>5_oscilaciones(s)</th>\n",
       "      <th>7_oscilaciones(s)</th>\n",
       "      <th>9_oscilaciones(s)</th>\n",
       "      <th>10_oscilaciones(s)</th>\n",
       "    </tr>\n",
       "  </thead>\n",
       "  <tbody>\n",
       "    <tr>\n",
       "      <th>mean</th>\n",
       "      <td>1.602</td>\n",
       "      <td>3.808</td>\n",
       "      <td>8.792</td>\n",
       "      <td>12.224</td>\n",
       "      <td>15.91</td>\n",
       "      <td>17.576</td>\n",
       "    </tr>\n",
       "  </tbody>\n",
       "</table>\n",
       "</div>"
      ],
      "text/plain": [
       "      1_oscilacion(s)  3_oscilaciones(s)  5_oscilaciones(s)  \\\n",
       "mean            1.602              3.808              8.792   \n",
       "\n",
       "      7_oscilaciones(s)  9_oscilaciones(s)  10_oscilaciones(s)  \n",
       "mean             12.224              15.91              17.576  "
      ]
     },
     "execution_count": 55,
     "metadata": {},
     "output_type": "execute_result"
    }
   ],
   "source": [
    "print('-----Promedio de cada columna-----')\n",
    "datos_oscilaciones.describe()[1:2]"
   ]
  },
  {
   "cell_type": "markdown",
   "metadata": {},
   "source": [
    "El período promedio del péndulo para varias oscilaciones será: $T_{promed} = \\frac{\\text{promedio columna}}{\\text{cantidad de oscilaciones}}$"
   ]
  },
  {
   "cell_type": "code",
   "execution_count": 57,
   "metadata": {},
   "outputs": [
    {
     "name": "stdout",
     "output_type": "stream",
     "text": [
      "-----Períodos del péndulo en cada cantidad de oscilaciones-----\n",
      "1_oscilacion(s) = 1.6\n",
      "3_oscilaciones(s) = 1.27\n",
      "5_oscilaciones(s) = 1.76\n",
      "7_oscilaciones(s) = 1.75\n",
      "9_oscilaciones(s) = 1.77\n",
      "10_oscilaciones(s) = 1.76\n"
     ]
    }
   ],
   "source": [
    "print('-----Períodos del péndulo en cada cantidad de oscilaciones-----')\n",
    "for columna in datos_oscilaciones:\n",
    "    promedio_columna = np.mean(datos_oscilaciones[columna])\n",
    "    cantidad_oscilaciones = int(columna.split('_')[0]) # Extrayendo número oscilaciones de los nombres de las columnas\n",
    "    T_promed = promedio_columna / cantidad_oscilaciones\n",
    "    print(f'{columna} = {round(T_promed, 2)}')"
   ]
  }
 ],
 "metadata": {
  "kernelspec": {
   "display_name": "experimental_physics",
   "language": "python",
   "name": "python3"
  },
  "language_info": {
   "codemirror_mode": {
    "name": "ipython",
    "version": 3
   },
   "file_extension": ".py",
   "mimetype": "text/x-python",
   "name": "python",
   "nbconvert_exporter": "python",
   "pygments_lexer": "ipython3",
   "version": "3.11.2"
  },
  "orig_nbformat": 4
 },
 "nbformat": 4,
 "nbformat_minor": 2
}
