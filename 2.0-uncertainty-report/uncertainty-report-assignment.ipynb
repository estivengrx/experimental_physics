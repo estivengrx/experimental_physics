{
  "cells": [
    {
      "cell_type": "markdown",
      "metadata": {},
      "source": [
        "<h1><b>Tarea 2: Reporte de incertidumbre <b></h1>\n",
        "\n",
        "---\n",
        "<div align=\"right\">\n",
        "<font size=2>\n",
        "Estiven Castrillón Alzate<br>\n",
        "Institute of Physics<br>\n",
        "</font>\n",
        "</div>"
      ]
    },
    {
      "cell_type": "markdown",
      "metadata": {
        "id": "9wolyqN1EkMr"
      },
      "source": [
        "1. Medición del largo del péndulo.\n",
        "\n",
        "¿Vale la pena hacer mediciones repetitivas de la variable o si por el contrario con una es suficiente? Para efectos prácticos de la actividad no se tomaron varias medidas de la longitud del péndulo, pero lo ideal sería que sí, esto para hacer un reporte de incertidumbre más completo de la aceleración de la gravedad estimada a partir de los datos de periodo y largo del péndulo, esto debido a la dependencia de la gravedad de la longitud y el periodo pendular, así como se muestra en el siguiente proceso:\n",
        "\\begin{equation}\n",
        "    T = 2\\pi \\sqrt{\\frac{l}{g}} \\tag{1}\n",
        "\\end{equation}\n",
        "Donde T es el período pendular, g es la aceleración de la gravedad y l es la longitud del péndulo, luego:\n",
        "\\begin{equation}\n",
        "    g = \\frac{4 l\\pi^2}{T^2} \\tag{2}\n",
        "\\end{equation}\n",
        "\n",
        "La longitud del péndulo es $ (73.6 \\pm 0.1) \\space \\text{cm}$"
      ]
    },
    {
      "cell_type": "markdown",
      "metadata": {
        "id": "VrzyQ8R4MjHr"
      },
      "source": [
        "2. Medición del periodo de oscilación pendular.\n",
        "Es preferible que mida el tiempo de varios periodos y luego divida, ¿por qué?.\n",
        "\n",
        "Ya que como es un ángulo tan pequeño y la longitud de la cuerda no es muy grande, las oscilaciones son bastante rápidas, cosa que puede ser contraproducente a la hora de medir el tiempo con un cronómetro; así, cuando se cronometran varios periodos hay una menor probabilidad de error a la hora de empezar y detener el cronómetro."
      ]
    },
    {
      "cell_type": "code",
      "execution_count": 209,
      "metadata": {
        "id": "pxy_04QNDVCA"
      },
      "outputs": [],
      "source": [
        "import pandas as pd\n",
        "import numpy as np\n",
        "\n",
        "from math import radians"
      ]
    },
    {
      "cell_type": "markdown",
      "metadata": {
        "id": "x3qCb-3hDVCF"
      },
      "source": [
        "Importación de datos"
      ]
    },
    {
      "cell_type": "code",
      "execution_count": 210,
      "metadata": {
        "colab": {
          "base_uri": "https://localhost:8080/",
          "height": 206
        },
        "id": "S61EeCMNDVCH",
        "outputId": "237f02ef-8fd0-4242-b002-8d0629dfbf8c"
      },
      "outputs": [
        {
          "data": {
            "text/html": [
              "<div>\n",
              "<style scoped>\n",
              "    .dataframe tbody tr th:only-of-type {\n",
              "        vertical-align: middle;\n",
              "    }\n",
              "\n",
              "    .dataframe tbody tr th {\n",
              "        vertical-align: top;\n",
              "    }\n",
              "\n",
              "    .dataframe thead th {\n",
              "        text-align: right;\n",
              "    }\n",
              "</style>\n",
              "<table border=\"1\" class=\"dataframe\">\n",
              "  <thead>\n",
              "    <tr style=\"text-align: right;\">\n",
              "      <th></th>\n",
              "      <th>1_oscilacion(s)</th>\n",
              "      <th>5_oscilaciones(s)</th>\n",
              "      <th>7_oscilaciones(s)</th>\n",
              "      <th>9_oscilaciones(s)</th>\n",
              "      <th>10_oscilaciones(s)</th>\n",
              "    </tr>\n",
              "  </thead>\n",
              "  <tbody>\n",
              "    <tr>\n",
              "      <th>0</th>\n",
              "      <td>1.58</td>\n",
              "      <td>8.73</td>\n",
              "      <td>12.21</td>\n",
              "      <td>15.82</td>\n",
              "      <td>17.69</td>\n",
              "    </tr>\n",
              "    <tr>\n",
              "      <th>1</th>\n",
              "      <td>1.65</td>\n",
              "      <td>8.77</td>\n",
              "      <td>12.25</td>\n",
              "      <td>15.98</td>\n",
              "      <td>17.46</td>\n",
              "    </tr>\n",
              "    <tr>\n",
              "      <th>2</th>\n",
              "      <td>1.54</td>\n",
              "      <td>8.84</td>\n",
              "      <td>12.24</td>\n",
              "      <td>15.92</td>\n",
              "      <td>17.60</td>\n",
              "    </tr>\n",
              "    <tr>\n",
              "      <th>3</th>\n",
              "      <td>1.63</td>\n",
              "      <td>8.81</td>\n",
              "      <td>12.26</td>\n",
              "      <td>15.93</td>\n",
              "      <td>17.56</td>\n",
              "    </tr>\n",
              "    <tr>\n",
              "      <th>4</th>\n",
              "      <td>1.61</td>\n",
              "      <td>8.81</td>\n",
              "      <td>12.16</td>\n",
              "      <td>15.90</td>\n",
              "      <td>17.57</td>\n",
              "    </tr>\n",
              "  </tbody>\n",
              "</table>\n",
              "</div>"
            ],
            "text/plain": [
              "   1_oscilacion(s)  5_oscilaciones(s)  7_oscilaciones(s)  9_oscilaciones(s)  \\\n",
              "0             1.58               8.73              12.21              15.82   \n",
              "1             1.65               8.77              12.25              15.98   \n",
              "2             1.54               8.84              12.24              15.92   \n",
              "3             1.63               8.81              12.26              15.93   \n",
              "4             1.61               8.81              12.16              15.90   \n",
              "\n",
              "   10_oscilaciones(s)  \n",
              "0               17.69  \n",
              "1               17.46  \n",
              "2               17.60  \n",
              "3               17.56  \n",
              "4               17.57  "
            ]
          },
          "execution_count": 210,
          "metadata": {},
          "output_type": "execute_result"
        }
      ],
      "source": [
        "# # #Importación de datos mediante archivos en la máquina local\n",
        "# datos_oscilaciones = pd.read_excel('2.0-datos_oscilaciones_péndulo.xlsx')\n",
        "\n",
        "# Importación de datos con base en un archivo json, (no necesita tener el archivo de datos en la máquina local)\n",
        "datos_oscilaciones_json = '{\"1_oscilacion(s)\":{\"0\":1.58,\"1\":1.65,\"2\":1.54,\"3\":1.63,\"4\":1.61},\"5_oscilaciones(s)\":{\"0\":8.73,\"1\":8.77,\"2\":8.84,\"3\":8.81,\"4\":8.81},\"7_oscilaciones(s)\":{\"0\":12.21,\"1\":12.25,\"2\":12.24,\"3\":12.26,\"4\":12.16},\"9_oscilaciones(s)\":{\"0\":15.82,\"1\":15.98,\"2\":15.92,\"3\":15.93,\"4\":15.9},\"10_oscilaciones(s)\":{\"0\":17.69,\"1\":17.46,\"2\":17.6,\"3\":17.56,\"4\":17.57}}'\n",
        "datos_oscilaciones = pd.read_json(datos_oscilaciones_json)\n",
        "datos_oscilaciones"
      ]
    },
    {
      "cell_type": "markdown",
      "metadata": {
        "id": "znk4wiQpP8dX"
      },
      "source": [
        "Dividiendo cada valor de la columna por el numero de oscilaciones para obtener el periodo\n"
      ]
    },
    {
      "cell_type": "code",
      "execution_count": 211,
      "metadata": {
        "colab": {
          "base_uri": "https://localhost:8080/",
          "height": 206
        },
        "id": "rxr_jjV5M3U-",
        "outputId": "52646833-dab6-4fb3-897f-dda27a54bca0"
      },
      "outputs": [
        {
          "data": {
            "text/html": [
              "<div>\n",
              "<style scoped>\n",
              "    .dataframe tbody tr th:only-of-type {\n",
              "        vertical-align: middle;\n",
              "    }\n",
              "\n",
              "    .dataframe tbody tr th {\n",
              "        vertical-align: top;\n",
              "    }\n",
              "\n",
              "    .dataframe thead th {\n",
              "        text-align: right;\n",
              "    }\n",
              "</style>\n",
              "<table border=\"1\" class=\"dataframe\">\n",
              "  <thead>\n",
              "    <tr style=\"text-align: right;\">\n",
              "      <th></th>\n",
              "      <th>1_oscilacion(s)</th>\n",
              "      <th>5_oscilaciones(s)</th>\n",
              "      <th>7_oscilaciones(s)</th>\n",
              "      <th>9_oscilaciones(s)</th>\n",
              "      <th>10_oscilaciones(s)</th>\n",
              "    </tr>\n",
              "  </thead>\n",
              "  <tbody>\n",
              "    <tr>\n",
              "      <th>0</th>\n",
              "      <td>1.58</td>\n",
              "      <td>1.75</td>\n",
              "      <td>1.74</td>\n",
              "      <td>1.76</td>\n",
              "      <td>1.77</td>\n",
              "    </tr>\n",
              "    <tr>\n",
              "      <th>1</th>\n",
              "      <td>1.65</td>\n",
              "      <td>1.75</td>\n",
              "      <td>1.75</td>\n",
              "      <td>1.78</td>\n",
              "      <td>1.75</td>\n",
              "    </tr>\n",
              "    <tr>\n",
              "      <th>2</th>\n",
              "      <td>1.54</td>\n",
              "      <td>1.77</td>\n",
              "      <td>1.75</td>\n",
              "      <td>1.77</td>\n",
              "      <td>1.76</td>\n",
              "    </tr>\n",
              "    <tr>\n",
              "      <th>3</th>\n",
              "      <td>1.63</td>\n",
              "      <td>1.76</td>\n",
              "      <td>1.75</td>\n",
              "      <td>1.77</td>\n",
              "      <td>1.76</td>\n",
              "    </tr>\n",
              "    <tr>\n",
              "      <th>4</th>\n",
              "      <td>1.61</td>\n",
              "      <td>1.76</td>\n",
              "      <td>1.74</td>\n",
              "      <td>1.77</td>\n",
              "      <td>1.76</td>\n",
              "    </tr>\n",
              "  </tbody>\n",
              "</table>\n",
              "</div>"
            ],
            "text/plain": [
              "   1_oscilacion(s)  5_oscilaciones(s)  7_oscilaciones(s)  9_oscilaciones(s)  \\\n",
              "0             1.58               1.75               1.74               1.76   \n",
              "1             1.65               1.75               1.75               1.78   \n",
              "2             1.54               1.77               1.75               1.77   \n",
              "3             1.63               1.76               1.75               1.77   \n",
              "4             1.61               1.76               1.74               1.77   \n",
              "\n",
              "   10_oscilaciones(s)  \n",
              "0                1.77  \n",
              "1                1.75  \n",
              "2                1.76  \n",
              "3                1.76  \n",
              "4                1.76  "
            ]
          },
          "execution_count": 211,
          "metadata": {},
          "output_type": "execute_result"
        }
      ],
      "source": [
        "periodos_oscilacion = datos_oscilaciones.copy() # Creando una copia de los datos originales\n",
        "\n",
        "for columna in periodos_oscilacion:\n",
        "    cantidad_oscilaciones = int(columna.split('_')[0])\n",
        "    periodos_oscilacion[columna] = round(periodos_oscilacion[columna] / cantidad_oscilaciones, 2)\n",
        "\n",
        "periodos_oscilacion"
      ]
    },
    {
      "cell_type": "code",
      "execution_count": 212,
      "metadata": {
        "colab": {
          "base_uri": "https://localhost:8080/",
          "height": 98
        },
        "id": "5lVE8jK4N3u7",
        "outputId": "c50421c5-22cf-42ae-d970-2d27f9dbabee"
      },
      "outputs": [
        {
          "name": "stdout",
          "output_type": "stream",
          "text": [
            "-----Promedio de cada columna-----\n"
          ]
        },
        {
          "data": {
            "text/plain": [
              "1_oscilacion(s)       1.60\n",
              "5_oscilaciones(s)     1.76\n",
              "7_oscilaciones(s)     1.75\n",
              "9_oscilaciones(s)     1.77\n",
              "10_oscilaciones(s)    1.76\n",
              "dtype: float64"
            ]
          },
          "execution_count": 212,
          "metadata": {},
          "output_type": "execute_result"
        }
      ],
      "source": [
        "print('-----Promedio de cada columna-----')\n",
        "promedios_periodos = round(periodos_oscilacion.mean(), 2)\n",
        "promedios_periodos"
      ]
    },
    {
      "cell_type": "markdown",
      "metadata": {
        "id": "aVH2aIjiP_Mo"
      },
      "source": [
        "De igual forma, discuta si vale la pena hacer mediciones repetitivas de la variable o si por el\n",
        "contrario con una basta. ¿Qué estrategia debería usar para disminuir el error provocado por\n",
        "la manipulación humana del cronómetro?\n",
        "\n",
        "* Realizar mediciones repetitivas es crucial para evaluar la consistencia y precisión de los resultados. A través de mediciones repetidas, es posible calcular promedios y desviaciones estándar, lo que brinda una idea más precisa de la magnitud de la incertidumbre asociada con las mediciones. Cuantas más mediciones repetitivas se realicen, mejor será la estimación de la verdadera magnitud de la variable y su incertidumbre.\n",
        "\n",
        "* Primeramente, que la medición del tiempo la realice la misma persona que está poniendo el péndulo a una apertura de 15 grados, esto para minimizar el error asociado a la respuesta cerebral a la hora de cronometrar y escuchar la señal de que ya ha dejado en libertad al péndulo. Segundo, optimizar el angulo de visión de la persona que esta midiendo el tiempo con respecto al pendulo y asi evitar que pare el tiempo antes o despues por un mal angulo de perspectiva. Tercero, tener las mejores condiciones ambietales posibles, asegurarnos de tener un espacio con la menor cantidad de corriente de aire posible, asi evitar que la friccion con el viento altere nuestras medidas, de igual manera tener una superficie estable, que no se vea perturbada por el movimiento del pendulo, ya que en caso de que la superficie se mueva por culpa del pendulo la medida se vera afectada.\n",
        "\n"
      ]
    },
    {
      "cell_type": "markdown",
      "metadata": {
        "id": "FwmUVR0Bb4yu"
      },
      "source": [
        "Reporte adecuadamente T con su respectiva incertidumbre. Considere que debe estimar una incertidumbre total que de cuenta tanto de la apreciación del instrumento usado como de la incertidumbre por fluctuaciones aleatorias.\n",
        "\n",
        "Construya una tabla que contenga para un número dado de medidas columnas con el valor esperado, la desviación estándar, el cuadrado de la incertidumbre estándar, el cuadrado de la mitad de la resolución del instrumento, la suma en cuadratura de la incertidumbre estándar y la resolución del instrumento. Realice esto para diferente número de medidas. Comente sobre el comportamiento de los valores en las diferentes columnas."
      ]
    },
    {
      "cell_type": "markdown",
      "metadata": {
        "id": "UUE8hMeDb4yv"
      },
      "source": [
        "Reporte de T, (periodo)"
      ]
    },
    {
      "cell_type": "code",
      "execution_count": 213,
      "metadata": {
        "colab": {
          "base_uri": "https://localhost:8080/"
        },
        "id": "sVYTZc9qb4yv",
        "outputId": "4ef0dfda-479a-46bf-b4d0-8483902821ea"
      },
      "outputs": [
        {
          "name": "stdout",
          "output_type": "stream",
          "text": [
            "T_periodo = (1.73 ± 0.02) segundos\n"
          ]
        }
      ],
      "source": [
        "# Desviación estándar muestral\n",
        "periodos_array = periodos_oscilacion.values.flatten()\n",
        "desviacion_est = periodos_array.std()\n",
        "media_periodos = periodos_array.mean()\n",
        "\n",
        "# Incertidumbre estándar de la media\n",
        "incert_estandar = desviacion_est / np.sqrt(len(periodos_array))\n",
        "\n",
        "# Incertidumbre del instrumento de medición, (cronómetro)\n",
        "incert_cronometro = 0.01\n",
        "\n",
        "# Incertidumbre total\n",
        "incert_total = np.sqrt( (incert_estandar ** 2) + (incert_cronometro ** 2) )\n",
        "\n",
        "# Reporte de T con incertidumbre\n",
        "print(f'T_periodo = ({round(media_periodos, 2)} ± {round(incert_total, 2)}) segundos')"
      ]
    },
    {
      "cell_type": "markdown",
      "metadata": {
        "id": "tnPeuOX6b4yv"
      },
      "source": [
        "Tabla de medidas estadísiticas"
      ]
    },
    {
      "cell_type": "code",
      "execution_count": 214,
      "metadata": {
        "id": "Xo1_U6EFb4yv"
      },
      "outputs": [],
      "source": [
        "periodos_array = periodos_oscilacion.values.flatten()\n",
        "\n",
        "def tabla_estadistica_muestras(tamaños_muestras):\n",
        "    \"\"\"\n",
        "    Calcula medidas estadísticas para una muestra de datos.\n",
        "\n",
        "    Parameters:\n",
        "        tamaños_muestras (list): Lista de tamaños de muestra a considerar.\n",
        "\n",
        "    Returns:\n",
        "        pd.DataFrame: Un DataFrame con medidas estadísticas para cada tamaño de muestra.\n",
        "    \"\"\"\n",
        "    incert_instrumento = 0.01\n",
        "\n",
        "    resultados = []\n",
        "    for tamaño_muestra in tamaños_muestras:\n",
        "        # Tomando la muestra de los datos\n",
        "        muestra_datos = periodos_array[:tamaño_muestra]\n",
        "\n",
        "        media_datos = np.round(muestra_datos.mean(), 2)\n",
        "        desviacion_datos = np.round(muestra_datos.std(), 2)\n",
        "\n",
        "        # Incertidumbre estándar al cuadrado\n",
        "        incert_est_cuadrado = np.round((desviacion_datos / np.sqrt(tamaño_muestra)) ** 2, 4)\n",
        "\n",
        "        # Cuadrado de la mitad de la resolución del instrumento\n",
        "        incert_mitad_instrumento = np.round((incert_instrumento / 2) ** 2, 5)\n",
        "\n",
        "        # Suma en cuadratura de la incertidumbre estándar y la resolución del instrumento\n",
        "        incert_total_muestra = np.round(np.sqrt(incert_est_cuadrado + (incert_instrumento ** 2)), 2)\n",
        "\n",
        "        # Definición de la tabla con medidas estadísticas\n",
        "        resultados.append({\n",
        "            'Tamaño de Muestra': tamaño_muestra,\n",
        "            'Media': media_datos,\n",
        "            'Desviación Estándar': desviacion_datos,\n",
        "            'Incertidumbre Estándar Cuadrado': incert_est_cuadrado,\n",
        "            'Incertidumbre Mitad Instrumento Cuadrado': incert_mitad_instrumento,\n",
        "            'Incertidumbre Total': incert_total_muestra\n",
        "        })\n",
        "\n",
        "    df_resultados = pd.DataFrame(resultados)\n",
        "    return df_resultados"
      ]
    },
    {
      "cell_type": "code",
      "execution_count": 215,
      "metadata": {
        "colab": {
          "base_uri": "https://localhost:8080/",
          "height": 206
        },
        "id": "EMnDFjf0b4yw",
        "outputId": "bd7d2a39-9165-423d-9645-37062a2b5dde"
      },
      "outputs": [
        {
          "data": {
            "text/html": [
              "<div>\n",
              "<style scoped>\n",
              "    .dataframe tbody tr th:only-of-type {\n",
              "        vertical-align: middle;\n",
              "    }\n",
              "\n",
              "    .dataframe tbody tr th {\n",
              "        vertical-align: top;\n",
              "    }\n",
              "\n",
              "    .dataframe thead th {\n",
              "        text-align: right;\n",
              "    }\n",
              "</style>\n",
              "<table border=\"1\" class=\"dataframe\">\n",
              "  <thead>\n",
              "    <tr style=\"text-align: right;\">\n",
              "      <th></th>\n",
              "      <th>Tamaño de Muestra</th>\n",
              "      <th>Media</th>\n",
              "      <th>Desviación Estándar</th>\n",
              "      <th>Incertidumbre Estándar Cuadrado</th>\n",
              "      <th>Incertidumbre Mitad Instrumento Cuadrado</th>\n",
              "      <th>Incertidumbre Total</th>\n",
              "    </tr>\n",
              "  </thead>\n",
              "  <tbody>\n",
              "    <tr>\n",
              "      <th>0</th>\n",
              "      <td>5</td>\n",
              "      <td>1.72</td>\n",
              "      <td>0.07</td>\n",
              "      <td>0.0010</td>\n",
              "      <td>0.00002</td>\n",
              "      <td>0.03</td>\n",
              "    </tr>\n",
              "    <tr>\n",
              "      <th>1</th>\n",
              "      <td>10</td>\n",
              "      <td>1.73</td>\n",
              "      <td>0.06</td>\n",
              "      <td>0.0004</td>\n",
              "      <td>0.00002</td>\n",
              "      <td>0.02</td>\n",
              "    </tr>\n",
              "    <tr>\n",
              "      <th>2</th>\n",
              "      <td>15</td>\n",
              "      <td>1.72</td>\n",
              "      <td>0.07</td>\n",
              "      <td>0.0003</td>\n",
              "      <td>0.00002</td>\n",
              "      <td>0.02</td>\n",
              "    </tr>\n",
              "    <tr>\n",
              "      <th>3</th>\n",
              "      <td>25</td>\n",
              "      <td>1.73</td>\n",
              "      <td>0.07</td>\n",
              "      <td>0.0002</td>\n",
              "      <td>0.00002</td>\n",
              "      <td>0.02</td>\n",
              "    </tr>\n",
              "    <tr>\n",
              "      <th>4</th>\n",
              "      <td>30</td>\n",
              "      <td>1.73</td>\n",
              "      <td>0.07</td>\n",
              "      <td>0.0002</td>\n",
              "      <td>0.00002</td>\n",
              "      <td>0.02</td>\n",
              "    </tr>\n",
              "  </tbody>\n",
              "</table>\n",
              "</div>"
            ],
            "text/plain": [
              "   Tamaño de Muestra  Media  Desviación Estándar  \\\n",
              "0                  5   1.72                 0.07   \n",
              "1                 10   1.73                 0.06   \n",
              "2                 15   1.72                 0.07   \n",
              "3                 25   1.73                 0.07   \n",
              "4                 30   1.73                 0.07   \n",
              "\n",
              "   Incertidumbre Estándar Cuadrado  Incertidumbre Mitad Instrumento Cuadrado  \\\n",
              "0                           0.0010                                   0.00002   \n",
              "1                           0.0004                                   0.00002   \n",
              "2                           0.0003                                   0.00002   \n",
              "3                           0.0002                                   0.00002   \n",
              "4                           0.0002                                   0.00002   \n",
              "\n",
              "   Incertidumbre Total  \n",
              "0                 0.03  \n",
              "1                 0.02  \n",
              "2                 0.02  \n",
              "3                 0.02  \n",
              "4                 0.02  "
            ]
          },
          "execution_count": 215,
          "metadata": {},
          "output_type": "execute_result"
        }
      ],
      "source": [
        "tabla_estadistica_muestras(tamaños_muestras=[5, 10, 15, 25, 30])"
      ]
    },
    {
      "cell_type": "markdown",
      "metadata": {
        "id": "JqSLxXTDb4yw"
      },
      "source": [
        "- **Conclusiones de la tabla estadísica:** A medida que el tamaño de la muestra aumenta, tanto la media como la incertidumbre estándar al cuadrado y la incertidumbre total tienden a disminuir, por otro lado, la desviación estándar de la muestra aumenta. Sin embargo, los cambios en estas medidas son muy pequeños, aun así, todos tienden a acercarse al valor estimado de la medida con incertidumbre total mencionado en el punto anterior, el cual fue de $T = (1.73 \\pm 0.02) \\space \\text{segundos}$"
      ]
    },
    {
      "cell_type": "markdown",
      "metadata": {
        "id": "uH-rdR25qBXI"
      },
      "source": [
        "3. Determinación de g:\n",
        "\n",
        "a) Use las mediciones directas de l y T para calcular el valor de la aceleración gravitacional en el\n",
        "laboratorio. Reporte su resultado haciendo el análisis de la incertidumbre por dos métodos:\n",
        "\n",
        "- Teoría elemental de la incertidumbre"
      ]
    },
    {
      "cell_type": "markdown",
      "metadata": {},
      "source": [
        "Utilizando la ecuación (2) para calcular la gravedad con la longitud del péndulo y su periodo calculado en el punto anterior, es decir, los valores más probables de longitud del péndulo y periodo"
      ]
    },
    {
      "cell_type": "code",
      "execution_count": 216,
      "metadata": {
        "colab": {
          "base_uri": "https://localhost:8080/"
        },
        "id": "6oNK_E80qslo",
        "outputId": "ac40b323-6cbd-4970-de61-ea75e80ed61d"
      },
      "outputs": [
        {
          "name": "stdout",
          "output_type": "stream",
          "text": [
            "Gravedad = 9.71 metros/segundo^2\n"
          ]
        }
      ],
      "source": [
        "#Definimos los valores para hallar g\n",
        "\n",
        "longitud_pendulo = 0.736 # Longitud en metros\n",
        "periodo_pendulo = 1.73 # Valor del perído calculado en el punto anterior\n",
        "\n",
        "# Calculando aceleración de gravedad\n",
        "\n",
        "gravedad_calculada = (4 * (np.pi ** 2) * longitud_pendulo) / periodo_pendulo ** 2\n",
        "\n",
        "print(f'Gravedad = {round(gravedad_calculada, 2)} metros/segundo^2')"
      ]
    },
    {
      "cell_type": "markdown",
      "metadata": {},
      "source": [
        "Incertidumbre analizando valores extremos"
      ]
    },
    {
      "cell_type": "code",
      "execution_count": 217,
      "metadata": {},
      "outputs": [
        {
          "name": "stdout",
          "output_type": "stream",
          "text": [
            "Incertidumbre por teoria elemental analizando valores extremos: 1.04\n"
          ]
        }
      ],
      "source": [
        "gravedad_minima = (4 * (np.pi ** 2) * longitud_pendulo) / (promedios_periodos.max().max() ** 2)\n",
        "gravedad_maxima = (4 * (np.pi ** 2) * longitud_pendulo) / (promedios_periodos.min().min() ** 2)\n",
        "\n",
        "incert_teoria_elemental = round((gravedad_maxima - gravedad_minima) / 2, 2)\n",
        "print(f'Incertidumbre por teoria elemental analizando valores extremos: {incert_teoria_elemental}')"
      ]
    },
    {
      "cell_type": "markdown",
      "metadata": {},
      "source": [
        "Así, la gravedad por teoría elemental de la incertidumbre quedaría:\n",
        "$$ g = (9.71 \\pm 1.02)\\space \\frac{m}{s^2}$$"
      ]
    },
    {
      "cell_type": "markdown",
      "metadata": {},
      "source": [
        "- Usando propagación por derivadas parciales de incertidumbres pequeñas."
      ]
    },
    {
      "cell_type": "markdown",
      "metadata": {},
      "source": [
        "$$\\Delta g = \\frac{\\partial g}{\\partial l}\\Big |_l \\cdot \\Delta l + \\frac{\\partial g}{\\partial T} \\Big |_T \\cdot \\Delta T$$\n",
        "\n",
        "así: $$\\Delta g = \\frac{4\\pi^2}{(1.73 s)^2}\\cdot(0.001 m) - \\frac{2\\pi^2(0.736 m)}{(1.73 s)} \\cdot(0.02s) = 0.15 \\frac{m}{s^2}$$\n",
        "\n",
        "Este error por derivadas parciales es mucho menos al obtenido en el método anterior por teoría elemental de la incertidumbre, esto debido a que en el proceso de medición hubo algunos errores lo cual hizo que el análisis de valores extremos en el literal anterior tuviera valores muy grandes debido a estas grandes diferencias. En conclusión, el método de derivadas parciales es más preciso al no tener en cuenta errores procedimentales tan significativos como los outliers de las mediciones."
      ]
    },
    {
      "cell_type": "markdown",
      "metadata": {},
      "source": [
        "b) ¿Podría afirmar que una de las variables presenta una incertidumbre dominante respecto a\n",
        "la otra en el contexto del análisis y propagación de la incertidumbre?\n",
        "\n",
        "La influencia del factor tiempo genera una incertidumbre significativamente mayor en comparación con la que proviene de la longitud, debido a que la magnitud de la expresión $ \\frac{\\partial g}{\\partial T} \\Big |_T \\cdot \\Delta T$ es significativamente mayor."
      ]
    },
    {
      "cell_type": "markdown",
      "metadata": {},
      "source": [
        "c) Calculando la gravedad en Medellín y el error relativo respecto a la medida calculada en el experimento del péndulo"
      ]
    },
    {
      "cell_type": "code",
      "execution_count": 219,
      "metadata": {},
      "outputs": [
        {
          "name": "stdout",
          "output_type": "stream",
          "text": [
            "El valor de la gravedad esperada es de: 9.78 metros/segundo^2\n",
            "Error relativo entre la medida esperada y la medida calculada: 0.75%\n"
          ]
        }
      ],
      "source": [
        "latitud = radians(6.2)\n",
        "altitud_sobre_mar = 1464\n",
        "A, B = 0.0053024, 0.0000058\n",
        "valor_esperado_gravedad = 9.780327 * (1 + (A * latitud) - (B * 2 * latitud)) - (3.086e-6 * altitud_sobre_mar)\n",
        "\n",
        "deltaX = (abs(valor_esperado_gravedad - gravedad_calculada) / valor_esperado_gravedad) * 100\n",
        "print(f'El valor de la gravedad esperada es de: {round(valor_esperado_gravedad, 2)} metros/segundo^2')\n",
        "print(f\"Error relativo entre la medida esperada y la medida calculada: {round(deltaX, 2)}%\")"
      ]
    },
    {
      "cell_type": "markdown",
      "metadata": {},
      "source": [
        "En general, se hizo una muy buena aproximación de la gravedad con el experimento del péndulo, el error sistemático en la medida de los periodos fue el causante de algunas discrepancias entre la medida calculada y la medida esperada, aun así, se hizo una aproximación muy representativa de la realidad física."
      ]
    }
  ],
  "metadata": {
    "colab": {
      "provenance": []
    },
    "kernelspec": {
      "display_name": "experimental_physics",
      "language": "python",
      "name": "python3"
    },
    "language_info": {
      "codemirror_mode": {
        "name": "ipython",
        "version": 3
      },
      "file_extension": ".py",
      "mimetype": "text/x-python",
      "name": "python",
      "nbconvert_exporter": "python",
      "pygments_lexer": "ipython3",
      "version": "3.11.2"
    },
    "orig_nbformat": 4
  },
  "nbformat": 4,
  "nbformat_minor": 0
}
