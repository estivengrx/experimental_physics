{
 "cells": [
  {
   "cell_type": "code",
   "execution_count": 43,
   "metadata": {},
   "outputs": [],
   "source": [
    "import pandas as pd\n",
    "import numpy as np\n",
    "import os"
   ]
  },
  {
   "cell_type": "markdown",
   "metadata": {},
   "source": [
    "Código para transformar los datos en formato .txt a .csv para el tratamiento con pandas"
   ]
  },
  {
   "cell_type": "code",
   "execution_count": 44,
   "metadata": {},
   "outputs": [],
   "source": [
    "# Ruta del directorio que contiene los archivos de texto\n",
    "ruta = 'D:/Estiven/Datos/Proyectos/fisica_experimental_lab/6.0-final-project-magnetic-field-detection'\n",
    "\n",
    "for archivo_txt in os.listdir(ruta):\n",
    "    if archivo_txt.endswith('.txt'):\n",
    "        # Obtener el nombre del archivo sin la extensión\n",
    "        nombre_archivo = os.path.splitext(archivo_txt)[0]\n",
    "        \n",
    "        # Leer el archivo CSV utilizando pandas\n",
    "        archivo = pd.read_csv(os.path.join(ruta, archivo_txt), encoding='latin-1')\n",
    "        \n",
    "        # Guardar el archivo CSV con el mismo nombre pero extensión '.csv'\n",
    "        archivo.to_csv(os.path.join(ruta, f'{nombre_archivo}.csv'), index=None)"
   ]
  },
  {
   "cell_type": "markdown",
   "metadata": {},
   "source": [
    "Función para transformar los datos y normalizar la base de datos"
   ]
  },
  {
   "cell_type": "code",
   "execution_count": 45,
   "metadata": {},
   "outputs": [],
   "source": [
    "def transformacion_columnas(ruta: str):\n",
    "    for archivo_csv in os.listdir(ruta):\n",
    "        if archivo_csv.endswith('.csv'):\n",
    "            nombre_archivo = os.path.splitext(archivo_csv)[0]\n",
    "            datos = pd.read_csv(archivo_csv, names=['estado_digital', 'valor_sensor', 'voltaje', 'campo_gauss', 'campo_militeslas'])\n",
    "\n",
    "            # Iterar sobre las columnas y aplicar una transformación a los valores\n",
    "            for columna in datos:\n",
    "                datos[columna] = datos[columna].apply(lambda x: x.split(':')[-1])\n",
    "\n",
    "            datos.to_csv(f'{ruta}/{nombre_archivo}.csv', index=None, sep=';')\n",
    "\n",
    "transformacion_columnas(ruta)"
   ]
  },
  {
   "cell_type": "code",
   "execution_count": 69,
   "metadata": {},
   "outputs": [
    {
     "data": {
      "text/html": [
       "<div>\n",
       "<style scoped>\n",
       "    .dataframe tbody tr th:only-of-type {\n",
       "        vertical-align: middle;\n",
       "    }\n",
       "\n",
       "    .dataframe tbody tr th {\n",
       "        vertical-align: top;\n",
       "    }\n",
       "\n",
       "    .dataframe thead th {\n",
       "        text-align: right;\n",
       "    }\n",
       "</style>\n",
       "<table border=\"1\" class=\"dataframe\">\n",
       "  <thead>\n",
       "    <tr style=\"text-align: right;\">\n",
       "      <th></th>\n",
       "      <th>estado_digital</th>\n",
       "      <th>valor_sensor</th>\n",
       "      <th>voltaje</th>\n",
       "      <th>campo_gauss</th>\n",
       "      <th>campo_militeslas</th>\n",
       "    </tr>\n",
       "  </thead>\n",
       "  <tbody>\n",
       "    <tr>\n",
       "      <th>0</th>\n",
       "      <td>0</td>\n",
       "      <td>531</td>\n",
       "      <td>259.531</td>\n",
       "      <td>0.00272</td>\n",
       "      <td>0.00027</td>\n",
       "    </tr>\n",
       "    <tr>\n",
       "      <th>1</th>\n",
       "      <td>0</td>\n",
       "      <td>533</td>\n",
       "      <td>260.508</td>\n",
       "      <td>0.00815</td>\n",
       "      <td>0.00081</td>\n",
       "    </tr>\n",
       "    <tr>\n",
       "      <th>2</th>\n",
       "      <td>0</td>\n",
       "      <td>537</td>\n",
       "      <td>262.463</td>\n",
       "      <td>0.01901</td>\n",
       "      <td>0.00190</td>\n",
       "    </tr>\n",
       "    <tr>\n",
       "      <th>3</th>\n",
       "      <td>0</td>\n",
       "      <td>547</td>\n",
       "      <td>267.351</td>\n",
       "      <td>0.04616</td>\n",
       "      <td>0.00462</td>\n",
       "    </tr>\n",
       "  </tbody>\n",
       "</table>\n",
       "</div>"
      ],
      "text/plain": [
       "   estado_digital  valor_sensor  voltaje  campo_gauss  campo_militeslas\n",
       "0               0           531  259.531      0.00272           0.00027\n",
       "1               0           533  260.508      0.00815           0.00081\n",
       "2               0           537  262.463      0.01901           0.00190\n",
       "3               0           547  267.351      0.04616           0.00462"
      ]
     },
     "execution_count": 69,
     "metadata": {},
     "output_type": "execute_result"
    }
   ],
   "source": [
    "datos_iman1 = pd.read_csv('datos_recolectados_iman4.csv', sep=';')\n",
    "datos_iman1"
   ]
  }
 ],
 "metadata": {
  "kernelspec": {
   "display_name": "Python 3",
   "language": "python",
   "name": "python3"
  },
  "language_info": {
   "codemirror_mode": {
    "name": "ipython",
    "version": 3
   },
   "file_extension": ".py",
   "mimetype": "text/x-python",
   "name": "python",
   "nbconvert_exporter": "python",
   "pygments_lexer": "ipython3",
   "version": "3.11.2"
  }
 },
 "nbformat": 4,
 "nbformat_minor": 2
}
