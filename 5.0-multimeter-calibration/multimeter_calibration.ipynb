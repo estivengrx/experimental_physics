{
 "cells": [
  {
   "cell_type": "markdown",
   "metadata": {},
   "source": [
    "<h1><b>Tarea 5: Calibración multímetro<b></h1>\n",
    "\n",
    "---\n",
    "<div align=\"right\">\n",
    "<font size=2>\n",
    "Estiven Castrillón Alzate<br>\n",
    "Instituto de Física<br>\n",
    "</font>\n",
    "</div>"
   ]
  },
  {
   "cell_type": "code",
   "execution_count": 1,
   "metadata": {},
   "outputs": [
    {
     "data": {
      "text/html": [
       "<div>\n",
       "<style scoped>\n",
       "    .dataframe tbody tr th:only-of-type {\n",
       "        vertical-align: middle;\n",
       "    }\n",
       "\n",
       "    .dataframe tbody tr th {\n",
       "        vertical-align: top;\n",
       "    }\n",
       "\n",
       "    .dataframe thead th {\n",
       "        text-align: right;\n",
       "    }\n",
       "</style>\n",
       "<table border=\"1\" class=\"dataframe\">\n",
       "  <thead>\n",
       "    <tr style=\"text-align: right;\">\n",
       "      <th></th>\n",
       "      <th>resistencia_0 (ohm)</th>\n",
       "      <th>resistencia_47 (ohm)</th>\n",
       "      <th>resistencia_330 (ohm)</th>\n",
       "    </tr>\n",
       "  </thead>\n",
       "  <tbody>\n",
       "    <tr>\n",
       "      <th>0</th>\n",
       "      <td>0.2</td>\n",
       "      <td>46.8</td>\n",
       "      <td>332.3</td>\n",
       "    </tr>\n",
       "    <tr>\n",
       "      <th>1</th>\n",
       "      <td>0.3</td>\n",
       "      <td>46.7</td>\n",
       "      <td>332.1</td>\n",
       "    </tr>\n",
       "    <tr>\n",
       "      <th>2</th>\n",
       "      <td>0.2</td>\n",
       "      <td>46.6</td>\n",
       "      <td>332.2</td>\n",
       "    </tr>\n",
       "    <tr>\n",
       "      <th>3</th>\n",
       "      <td>0.2</td>\n",
       "      <td>46.6</td>\n",
       "      <td>331.8</td>\n",
       "    </tr>\n",
       "    <tr>\n",
       "      <th>4</th>\n",
       "      <td>0.2</td>\n",
       "      <td>46.7</td>\n",
       "      <td>331.8</td>\n",
       "    </tr>\n",
       "  </tbody>\n",
       "</table>\n",
       "</div>"
      ],
      "text/plain": [
       "   resistencia_0 (ohm)  resistencia_47 (ohm)  resistencia_330 (ohm)\n",
       "0                  0.2                  46.8                  332.3\n",
       "1                  0.3                  46.7                  332.1\n",
       "2                  0.2                  46.6                  332.2\n",
       "3                  0.2                  46.6                  331.8\n",
       "4                  0.2                  46.7                  331.8"
      ]
     },
     "execution_count": 1,
     "metadata": {},
     "output_type": "execute_result"
    }
   ],
   "source": [
    "import pandas as pd\n",
    "import numpy as np\n",
    "\n",
    "# data = pd.read_csv('D:/Estiven/Datos/Proyectos/experimental_physics/5.0-multimeter-calibration/datos_resistencia_ohms.csv', \n",
    "#                    delimiter=';', usecols=['resistencia_0 (ohm)', 'resistencia_47 (ohm)', 'resistencia_330 (ohm)',])\n",
    "# data.to_json()\n",
    "\n",
    "# Importación de datos de calibración de resistencias\n",
    "data_json = '{\"resistencia_0 (ohm)\":{\"0\":0.2,\"1\":0.3,\"2\":0.2,\"3\":0.2,\"4\":0.2},\"resistencia_47 (ohm)\":{\"0\":46.8,\"1\":46.7,\"2\":46.6,\"3\":46.6,\"4\":46.7},\"resistencia_330 (ohm)\":{\"0\":332.3,\"1\":332.1,\"2\":332.2,\"3\":331.8,\"4\":331.8}}'\n",
    "data = pd.read_json(data_json)\n",
    "data"
   ]
  },
  {
   "cell_type": "markdown",
   "metadata": {},
   "source": [
    "b) \tCalcule el valor promedio $R_x$  y la incertidumbre estándar $α_x$"
   ]
  },
  {
   "cell_type": "code",
   "execution_count": 2,
   "metadata": {},
   "outputs": [
    {
     "name": "stdout",
     "output_type": "stream",
     "text": [
      "Promedios de los datos: \n",
      "resistencia_0 (ohm)        0.22\n",
      "resistencia_47 (ohm)      46.68\n",
      "resistencia_330 (ohm)    332.04\n",
      "dtype: float64\n",
      "\n",
      "Incertidumbres estándar de los datos: \n",
      "resistencia_0 (ohm)      0.02\n",
      "resistencia_47 (ohm)     0.04\n",
      "resistencia_330 (ohm)    0.10\n",
      "dtype: float64\n"
     ]
    }
   ],
   "source": [
    "medias = round(data.mean(), 2)\n",
    "incert_estandar = round(data.std() / np.sqrt(5), 2)\n",
    "\n",
    "# Reporte de promedios e incertidumbres estándar\n",
    "print(f'Promedios de los datos: \\n{medias}\\n')\n",
    "print(f'Incertidumbres estándar de los datos: \\n{incert_estandar}')"
   ]
  },
  {
   "cell_type": "markdown",
   "metadata": {},
   "source": [
    "3.\tCalcule el error en la medida según la siguiente expresión:\n",
    "$$E = (\\bar{R_x}+δR_x )-(R_0 +δR_x )-(R_p+δR_p ) \\tag{1}$$"
   ]
  },
  {
   "cell_type": "code",
   "execution_count": 3,
   "metadata": {},
   "outputs": [
    {
     "name": "stdout",
     "output_type": "stream",
     "text": [
      "Medida y error 0%: 0.2 ± 0.1\n",
      "Medida y error 10%: 46.7 ± 0.6\n",
      "Medida y error 90%: 332.0 ± 1.7\n"
     ]
    }
   ],
   "source": [
    "medias = round(data.mean(), 1)\n",
    "\n",
    "# Definición de variables para aplicar la fórmula (1)\n",
    "resolucion_multimetro = 0.1\n",
    "resolucion_resistencia = 0.0002\n",
    "valor_cero = 0.3\n",
    "tolerancia_resistencias = ['0%', '10%', '90%']\n",
    "valor_corregido_patron = [0, 47, 330]\n",
    "\n",
    "errores = []\n",
    "# Haciendo for sobre todos los valores necesarios y aplicando la fórmula (1)\n",
    "for promedio, valor_corregido, tolerancia in zip(medias, valor_corregido_patron, tolerancia_resistencias):\n",
    "    error = (promedio + resolucion_multimetro)  - (valor_cero + resolucion_multimetro) - (valor_corregido + resolucion_resistencia)\n",
    "    error = abs(round(error, 1))\n",
    "    errores.append(error)\n",
    "    \n",
    "    # Reporte de promedios y error\n",
    "    print(f'Medida y error {tolerancia}: {promedio} ± {error}')"
   ]
  },
  {
   "cell_type": "markdown",
   "metadata": {},
   "source": [
    "4.\tEstimación de otras incertidumbres, y de la incertidumbre combinada"
   ]
  },
  {
   "cell_type": "markdown",
   "metadata": {},
   "source": [
    "b) Incertidumbre instrumental del patrón $u(δR_p)$: debida a la tolerancia dada por el fabricante, supone una distribución rectangular.\n",
    "$u(δR_p)=\\frac{δR_p}{(2√3)}$\n"
   ]
  },
  {
   "cell_type": "code",
   "execution_count": 4,
   "metadata": {},
   "outputs": [
    {
     "data": {
      "text/plain": [
       "resistencia_0 (ohm)      0.00001\n",
       "resistencia_47 (ohm)     0.00270\n",
       "resistencia_330 (ohm)    0.01917\n",
       "dtype: float64"
      ]
     },
     "execution_count": 4,
     "metadata": {},
     "output_type": "execute_result"
    }
   ],
   "source": [
    "incert_resistencias_fab = medias * resolucion_resistencia\n",
    "round((incert_resistencias_fab / (2 * np.sqrt(3))), 5)"
   ]
  },
  {
   "cell_type": "markdown",
   "metadata": {},
   "source": [
    "c) Incertidumbre resolución multímetro $u(δR_x )$: se estima con una distribución rectangular."
   ]
  },
  {
   "cell_type": "code",
   "execution_count": 5,
   "metadata": {},
   "outputs": [
    {
     "data": {
      "text/plain": [
       "0.03"
      ]
     },
     "execution_count": 5,
     "metadata": {},
     "output_type": "execute_result"
    }
   ],
   "source": [
    "incert_resolucion_multi = resolucion_multimetro / (2 * np.sqrt(3))\n",
    "round(incert_resolucion_multi, 2)"
   ]
  },
  {
   "cell_type": "markdown",
   "metadata": {},
   "source": [
    "d) \tIncertidumbre combinada $u_c$: Es la suma en cuadratura de todas las incertidumbres. "
   ]
  },
  {
   "cell_type": "code",
   "execution_count": 6,
   "metadata": {},
   "outputs": [
    {
     "name": "stdout",
     "output_type": "stream",
     "text": [
      "Para 0%: 0.1\n",
      "Para 10%: 0.6\n",
      "Para 90%: 1.7\n"
     ]
    }
   ],
   "source": [
    "# Creación de un array de 3 valores con la resolución del multímetro\n",
    "incert_resolucion_multimetro = np.arange(0, 3)\n",
    "incert_resolucion_multimetro[:] = incert_resolucion_multi\n",
    "\n",
    "errores_comprimidos = zip(tolerancia_resistencias, errores, incert_resolucion_multimetro, incert_resistencias_fab)\n",
    "incertidumbres_combinadas = []\n",
    "\n",
    "# For para sacar la raíz cuadrada de la suma de la cuadratura de todas las incertidumbres\n",
    "for tolerancia, error, incert_multi, incert_res in errores_comprimidos:\n",
    "    incert_combinada = np.sqrt(error**2 + incert_multi**2 + incert_res**2)\n",
    "    incert_combinada = round(incert_combinada, 2)\n",
    "    incertidumbres_combinadas.append(incert_combinada)\n",
    "    print(f'Para {tolerancia}: {incert_combinada}')"
   ]
  },
  {
   "cell_type": "markdown",
   "metadata": {},
   "source": [
    "e) Incertidumbre expandida U: suponiendo una distribución normal reportar con una confiabilidad del 95 % la incertidumbre del numeral d."
   ]
  },
  {
   "cell_type": "code",
   "execution_count": 7,
   "metadata": {},
   "outputs": [
    {
     "name": "stdout",
     "output_type": "stream",
     "text": [
      "Para 0%: 0.2\n",
      "Para 10%: 1.2\n",
      "Para 90%: 3.4\n"
     ]
    }
   ],
   "source": [
    "incertidumbre_expandida = incertidumbres_combinadas\n",
    "incertidumbres_expandidas = []\n",
    "incert_expandida_zip = zip(tolerancia_resistencias, incertidumbres_combinadas)\n",
    "\n",
    "# Cálculo de incertidumbres expandidas\n",
    "for tolerancia, incertidumbre in incert_expandida_zip:\n",
    "    incertidumbres_expandidas.append(incertidumbre * 2)\n",
    "    print(f'Para {tolerancia}: {incertidumbre * 2}')"
   ]
  },
  {
   "cell_type": "markdown",
   "metadata": {},
   "source": [
    "5.\tReporte de las incertidumbres consideradas:"
   ]
  },
  {
   "cell_type": "markdown",
   "metadata": {},
   "source": [
    "Incertidumbre expandida para la tabla del punto 5"
   ]
  },
  {
   "cell_type": "code",
   "execution_count": 8,
   "metadata": {},
   "outputs": [
    {
     "data": {
      "text/plain": [
       "resistencia_0 (ohm)      0.0\n",
       "resistencia_47 (ohm)     0.9\n",
       "resistencia_330 (ohm)    1.4\n",
       "dtype: float64"
      ]
     },
     "execution_count": 8,
     "metadata": {},
     "output_type": "execute_result"
    }
   ],
   "source": [
    "abs(abs(medias - np.array(valor_corregido_patron)) - np.array(incertidumbres_expandidas))"
   ]
  }
 ],
 "metadata": {
  "kernelspec": {
   "display_name": "experimental_physics",
   "language": "python",
   "name": "python3"
  },
  "language_info": {
   "codemirror_mode": {
    "name": "ipython",
    "version": 3
   },
   "file_extension": ".py",
   "mimetype": "text/x-python",
   "name": "python",
   "nbconvert_exporter": "python",
   "pygments_lexer": "ipython3",
   "version": "3.11.2"
  },
  "orig_nbformat": 4
 },
 "nbformat": 4,
 "nbformat_minor": 2
}
