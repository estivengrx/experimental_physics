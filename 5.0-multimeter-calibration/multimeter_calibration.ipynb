{
 "cells": [
  {
   "cell_type": "code",
   "execution_count": 26,
   "metadata": {},
   "outputs": [
    {
     "data": {
      "text/html": [
       "<div>\n",
       "<style scoped>\n",
       "    .dataframe tbody tr th:only-of-type {\n",
       "        vertical-align: middle;\n",
       "    }\n",
       "\n",
       "    .dataframe tbody tr th {\n",
       "        vertical-align: top;\n",
       "    }\n",
       "\n",
       "    .dataframe thead th {\n",
       "        text-align: right;\n",
       "    }\n",
       "</style>\n",
       "<table border=\"1\" class=\"dataframe\">\n",
       "  <thead>\n",
       "    <tr style=\"text-align: right;\">\n",
       "      <th></th>\n",
       "      <th>resistencia_0 (ohm)</th>\n",
       "      <th>resistencia_47 (ohm)</th>\n",
       "      <th>resistencia_330 (ohm)</th>\n",
       "    </tr>\n",
       "  </thead>\n",
       "  <tbody>\n",
       "    <tr>\n",
       "      <th>0</th>\n",
       "      <td>0.2</td>\n",
       "      <td>46.8</td>\n",
       "      <td>332.3</td>\n",
       "    </tr>\n",
       "    <tr>\n",
       "      <th>1</th>\n",
       "      <td>0.3</td>\n",
       "      <td>46.7</td>\n",
       "      <td>332.1</td>\n",
       "    </tr>\n",
       "    <tr>\n",
       "      <th>2</th>\n",
       "      <td>0.2</td>\n",
       "      <td>46.6</td>\n",
       "      <td>332.2</td>\n",
       "    </tr>\n",
       "    <tr>\n",
       "      <th>3</th>\n",
       "      <td>0.2</td>\n",
       "      <td>46.6</td>\n",
       "      <td>331.8</td>\n",
       "    </tr>\n",
       "    <tr>\n",
       "      <th>4</th>\n",
       "      <td>0.2</td>\n",
       "      <td>46.7</td>\n",
       "      <td>331.8</td>\n",
       "    </tr>\n",
       "  </tbody>\n",
       "</table>\n",
       "</div>"
      ],
      "text/plain": [
       "   resistencia_0 (ohm)  resistencia_47 (ohm)  resistencia_330 (ohm)\n",
       "0                  0.2                  46.8                  332.3\n",
       "1                  0.3                  46.7                  332.1\n",
       "2                  0.2                  46.6                  332.2\n",
       "3                  0.2                  46.6                  331.8\n",
       "4                  0.2                  46.7                  331.8"
      ]
     },
     "execution_count": 26,
     "metadata": {},
     "output_type": "execute_result"
    }
   ],
   "source": [
    "import pandas as pd\n",
    "import numpy as np\n",
    "\n",
    "# data = pd.read_csv('D:/Estiven/Datos/Proyectos/experimental_physics/5.0-multimeter-calibration/datos_resistencia_ohms.csv', \n",
    "#                    delimiter=';', usecols=['resistencia_0 (ohm)', 'resistencia_47 (ohm)', 'resistencia_330 (ohm)',])\n",
    "# data.to_json()\n",
    "data_json = '{\"resistencia_0 (ohm)\":{\"0\":0.2,\"1\":0.3,\"2\":0.2,\"3\":0.2,\"4\":0.2},\"resistencia_47 (ohm)\":{\"0\":46.8,\"1\":46.7,\"2\":46.6,\"3\":46.6,\"4\":46.7},\"resistencia_330 (ohm)\":{\"0\":332.3,\"1\":332.1,\"2\":332.2,\"3\":331.8,\"4\":331.8}}'\n",
    "data = pd.read_json(data_json)\n",
    "data"
   ]
  },
  {
   "cell_type": "markdown",
   "metadata": {},
   "source": [
    "b) \tCalcule el valor promedio $R_x$  y la incertidumbre estándar $α_x$"
   ]
  },
  {
   "cell_type": "code",
   "execution_count": 42,
   "metadata": {},
   "outputs": [
    {
     "name": "stdout",
     "output_type": "stream",
     "text": [
      "Promedios de los datos: \n",
      "resistencia_0 (ohm)        0.2\n",
      "resistencia_47 (ohm)      46.7\n",
      "resistencia_330 (ohm)    332.0\n",
      "dtype: float64\n",
      "\n",
      "Incertidumbres estándar de los datos: \n",
      "resistencia_0 (ohm)      0.02\n",
      "resistencia_47 (ohm)     0.04\n",
      "resistencia_330 (ohm)    0.10\n",
      "dtype: float64\n"
     ]
    }
   ],
   "source": [
    "medias = round(data.mean(), 1)\n",
    "incert_estandar = round(data.std() / np.sqrt(5), 2)\n",
    "print(f'Promedios de los datos: \\n{medias}\\n')\n",
    "print(f'Incertidumbres estándar de los datos: \\n{incert_estandar}')"
   ]
  },
  {
   "cell_type": "markdown",
   "metadata": {},
   "source": [
    "3.\tCalcule el error en la medida según la siguiente expresión:\n",
    "$$E = (\\bar{R_x}+δR_x )-(R_0+δR_x )-(R_p+δR_p )$$"
   ]
  },
  {
   "cell_type": "code",
   "execution_count": 58,
   "metadata": {},
   "outputs": [
    {
     "data": {
      "text/plain": [
       "resistencia_0 (ohm)       -0.1002\n",
       "resistencia_47 (ohm)      46.3998\n",
       "resistencia_330 (ohm)    331.6998\n",
       "dtype: float64"
      ]
     },
     "execution_count": 58,
     "metadata": {},
     "output_type": "execute_result"
    }
   ],
   "source": [
    "resolucion_multimetro = 0.1\n",
    "valor_cero = 0.2\n",
    "valor_corregido_patron = 0.1\n",
    "resolucion_resistencia = 0.0002\n",
    "\n",
    "error = (medias + resolucion_multimetro) - (valor_cero + resolucion_multimetro) - (valor_corregido_patron + resolucion_resistencia)\n",
    "error"
   ]
  },
  {
   "cell_type": "markdown",
   "metadata": {},
   "source": [
    "4.\tEstimación de otras incertidumbres, y de la incertidumbre combinada"
   ]
  },
  {
   "cell_type": "markdown",
   "metadata": {},
   "source": [
    "b) Incertidumbre instrumental del patrón $u(δR_p)$: debida a la tolerancia dada por el fabricante, supone una distribución rectangular.\n",
    "$u(δR_p)=\\frac{δR_p}{(2√3)}$\n"
   ]
  },
  {
   "cell_type": "code",
   "execution_count": 63,
   "metadata": {},
   "outputs": [
    {
     "data": {
      "text/plain": [
       "0.0001"
      ]
     },
     "execution_count": 63,
     "metadata": {},
     "output_type": "execute_result"
    }
   ],
   "source": [
    "round((resolucion_resistencia / (2 * np.sqrt(3))), 4)"
   ]
  },
  {
   "cell_type": "markdown",
   "metadata": {},
   "source": [
    "c) Incertidumbre resolución multímetro $u(δR_x )$: se estima con una distribución rectangular."
   ]
  }
 ],
 "metadata": {
  "kernelspec": {
   "display_name": "experimental_physics",
   "language": "python",
   "name": "python3"
  },
  "language_info": {
   "codemirror_mode": {
    "name": "ipython",
    "version": 3
   },
   "file_extension": ".py",
   "mimetype": "text/x-python",
   "name": "python",
   "nbconvert_exporter": "python",
   "pygments_lexer": "ipython3",
   "version": "3.11.2"
  },
  "orig_nbformat": 4
 },
 "nbformat": 4,
 "nbformat_minor": 2
}
